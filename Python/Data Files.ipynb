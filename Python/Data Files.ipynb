{
 "cells": [
  {
   "cell_type": "markdown",
   "id": "3d0c05f8-5a16-4214-9345-7d337e4f4fdc",
   "metadata": {},
   "source": [
    "- Read --> \"r\"\n",
    "- Write --> \"W\"\n",
    "- Append --> \"a\"\n",
    "- read/write --> \"w+\""
   ]
  },
  {
   "cell_type": "code",
   "execution_count": 22,
   "id": "0e93be23-7cee-46c6-b7f1-6c784cc6b0d9",
   "metadata": {},
   "outputs": [],
   "source": [
    "#method 1: We have to specifically close the file\n",
    "f= open('file.txt','w')\n",
    "f.write(\"This is the content of my file\")\n",
    "f.close()"
   ]
  },
  {
   "cell_type": "code",
   "execution_count": 32,
   "id": "84102fb9-4dfc-4cef-8803-affd3d2dfd46",
   "metadata": {},
   "outputs": [],
   "source": [
    "#method 2: File will close automatically (recommended method)\n",
    "\n",
    "with open('file.txt','w') as f:\n",
    "    f.write(\"Now file wil automatically closed\") # this will override the content in in file if file exists"
   ]
  },
  {
   "cell_type": "code",
   "execution_count": 34,
   "id": "50a07919-5207-465a-abeb-ca8a139ec254",
   "metadata": {},
   "outputs": [],
   "source": [
    "#method 2: Append Method \n",
    "with open('file.txt','a') as f:\n",
    "    f.write(\"Nwow this line will get appended in thie file.'\\n this will get new line\") "
   ]
  },
  {
   "cell_type": "code",
   "execution_count": 36,
   "id": "3cb9b135-3c0f-470f-8d71-f2f3ed98c5fa",
   "metadata": {},
   "outputs": [
    {
     "name": "stdout",
     "output_type": "stream",
     "text": [
      "Now file wil automatically closedNwow this line will get appended in thie file.'\n",
      " this will get new line\n"
     ]
    }
   ],
   "source": [
    "#method 2: Append Method \n",
    "with open('file.txt','r') as f:\n",
    "    file_content= f.read()\n",
    "    print(file_content)"
   ]
  },
  {
   "cell_type": "raw",
   "id": "2fb152ba-73d4-4584-af09-77e4ddb3ee8b",
   "metadata": {},
   "source": [
    "#TasK: use mode =\"W+\" and write something in file first and then read the updated conent of the file "
   ]
  },
  {
   "cell_type": "code",
   "execution_count": 49,
   "id": "a6e0b76a-305b-4800-9a76-966f94d7c697",
   "metadata": {},
   "outputs": [
    {
     "name": "stdout",
     "output_type": "stream",
     "text": [
      "📖 File Content After Write:\n",
      " Hello, this is line 1.\n",
      "This is line 2.\n",
      "\n"
     ]
    }
   ],
   "source": [
    "# Task: Write and Read using mode \"w+\"\n",
    "with open(\"sample.txt\", \"w+\") as f:\n",
    "    f.write(\"Hello, this is line 1.\\n\")\n",
    "    f.write(\"This is line 2.\\n\")\n",
    "\n",
    "    # Step 2: Move cursor back to start\n",
    "    f.seek(0)\n",
    "\n",
    "    # Step 3: Read updated content\n",
    "    content = f.read()\n",
    "    print(\"📖 File Content After Write:\\n\", content)\n"
   ]
  },
  {
   "cell_type": "markdown",
   "id": "bb438b23-b286-4217-a881-096dba500a71",
   "metadata": {},
   "source": [
    "## Modules"
   ]
  },
  {
   "cell_type": "code",
   "execution_count": 54,
   "id": "a05051a6-99b2-400b-bdca-602feafa7889",
   "metadata": {},
   "outputs": [],
   "source": [
    "import module as m"
   ]
  },
  {
   "cell_type": "code",
   "execution_count": 55,
   "id": "d4f5e2dd-21d4-4fb1-8743-32e9a644acae",
   "metadata": {},
   "outputs": [
    {
     "data": {
      "text/plain": [
       "8"
      ]
     },
     "execution_count": 55,
     "metadata": {},
     "output_type": "execute_result"
    }
   ],
   "source": [
    "m.perform_add(3,5)"
   ]
  },
  {
   "cell_type": "code",
   "execution_count": 56,
   "id": "fe4e9375-441c-4317-ad43-cb4069a64408",
   "metadata": {},
   "outputs": [],
   "source": [
    "from module import perform_add as add"
   ]
  },
  {
   "cell_type": "code",
   "execution_count": 57,
   "id": "5d7fc1da-bae0-488a-91b4-55d91cb3c8b1",
   "metadata": {},
   "outputs": [
    {
     "data": {
      "text/plain": [
       "9"
      ]
     },
     "execution_count": 57,
     "metadata": {},
     "output_type": "execute_result"
    }
   ],
   "source": [
    "add(3,6)"
   ]
  },
  {
   "cell_type": "code",
   "execution_count": 59,
   "id": "1f13dfe8-dedb-4699-af64-e963d4d22cef",
   "metadata": {},
   "outputs": [
    {
     "ename": "NameError",
     "evalue": "name 'hello' is not defined",
     "output_type": "error",
     "traceback": [
      "\u001b[1;31m---------------------------------------------------------------------------\u001b[0m",
      "\u001b[1;31mNameError\u001b[0m                                 Traceback (most recent call last)",
      "Cell \u001b[1;32mIn[59], line 1\u001b[0m\n\u001b[1;32m----> 1\u001b[0m \u001b[38;5;28mprint\u001b[39m(hello)\n",
      "\u001b[1;31mNameError\u001b[0m: name 'hello' is not defined"
     ]
    }
   ],
   "source": [
    "print(hello)"
   ]
  },
  {
   "cell_type": "code",
   "execution_count": null,
   "id": "c25489e5-ad53-42b0-8248-cd6a261bf837",
   "metadata": {},
   "outputs": [],
   "source": []
  }
 ],
 "metadata": {
  "kernelspec": {
   "display_name": "Python 3 (ipykernel)",
   "language": "python",
   "name": "python3"
  },
  "language_info": {
   "codemirror_mode": {
    "name": "ipython",
    "version": 3
   },
   "file_extension": ".py",
   "mimetype": "text/x-python",
   "name": "python",
   "nbconvert_exporter": "python",
   "pygments_lexer": "ipython3",
   "version": "3.13.5"
  }
 },
 "nbformat": 4,
 "nbformat_minor": 5
}
