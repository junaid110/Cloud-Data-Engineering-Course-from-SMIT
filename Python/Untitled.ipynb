{
 "cells": [
  {
   "cell_type": "code",
   "execution_count": null,
   "id": "3d16cff8-d6b9-439a-9c7d-bd5e3f765de3",
   "metadata": {},
   "outputs": [],
   "source": []
  }
 ],
 "metadata": {
  "kernelspec": {
   "display_name": "",
   "name": ""
  },
  "language_info": {
   "name": ""
  }
 },
 "nbformat": 4,
 "nbformat_minor": 5
}
