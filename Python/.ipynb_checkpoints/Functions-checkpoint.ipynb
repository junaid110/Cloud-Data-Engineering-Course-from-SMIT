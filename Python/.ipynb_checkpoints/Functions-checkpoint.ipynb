{
 "cells": [
  {
   "cell_type": "code",
   "execution_count": 8,
   "id": "3af34ef3-8665-4988-b066-b4c6df991567",
   "metadata": {},
   "outputs": [],
   "source": [
    "def add_num (name, num1, num2=4):   #Function part 1 (paratmeerts+ default Parameters)\n",
    "    sum= num1+num2\n",
    "add_num(2,4)"
   ]
  },
  {
   "cell_type": "code",
   "execution_count": 22,
   "id": "3391401d-014a-462f-b65f-5f5fbea5968c",
   "metadata": {},
   "outputs": [
    {
     "name": "stdin",
     "output_type": "stream",
     "text": [
      "Enter Name: junaid\n",
      "Enter num1: 2\n",
      "Enter num1: 4\n"
     ]
    }
   ],
   "source": [
    "name=input(\"Enter Name:\")\n",
    "num1= int(input(\"Enter num1:\"))\n",
    "num2= int(input(\"Enter num1:\"))"
   ]
  },
  {
   "cell_type": "code",
   "execution_count": 23,
   "id": "c6b50fb6-aad9-4ff9-a8c8-5c2b018ca637",
   "metadata": {},
   "outputs": [],
   "source": [
    "add_num(name=name, num1=num1, num2=num2)"
   ]
  },
  {
   "cell_type": "code",
   "execution_count": 26,
   "id": "c7e26f02-4309-455f-865a-6fe46336e63f",
   "metadata": {},
   "outputs": [],
   "source": [
    "#** >> dict\n",
    "#* >> list\n",
    "def add_num (name, *nums):   #Function part 1 (Unkowns num of arguments)\n",
    "    print(name)\n",
    "    print(nums)"
   ]
  },
  {
   "cell_type": "code",
   "execution_count": 27,
   "id": "8989a001-ce20-4b0d-af17-0a3c9fe637ec",
   "metadata": {},
   "outputs": [
    {
     "name": "stdout",
     "output_type": "stream",
     "text": [
      "Qasim\n",
      "(4, 5, 6, 3, 4, 56)\n"
     ]
    }
   ],
   "source": [
    "add_num(\"Qasim\",4,5,6,3,4,56)"
   ]
  },
  {
   "cell_type": "code",
   "execution_count": 28,
   "id": "bfe130c5-34bc-4a58-b3cc-653b3ad5bb02",
   "metadata": {},
   "outputs": [],
   "source": [
    "#Task: Give me the sum of the values passed as unknows args to function ardfs\n",
    "#Task: Give me the sum of values passes as unknoqs args to function as kwargs\n"
   ]
  },
  {
   "cell_type": "code",
   "execution_count": 40,
   "id": "37d8736a-d599-42e7-8b36-744c3ec3aec5",
   "metadata": {},
   "outputs": [
    {
     "name": "stdout",
     "output_type": "stream",
     "text": [
      "Sum of (1, 2, 3): 6\n"
     ]
    }
   ],
   "source": [
    "def sum_unknown_args(*args):\n",
    "  total = 0\n",
    "  for num in args:         #method 1 using for loop\n",
    "    total += num\n",
    "  return total\n",
    "\n",
    "result = sum_unknown_args(1, 2, 3)\n",
    "print(f\"Sum of (1, 2, 3): {result}\")"
   ]
  },
  {
   "cell_type": "code",
   "execution_count": 37,
   "id": "a6fb054a-4630-48f0-884e-6e4641dc1424",
   "metadata": {},
   "outputs": [
    {
     "data": {
      "text/plain": [
       "37"
      ]
     },
     "execution_count": 37,
     "metadata": {},
     "output_type": "execute_result"
    }
   ],
   "source": [
    "sum_unknown_args(4,6,6,7,8,6)"
   ]
  },
  {
   "cell_type": "code",
   "execution_count": 48,
   "id": "ed3d5e28-9579-4466-8ea2-e1a82a365d7d",
   "metadata": {},
   "outputs": [
    {
     "ename": "TypeError",
     "evalue": "'int' object is not iterable",
     "output_type": "error",
     "traceback": [
      "\u001b[1;31m---------------------------------------------------------------------------\u001b[0m",
      "\u001b[1;31mTypeError\u001b[0m                                 Traceback (most recent call last)",
      "Cell \u001b[1;32mIn[48], line 3\u001b[0m\n\u001b[0;32m      1\u001b[0m \u001b[38;5;28;01mdef\u001b[39;00m\u001b[38;5;250m \u001b[39m\u001b[38;5;21msum_unknown_args\u001b[39m(\u001b[38;5;241m*\u001b[39margs):   \u001b[38;5;66;03m#method 2 using sum function\u001b[39;00m\n\u001b[0;32m      2\u001b[0m     \u001b[38;5;28mprint\u001b[39m(\u001b[38;5;124mf\u001b[39m\u001b[38;5;124m\"\u001b[39m\u001b[38;5;132;01m{\u001b[39;00m\u001b[38;5;28msum\u001b[39m(\u001b[38;5;241m*\u001b[39margs)\u001b[38;5;132;01m}\u001b[39;00m\u001b[38;5;124m\"\u001b[39m)\n\u001b[1;32m----> 3\u001b[0m sum_unknown_args(\u001b[38;5;241m4\u001b[39m,\u001b[38;5;241m5\u001b[39m)\n",
      "Cell \u001b[1;32mIn[48], line 2\u001b[0m, in \u001b[0;36msum_unknown_args\u001b[1;34m(*args)\u001b[0m\n\u001b[0;32m      1\u001b[0m \u001b[38;5;28;01mdef\u001b[39;00m\u001b[38;5;250m \u001b[39m\u001b[38;5;21msum_unknown_args\u001b[39m(\u001b[38;5;241m*\u001b[39margs):   \u001b[38;5;66;03m#method 2 using sum function\u001b[39;00m\n\u001b[1;32m----> 2\u001b[0m     \u001b[38;5;28mprint\u001b[39m(\u001b[38;5;124mf\u001b[39m\u001b[38;5;124m\"\u001b[39m\u001b[38;5;132;01m{\u001b[39;00m\u001b[38;5;28msum\u001b[39m(\u001b[38;5;241m*\u001b[39margs)\u001b[38;5;132;01m}\u001b[39;00m\u001b[38;5;124m\"\u001b[39m)\n",
      "\u001b[1;31mTypeError\u001b[0m: 'int' object is not iterable"
     ]
    }
   ],
   "source": [
    "def sum_unknown_args(*args):   #method 2 using sum function\n",
    "    print(f\"{sum(*args)}\")\n",
    "sum_unknown_args(4,5)"
   ]
  },
  {
   "cell_type": "code",
   "execution_count": 54,
   "id": "8adb0f7a-f9bc-4329-a89f-333dac10f0e6",
   "metadata": {},
   "outputs": [
    {
     "name": "stdout",
     "output_type": "stream",
     "text": [
      "Hyabdo: 6\n"
     ]
    }
   ],
   "source": [
    "#Task 2\n",
    "def sum_unknown_args(name,**nums):\n",
    "    total = 0\n",
    "    for num in nums.values():        \n",
    "        total += num\n",
    "    print(f\"{name}: {result}\")\n",
    "sum_unknown_args(\"Hyabdo\", num1=2,num3=4,num4=6)"
   ]
  },
  {
   "cell_type": "code",
   "execution_count": 58,
   "id": "e4bf78c3-0f72-4c7d-aac1-285e24894d0c",
   "metadata": {},
   "outputs": [
    {
     "name": "stdout",
     "output_type": "stream",
     "text": [
      "Hyabdo: 12\n"
     ]
    }
   ],
   "source": [
    "#Task 2 Method 2\n",
    "def sum_unknown_args(name,**nums):\n",
    "    print(f\"{name}: {sum(nums.values())}\")\n",
    "    \n",
    "sum_unknown_args(\"Hyabdo\", num1=2,num3=4,num4=6)"
   ]
  },
  {
   "cell_type": "markdown",
   "id": "ddd9550d-0d4e-4b87-baf3-becf505df0a0",
   "metadata": {},
   "source": [
    "## Function with in Functions"
   ]
  },
  {
   "cell_type": "markdown",
   "id": "c028f4cd-3a5a-4341-9611-8bfe56fdcb9f",
   "metadata": {},
   "source": [
    "-`Recursion AKA function with in function\n",
    "- Factorial: eg 7: 7x6x5x4x3x2x1\n",
    "-  Factorial of 0 or 1 == 1"
   ]
  },
  {
   "cell_type": "code",
   "execution_count": 63,
   "id": "0e716636-5ea2-4afb-920b-e4d302e14675",
   "metadata": {},
   "outputs": [
    {
     "name": "stdout",
     "output_type": "stream",
     "text": [
      "120\n"
     ]
    }
   ],
   "source": [
    "def factorial (n):\n",
    "    if(n==0 or n==1):\n",
    "        return 1\n",
    "    else:\n",
    "        return n*factorial(n-1)\n",
    "print(factorial(5))\n"
   ]
  },
  {
   "cell_type": "markdown",
   "id": "473f5a1f-be68-45c7-a812-bfa930a957b0",
   "metadata": {},
   "source": [
    "# While Loops"
   ]
  },
  {
   "cell_type": "code",
   "execution_count": null,
   "id": "97a18227-4c46-4cbf-9f28-502f11e2e47a",
   "metadata": {},
   "outputs": [],
   "source": [
    "while <condition>:\n",
    "    <body>    \n",
    "# Code block to be executed repeatedly\n",
    "# as long as the 'condition' is True\n",
    "# Indentation is crucial here"
   ]
  },
  {
   "cell_type": "code",
   "execution_count": null,
   "id": "c1990993-ab27-4808-8ce9-e71617487897",
   "metadata": {},
   "outputs": [],
   "source": [
    "#Steps: Ask a number input.\n",
    "#Initialize the result to 1.\n",
    "#Start a loop where you multiply the result by the target number.\n",
    "#Reduce one from the target number in each iteration.\n",
    "#End the loop once the target number reaches 1.\n",
    "    \n",
    "def factorial(n):\n",
    "    num = 1\n",
    "    while n >= 1:\n",
    "        num *=  n\n",
    "        n -= 1\n",
    "    return num"
   ]
  },
  {
   "cell_type": "code",
   "execution_count": null,
   "id": "26c19f12-97fd-4b6d-92d3-34071556e5a2",
   "metadata": {},
   "outputs": [],
   "source": [
    "f = factorial(4)\n",
    "f"
   ]
  },
  {
   "cell_type": "code",
   "execution_count": null,
   "id": "98e31eb6-148b-44e1-92eb-388e2c831be9",
   "metadata": {},
   "outputs": [],
   "source": [
    "user_input = \"Junaid\"\n",
    "while (user_input != \"quit\"):\n",
    "    print(user_input)\n",
    "    user_input = input(\"Enter input value:\")"
   ]
  },
  {
   "cell_type": "markdown",
   "id": "ffb953c8-970e-426e-9c32-1b76d1973136",
   "metadata": {},
   "source": [
    "### Lambda Function\n",
    "- Without Name\n",
    "- Never been called before or after\n",
    "- Syntax: lambda argument= expresson"
   ]
  },
  {
   "cell_type": "code",
   "execution_count": 67,
   "id": "d908bb86-7378-4845-8670-20db9c6587ef",
   "metadata": {},
   "outputs": [
    {
     "data": {
      "text/plain": [
       "10"
      ]
     },
     "execution_count": 67,
     "metadata": {},
     "output_type": "execute_result"
    }
   ],
   "source": [
    "(lambda x,y: x+y)(5,5)"
   ]
  },
  {
   "cell_type": "code",
   "execution_count": 79,
   "id": "a522fc46-3f19-4109-86f1-fb7665b20b6c",
   "metadata": {},
   "outputs": [],
   "source": [
    "#lambda <parameters>: <expression> (true if else false)\n",
    "\n",
    "criteria = lambda marks: \"Pass\" if marks >50 else \"Fail\""
   ]
  },
  {
   "cell_type": "code",
   "execution_count": 80,
   "id": "c43499ef-649c-4b87-92a7-24313d927972",
   "metadata": {},
   "outputs": [
    {
     "data": {
      "text/plain": [
       "'Fail'"
      ]
     },
     "execution_count": 80,
     "metadata": {},
     "output_type": "execute_result"
    }
   ],
   "source": [
    "criteria(2)"
   ]
  },
  {
   "cell_type": "code",
   "execution_count": null,
   "id": "535abbdc-4cd2-47ec-a957-628ef302b6b8",
   "metadata": {},
   "outputs": [],
   "source": []
  }
 ],
 "metadata": {
  "kernelspec": {
   "display_name": "Python 3 (ipykernel)",
   "language": "python",
   "name": "python3"
  },
  "language_info": {
   "codemirror_mode": {
    "name": "ipython",
    "version": 3
   },
   "file_extension": ".py",
   "mimetype": "text/x-python",
   "name": "python",
   "nbconvert_exporter": "python",
   "pygments_lexer": "ipython3",
   "version": "3.13.5"
  }
 },
 "nbformat": 4,
 "nbformat_minor": 5
}
