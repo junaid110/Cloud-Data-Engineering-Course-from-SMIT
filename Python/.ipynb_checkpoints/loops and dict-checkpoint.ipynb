{
 "cells": [
  {
   "cell_type": "markdown",
   "id": "422e44fb-a2f6-4762-92d0-112be20b574c",
   "metadata": {},
   "source": [
    "## Loops\n",
    "#### Loops are used for sequential traversal. For traversing list,string,tuple etc"
   ]
  },
  {
   "cell_type": "raw",
   "id": "d7ebf0df-1e12-4055-ac54-6b8a12fa02d6",
   "metadata": {},
   "source": [
    "synatx:\n",
    "-------\n",
    "for temp_var in itreateble([1,2,3,4,5]):\n",
    "    loop_body"
   ]
  },
  {
   "cell_type": "code",
   "execution_count": 1,
   "id": "fe9f9f84-4bb5-485f-8948-c5d0e28604a2",
   "metadata": {},
   "outputs": [
    {
     "name": "stdout",
     "output_type": "stream",
     "text": [
      "1\n",
      "2\n",
      "3\n",
      "4\n",
      "5\n"
     ]
    }
   ],
   "source": [
    "for temp in [1,2,3,4,5]:\n",
    "    print(temp)"
   ]
  },
  {
   "cell_type": "code",
   "execution_count": 2,
   "id": "7e6c317a-1ea5-43d1-8145-5e82dde5c53c",
   "metadata": {},
   "outputs": [
    {
     "name": "stdout",
     "output_type": "stream",
     "text": [
      "Qasim\n",
      "Hassan\n",
      "25\n",
      "25.5\n",
      "True\n"
     ]
    }
   ],
   "source": [
    "for temp in ('Qasim', 'Hassan', 25, 25.5, True):\n",
    "    print(temp)"
   ]
  },
  {
   "cell_type": "code",
   "execution_count": 3,
   "id": "13b99836-b1ce-4286-b0d4-93f28c0140ae",
   "metadata": {},
   "outputs": [
    {
     "name": "stdout",
     "output_type": "stream",
     "text": [
      "1\n",
      "2\n",
      "3\n",
      "4\n",
      "5\n",
      "a\n",
      "b\n"
     ]
    }
   ],
   "source": [
    "for temp in {1,2,3,4,5,'a', 'b'}:\n",
    "    print(temp)"
   ]
  },
  {
   "cell_type": "markdown",
   "id": "48fc8936-7dbf-4c07-bccb-4610b64b4828",
   "metadata": {},
   "source": [
    "## Range\n",
    "##### Range functions return a sequence of numbers, starting from 0 by default,and increments by 1 (By default)\n",
    "##### and stop before a specified numbers\n",
    "##### range(start, stop, step): This generates a sequence of numbers starting from start (inclusive) up to, but not including, the stop value. The numbers increment by the specified step value. The step can also be negative to count downwards."
   ]
  },
  {
   "cell_type": "code",
   "execution_count": 3,
   "id": "48e8399a-4044-4160-b5bb-12b2ccca286c",
   "metadata": {},
   "outputs": [
    {
     "name": "stdout",
     "output_type": "stream",
     "text": [
      "2\n",
      "4\n",
      "6\n",
      "8\n"
     ]
    }
   ],
   "source": [
    "for i in range(2,10,2):  #Even Numbers if want odd replace first 2 to 1\n",
    "    print(i)"
   ]
  },
  {
   "cell_type": "code",
   "execution_count": 5,
   "id": "f9cc56d0-1d3f-4217-9d82-f35dc779a1e3",
   "metadata": {},
   "outputs": [
    {
     "name": "stdin",
     "output_type": "stream",
     "text": [
      "Enter a number of which want to show the table: 5\n"
     ]
    },
    {
     "name": "stdout",
     "output_type": "stream",
     "text": [
      "5\n",
      "10\n",
      "15\n",
      "20\n",
      "25\n",
      "30\n",
      "35\n",
      "40\n",
      "45\n",
      "50\n"
     ]
    }
   ],
   "source": [
    "#Print the mutliplication table of n number\n",
    "\n",
    "n = int(input(\"Enter a number of which want to show the table:\"))\n",
    "\n",
    "for i in range(1,11):\n",
    "    print(n*i)"
   ]
  },
  {
   "cell_type": "code",
   "execution_count": 9,
   "id": "d0e49b0e-8067-45f1-b831-1b87113bbffc",
   "metadata": {},
   "outputs": [
    {
     "name": "stdin",
     "output_type": "stream",
     "text": [
      "Enter a number of which want sum: 5\n"
     ]
    },
    {
     "name": "stdout",
     "output_type": "stream",
     "text": [
      "Total Sum is: 15\n"
     ]
    }
   ],
   "source": [
    "# Find the sum of first N numbers (user input)\n",
    "n = int(input(\"Enter a number of which want sum:\"))\n",
    "\n",
    "sum = 0\n",
    "for i in range(n+1):\n",
    "    sum += i\n",
    "print(\"Total Sum is:\",sum)"
   ]
  },
  {
   "cell_type": "code",
   "execution_count": 13,
   "id": "058a48f6-8f2a-4de9-b5e8-9eff48efecd1",
   "metadata": {},
   "outputs": [
    {
     "name": "stdout",
     "output_type": "stream",
     "text": [
      "1\n",
      "2\n",
      "6\n",
      "24\n",
      "120\n"
     ]
    }
   ],
   "source": [
    "# find the factorial of first n number\n",
    "num = 5\n",
    "factorial = 1\n",
    "for i in range(1, n+1):\n",
    "    factorial *= i\n",
    "    print(factorial)"
   ]
  },
  {
   "attachments": {
    "42f591f6-0c65-4f36-8a4c-cd82845ff99b.png": {
     "image/png": "[encoded data removed]"
    }
   },
   "cell_type": "markdown",
   "id": "6ad93491-8b55-40cf-b253-f5b53d17113b",
   "metadata": {},
   "source": [
    "![image.png](attachment:42f591f6-0c65-4f36-8a4c-cd82845ff99b.png)"
   ]
  },
  {
   "cell_type": "code",
   "execution_count": 2,
   "id": "890c90d8-33a7-45de-860c-c49fa2ffc063",
   "metadata": {},
   "outputs": [],
   "source": [
    "wish = ['happy birthday',\n",
    "        'happy birthday',\n",
    "        'happy birthday',\n",
    "        'happy birthday',\n",
    "        'happy birthday'] # hardcoded"
   ]
  },
  {
   "cell_type": "code",
   "execution_count": 4,
   "id": "6eed19e4-9c78-4b89-8a6a-a3e6069a7a45",
   "metadata": {},
   "outputs": [
    {
     "name": "stdout",
     "output_type": "stream",
     "text": [
      "happy birthday\n",
      "happy birthday\n",
      "happy birthday\n",
      "happy birthday\n",
      "happy birthday\n"
     ]
    }
   ],
   "source": [
    "for temp in wish:\n",
    "    print(temp)"
   ]
  },
  {
   "cell_type": "code",
   "execution_count": 12,
   "id": "3fce9786-fa7a-49ff-ab78-df9f5e7ac2d7",
   "metadata": {},
   "outputs": [
    {
     "name": "stdout",
     "output_type": "stream",
     "text": [
      "0 happy birthday\n",
      "1 happy birthday\n",
      "2 happy birthday\n",
      "3 happy birthday\n",
      "4 happy birthday\n"
     ]
    }
   ],
   "source": [
    "for temp in range(5):\n",
    "    print(temp, 'happy birthday')"
   ]
  },
  {
   "cell_type": "code",
   "execution_count": 14,
   "id": "2c249c4b-bc8e-4152-81ae-5637b02c1eec",
   "metadata": {},
   "outputs": [
    {
     "name": "stdin",
     "output_type": "stream",
     "text": [
      "How many times you want to wish 'Happy Birthday':  5\n"
     ]
    },
    {
     "name": "stdout",
     "output_type": "stream",
     "text": [
      "0 happy birthday\n",
      "1 happy birthday\n",
      "2 happy birthday\n",
      "3 happy birthday\n",
      "4 happy birthday\n"
     ]
    }
   ],
   "source": [
    "times = int(input(\"How many times you want to wish 'Happy Birthday': \"))\n",
    "for temp in range(times): #dynamic\n",
    "    print(temp, 'happy birthday')"
   ]
  },
  {
   "attachments": {
    "e6abd21d-d095-475b-90ad-3ed60c6cc18e.png": {
     "image/png": "[encoded data removed]"
    }
   },
   "cell_type": "markdown",
   "id": "cdf4790d-1c76-4778-a6a3-dd5b8f2963fd",
   "metadata": {},
   "source": [
    "![image.png](attachment:e6abd21d-d095-475b-90ad-3ed60c6cc18e.png)"
   ]
  },
  {
   "cell_type": "code",
   "execution_count": 18,
   "id": "24bd3197-5a28-4c4e-88eb-02d18e78909b",
   "metadata": {},
   "outputs": [
    {
     "name": "stdin",
     "output_type": "stream",
     "text": [
      "Enter a number:  6\n"
     ]
    },
    {
     "name": "stdout",
     "output_type": "stream",
     "text": [
      "The first 6 terms of the series are: \n",
      "1\n",
      "4\n",
      "9\n",
      "16\n",
      "25\n",
      "36\n"
     ]
    }
   ],
   "source": [
    "num = int(input(\"Enter a number: \"))\n",
    "print(f\"The first {num} terms of the series are: \")\n",
    "for temp in range(num):\n",
    "    print((temp+1)**2)"
   ]
  },
  {
   "attachments": {
    "39b196c3-75c9-4da5-b8c3-92f2841a52d9.png": {
     "image/png": "[encoded data removed]"
    }
   },
   "cell_type": "markdown",
   "id": "049a9a0a-b53f-417a-adbe-044360456e35",
   "metadata": {},
   "source": [
    "![image.png](attachment:39b196c3-75c9-4da5-b8c3-92f2841a52d9.png)"
   ]
  },
  {
   "cell_type": "raw",
   "id": "eaa6fd57-317c-46d2-8159-5686577f8bb0",
   "metadata": {},
   "source": [
    "3 * 1 = 3\n",
    "3 * 2 = 6\n",
    "3 * 3 = 9\n",
    "\n",
    "1- Table whcih you want to print\n",
    "2- How many time the table product will be printed"
   ]
  },
  {
   "cell_type": "code",
   "execution_count": 19,
   "id": "d1417e2d-91f2-4c7b-92a0-6d1fc7f1a61a",
   "metadata": {},
   "outputs": [
    {
     "name": "stdin",
     "output_type": "stream",
     "text": [
      "Enter the number for table:  3\n",
      "How many time you want to print table 10\n"
     ]
    }
   ],
   "source": [
    "table = int(input(\"Enter the number for table: \"))\n",
    "times = int(input(\"How many time you want to print table\"))"
   ]
  },
  {
   "cell_type": "code",
   "execution_count": 20,
   "id": "3f9a65cc-7bb4-4335-a2b8-95f2b991f203",
   "metadata": {},
   "outputs": [
    {
     "name": "stdout",
     "output_type": "stream",
     "text": [
      "3 * 1 = 3\n",
      "3 * 2 = 6\n",
      "3 * 3 = 9\n",
      "3 * 4 = 12\n",
      "3 * 5 = 15\n",
      "3 * 6 = 18\n",
      "3 * 7 = 21\n",
      "3 * 8 = 24\n",
      "3 * 9 = 27\n",
      "3 * 10 = 30\n"
     ]
    }
   ],
   "source": [
    "for temp in range(times):\n",
    "    print(f\"{table} * {temp+1} = {table * (temp+1)}\")"
   ]
  },
  {
   "cell_type": "markdown",
   "id": "e3888969-34d0-4a5d-b1c2-e5b9bedb3797",
   "metadata": {},
   "source": [
    "Task: Print tables from 2 to 5 in such a way that every table print one time less than other."
   ]
  },
  {
   "cell_type": "code",
   "execution_count": 31,
   "id": "0e007c71-e2ee-4cbd-bfb2-f8f3542c99c8",
   "metadata": {},
   "outputs": [
    {
     "name": "stdin",
     "output_type": "stream",
     "text": [
      "From when we want to create table:  3\n",
      "till when we want to create tables:  7\n",
      "How many time syou wan to print table:  5\n"
     ]
    },
    {
     "name": "stdout",
     "output_type": "stream",
     "text": [
      "3 * 1 = 3\n",
      "3 * 2 = 6\n",
      "3 * 3 = 9\n",
      "3 * 4 = 12\n",
      "3 * 5 = 15\n",
      "4 * 1 = 4\n",
      "4 * 2 = 8\n",
      "4 * 3 = 12\n",
      "4 * 4 = 16\n",
      "5 * 1 = 5\n",
      "5 * 2 = 10\n",
      "5 * 3 = 15\n",
      "6 * 1 = 6\n",
      "6 * 2 = 12\n"
     ]
    }
   ],
   "source": [
    "start = int(input(\"From when we want to create table: \"))\n",
    "end = int(input(\"till when we want to create tables: \"))\n",
    "times = int(input(\"How many times you wan to print table: \"))\n",
    "\n",
    "for table in range(start,end):\n",
    "    for temp in range(times):\n",
    "        print(f\"{table} * {temp+1} = {table * (temp+1)}\")\n",
    "    times -=1"
   ]
  },
  {
   "cell_type": "code",
   "execution_count": 22,
   "id": "102c1f63-223d-47e8-9efc-c237c0518b9d",
   "metadata": {},
   "outputs": [
    {
     "name": "stdout",
     "output_type": "stream",
     "text": [
      "2 * 1 = 2\n",
      "2 * 2 = 4\n",
      "2 * 3 = 6\n",
      "2 * 4 = 8\n",
      "2 * 5 = 10\n",
      "2 * 6 = 12\n",
      "2 * 7 = 14\n",
      "2 * 8 = 16\n",
      "2 * 9 = 18\n",
      "2 * 10 = 20\n",
      "-----------\n",
      "3 * 1 = 3\n",
      "3 * 2 = 6\n",
      "3 * 3 = 9\n",
      "3 * 4 = 12\n",
      "3 * 5 = 15\n",
      "3 * 6 = 18\n",
      "3 * 7 = 21\n",
      "3 * 8 = 24\n",
      "3 * 9 = 27\n",
      "-----------\n",
      "4 * 1 = 4\n",
      "4 * 2 = 8\n",
      "4 * 3 = 12\n",
      "4 * 4 = 16\n",
      "4 * 5 = 20\n",
      "4 * 6 = 24\n",
      "4 * 7 = 28\n",
      "4 * 8 = 32\n",
      "-----------\n",
      "5 * 1 = 5\n",
      "5 * 2 = 10\n",
      "5 * 3 = 15\n",
      "5 * 4 = 20\n",
      "5 * 5 = 25\n",
      "5 * 6 = 30\n",
      "5 * 7 = 35\n",
      "-----------\n"
     ]
    }
   ],
   "source": [
    "num = 11\n",
    "for x in [2,3,4,5]:\n",
    "    for y in range(1,num):\n",
    "        print(f\"{x} * {y} = {x*y}\")\n",
    "    num-=1\n",
    "    print(f\"-----------\")      "
   ]
  },
  {
   "cell_type": "markdown",
   "id": "a79c3635-9132-4c65-905b-f32980b41f9b",
   "metadata": {},
   "source": [
    "## Dictionaries:"
   ]
  },
  {
   "cell_type": "markdown",
   "id": "99a803c5-79b3-4d1e-a0f2-7c591cacc14d",
   "metadata": {},
   "source": [
    "- Dictonaries are used to store data values in key:Value Pairs\n",
    "- They are unordered,mutable & dont allow duplicate keys"
   ]
  },
  {
   "cell_type": "code",
   "execution_count": 35,
   "id": "00304c69-c296-4d43-aadc-3d11285ae8a4",
   "metadata": {},
   "outputs": [],
   "source": [
    "bio_data = {\"f_name\": \"Qasim\",\n",
    "            \"l_name\": \"Hassan\",\n",
    "            \"age\": 18,\n",
    "            \"weight\": 21}"
   ]
  },
  {
   "cell_type": "code",
   "execution_count": 38,
   "id": "528e10fd-b915-4033-97a7-8fcc9f520930",
   "metadata": {},
   "outputs": [
    {
     "data": {
      "text/plain": [
       "(dict, 2255925976512)"
      ]
     },
     "execution_count": 38,
     "metadata": {},
     "output_type": "execute_result"
    }
   ],
   "source": [
    "type(bio_data), id(bio_data)"
   ]
  },
  {
   "cell_type": "code",
   "execution_count": 39,
   "id": "3cd8e621-3ecd-45c9-917c-5f1bac51b41d",
   "metadata": {},
   "outputs": [],
   "source": [
    "bio_data['is_present'] = True"
   ]
  },
  {
   "cell_type": "code",
   "execution_count": 44,
   "id": "3b3d4bbd-f22e-46a0-966b-7cfb0f43bf71",
   "metadata": {},
   "outputs": [
    {
     "data": {
      "text/plain": [
       "True"
      ]
     },
     "execution_count": 44,
     "metadata": {},
     "output_type": "execute_result"
    }
   ],
   "source": [
    "bio_data['is_present'] "
   ]
  },
  {
   "cell_type": "code",
   "execution_count": 40,
   "id": "c8278011-7f19-46ed-aa1d-a7c718f05e79",
   "metadata": {},
   "outputs": [
    {
     "data": {
      "text/plain": [
       "{'f_name': 'Qasim',\n",
       " 'l_name': 'Hassan',\n",
       " 'age': 18,\n",
       " 'weight': 21,\n",
       " 'is_present': True}"
      ]
     },
     "execution_count": 40,
     "metadata": {},
     "output_type": "execute_result"
    }
   ],
   "source": [
    "bio_data "
   ]
  },
  {
   "cell_type": "code",
   "execution_count": 47,
   "id": "864cdc40-98ef-4e2d-9f86-c5a5ca8a1737",
   "metadata": {},
   "outputs": [
    {
     "data": {
      "text/plain": [
       "dict_keys(['f_name', 'l_name', 'age', 'weight', 'is_present'])"
      ]
     },
     "execution_count": 47,
     "metadata": {},
     "output_type": "execute_result"
    }
   ],
   "source": [
    "bio_data.keys()  # Return All Keys"
   ]
  },
  {
   "cell_type": "code",
   "execution_count": 48,
   "id": "f6d7cea5-e796-4365-b046-ebfbed2dfb94",
   "metadata": {},
   "outputs": [
    {
     "data": {
      "text/plain": [
       "dict_values(['Qasim', 'Hassan', 18, 21, True])"
      ]
     },
     "execution_count": 48,
     "metadata": {},
     "output_type": "execute_result"
    }
   ],
   "source": [
    "bio_data.values() #Return All Values"
   ]
  },
  {
   "cell_type": "code",
   "execution_count": 49,
   "id": "f2961bb2-d03c-497d-874d-212a550bf5b6",
   "metadata": {},
   "outputs": [
    {
     "data": {
      "text/plain": [
       "dict_items([('f_name', 'Qasim'), ('l_name', 'Hassan'), ('age', 18), ('weight', 21), ('is_present', True)])"
      ]
     },
     "execution_count": 49,
     "metadata": {},
     "output_type": "execute_result"
    }
   ],
   "source": [
    "bio_data.items()  #Return all (key,value) pairs as a tuple"
   ]
  },
  {
   "cell_type": "code",
   "execution_count": 46,
   "id": "f2213e8b-d355-4db4-9087-346c352efe8f",
   "metadata": {},
   "outputs": [
    {
     "data": {
      "text/plain": [
       "('Qasim', None)"
      ]
     },
     "execution_count": 46,
     "metadata": {},
     "output_type": "execute_result"
    }
   ],
   "source": [
    "bio_data.get('f_name'), bio_data.get('cinc') #return the key according to value"
   ]
  },
  {
   "cell_type": "code",
   "execution_count": 55,
   "id": "27a30555-eb8b-43ba-85e6-b9f299f55292",
   "metadata": {},
   "outputs": [],
   "source": [
    "bio_data['f_name'] = 'Umair'"
   ]
  },
  {
   "cell_type": "code",
   "execution_count": 51,
   "id": "72df7ed5-a496-435d-a565-e866d7572d80",
   "metadata": {},
   "outputs": [
    {
     "data": {
      "text/plain": [
       "{'f_name': 'Umair',\n",
       " 'l_name': 'Hassan',\n",
       " 'age': 18,\n",
       " 'weight': 21,\n",
       " 'is_present': True}"
      ]
     },
     "execution_count": 51,
     "metadata": {},
     "output_type": "execute_result"
    }
   ],
   "source": [
    "bio_data"
   ]
  },
  {
   "cell_type": "markdown",
   "id": "d2e7b8b1-3d00-4d83-9c5d-079b3899a664",
   "metadata": {},
   "source": [
    "- pop() - gives a key and removes it\n",
    "- popitems() - required no arguemnts and returns a last key value in tuple form and remvoe it\n",
    "- setdefault() : reutrn a default value if the key not exsists \n",
    "- update() : mergeing"
   ]
  },
  {
   "cell_type": "code",
   "execution_count": 56,
   "id": "82c4a6af-af63-413a-8b4e-e03835a2b792",
   "metadata": {},
   "outputs": [],
   "source": [
    "first_name = bio_data.pop(\"f_name\")\n"
   ]
  },
  {
   "cell_type": "code",
   "execution_count": 60,
   "id": "98a92fcd-031a-453a-ba9a-c45db2ed5b82",
   "metadata": {},
   "outputs": [
    {
     "data": {
      "text/plain": [
       "('age', 18)"
      ]
     },
     "execution_count": 60,
     "metadata": {},
     "output_type": "execute_result"
    }
   ],
   "source": [
    "dict = {\"f_name\":\"Muhamamd\",\"l_name\":\"Yaseen\",\"age\":18}\n",
    "dict.popitem()"
   ]
  },
  {
   "cell_type": "code",
   "execution_count": 61,
   "id": "0e3e191e-c22b-4a12-804c-cd95b3ebf919",
   "metadata": {},
   "outputs": [
    {
     "data": {
      "text/plain": [
       "{'f_name': 'Muhamamd', 'l_name': 'Yaseen', 'blood_group': 'A'}"
      ]
     },
     "execution_count": 61,
     "metadata": {},
     "output_type": "execute_result"
    }
   ],
   "source": [
    "new_dict = {\"blood_group\":\"A\"}\n",
    "\n",
    "dict.update(new_dict)\n",
    "dict"
   ]
  },
  {
   "cell_type": "code",
   "execution_count": 64,
   "id": "be3bba8d-3edc-495f-8588-6d473ec842fc",
   "metadata": {},
   "outputs": [
    {
     "data": {
      "text/plain": [
       "'Muhamamd'"
      ]
     },
     "execution_count": 64,
     "metadata": {},
     "output_type": "execute_result"
    }
   ],
   "source": [
    "dict.setdefault(\"f_name\",\"unknown\")"
   ]
  },
  {
   "cell_type": "markdown",
   "id": "9aefb213-5497-496b-8d38-5ad13f184b21",
   "metadata": {},
   "source": [
    "## Dictionaries: The versatility of keys and values"
   ]
  },
  {
   "cell_type": "code",
   "execution_count": 65,
   "id": "495c82b0-543c-4022-aa1d-46cebde91599",
   "metadata": {},
   "outputs": [],
   "source": [
    "bio_data = {0: \"Qasim\",\n",
    "            1: \"Hassan\",\n",
    "            2: 18,\n",
    "            3: 21}"
   ]
  },
  {
   "cell_type": "code",
   "execution_count": 67,
   "id": "441912dc-0632-4024-b4ea-4cf368ddf11e",
   "metadata": {},
   "outputs": [
    {
     "data": {
      "text/plain": [
       "'Qasim'"
      ]
     },
     "execution_count": 67,
     "metadata": {},
     "output_type": "execute_result"
    }
   ],
   "source": [
    "bio_data[0]"
   ]
  },
  {
   "cell_type": "code",
   "execution_count": 68,
   "id": "e50ea078-06d9-4b64-a578-a38dcd221eda",
   "metadata": {},
   "outputs": [],
   "source": [
    "bio_data['is_present'] = True"
   ]
  },
  {
   "cell_type": "code",
   "execution_count": 69,
   "id": "930e0cbb-cc0d-4b9e-b258-434695da6398",
   "metadata": {},
   "outputs": [
    {
     "data": {
      "text/plain": [
       "{0: 'Qasim', 1: 'Hassan', 2: 18, 3: 21, 'is_present': True}"
      ]
     },
     "execution_count": 69,
     "metadata": {},
     "output_type": "execute_result"
    }
   ],
   "source": [
    "bio_data"
   ]
  },
  {
   "cell_type": "code",
   "execution_count": 70,
   "id": "30bfdee6-3ed5-46cc-8306-c3d398437f0e",
   "metadata": {},
   "outputs": [],
   "source": [
    "del(bio_data['is_present'])"
   ]
  },
  {
   "cell_type": "code",
   "execution_count": 71,
   "id": "cd51f1c5-a4f9-42dd-933d-83f87a649021",
   "metadata": {},
   "outputs": [
    {
     "data": {
      "text/plain": [
       "{0: 'Qasim', 1: 'Hassan', 2: 18, 3: 21}"
      ]
     },
     "execution_count": 71,
     "metadata": {},
     "output_type": "execute_result"
    }
   ],
   "source": [
    "bio_data"
   ]
  },
  {
   "cell_type": "markdown",
   "id": "7a8c1281-f5e5-4af8-8784-8cb51e656655",
   "metadata": {},
   "source": [
    "## Looping on dictionaries"
   ]
  },
  {
   "cell_type": "code",
   "execution_count": 75,
   "id": "b131c1d2-60c5-491f-bb8c-5beab02e37e0",
   "metadata": {},
   "outputs": [
    {
     "name": "stdout",
     "output_type": "stream",
     "text": [
      "0\n",
      "1\n",
      "2\n",
      "3\n"
     ]
    }
   ],
   "source": [
    "for temp in bio_data: # by default keys\n",
    "    print(temp)"
   ]
  },
  {
   "cell_type": "code",
   "execution_count": 76,
   "id": "7d1c9973-b482-4202-b2d3-ad61bafff1cd",
   "metadata": {},
   "outputs": [
    {
     "name": "stdout",
     "output_type": "stream",
     "text": [
      "Qasim\n",
      "Hassan\n",
      "18\n",
      "21\n"
     ]
    }
   ],
   "source": [
    "for temp in bio_data.values(): # only items\n",
    "    print(temp)"
   ]
  },
  {
   "cell_type": "code",
   "execution_count": 77,
   "id": "9da8fda8-db0c-495b-b96c-f8b12c544c72",
   "metadata": {},
   "outputs": [
    {
     "name": "stdout",
     "output_type": "stream",
     "text": [
      "(0, 'Qasim')\n",
      "(1, 'Hassan')\n",
      "(2, 18)\n",
      "(3, 21)\n"
     ]
    }
   ],
   "source": [
    "for temp in bio_data.items(): # by complete key value\n",
    "    print(temp)"
   ]
  },
  {
   "cell_type": "code",
   "execution_count": 78,
   "id": "87e0498d-5be7-4751-9e6e-3f048190739c",
   "metadata": {},
   "outputs": [
    {
     "name": "stdout",
     "output_type": "stream",
     "text": [
      "0 --> Qasim\n",
      "1 --> Hassan\n",
      "2 --> 18\n",
      "3 --> 21\n"
     ]
    }
   ],
   "source": [
    "for key, value in bio_data.items(): # by complete key value\n",
    "    print(f\"{key} --> {value}\")"
   ]
  }
 ],
 "metadata": {
  "kernelspec": {
   "display_name": "Python 3 (ipykernel)",
   "language": "python",
   "name": "python3"
  },
  "language_info": {
   "codemirror_mode": {
    "name": "ipython",
    "version": 3
   },
   "file_extension": ".py",
   "mimetype": "text/x-python",
   "name": "python",
   "nbconvert_exporter": "python",
   "pygments_lexer": "ipython3",
   "version": "3.13.5"
  }
 },
 "nbformat": 4,
 "nbformat_minor": 5
}
