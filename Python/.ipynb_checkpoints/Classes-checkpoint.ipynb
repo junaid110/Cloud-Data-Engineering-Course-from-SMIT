{
 "cells": [
  {
   "cell_type": "markdown",
   "id": "5fc005e1-797c-467f-99a3-e1db879b1e66",
   "metadata": {},
   "source": [
    "# Classes\n",
    "- Everything belongs to some specific **class**\n",
    "- Every class can have its **object**\n",
    "- Every class have its own **methods** "
   ]
  },
  {
   "cell_type": "markdown",
   "id": "97665ed2-2a62-4202-971d-8decb0ea697f",
   "metadata": {},
   "source": [
    "- Every class have two things\n",
    "1. Characteristics/Properties --> Attributes\n",
    "2. Behaviours/actions  -->> methods\n",
    "\n",
    "eg:\n",
    "- Characteristics eg: color, model, make_year\n",
    "- Behaviours: start, end\n"
   ]
  },
  {
   "cell_type": "code",
   "execution_count": 21,
   "id": "261eca64-e054-49d6-93f8-715f54128380",
   "metadata": {},
   "outputs": [],
   "source": [
    "class cars ():\n",
    "    def __init__(self,color,model,make_year): #Constructor\n",
    "        self.color = color\n",
    "        self.model = model\n",
    "        self.make_year = make_year\n",
    "\n",
    "    def start(self):  #Method\n",
    "        print(\"Car can start:\")\n",
    "        \"\"\"\n",
    "        Start Object Belongs to Class Car\n",
    "        arg: no argument\n",
    "        return: no return\n",
    "        \"\"\"\n",
    "        \n",
    "    def stop(self):   #Method\n",
    "        print(\"Car can stop:\")\n",
    "        \"\"\"\n",
    "        Start Object Belongs to Class Car\n",
    "        arg: no argument\n",
    "        return: no return\n",
    "        \"\"\""
   ]
  },
  {
   "cell_type": "code",
   "execution_count": 24,
   "id": "d82b3ab0-2733-451a-937b-11f602e695b5",
   "metadata": {},
   "outputs": [],
   "source": [
    "civic = cars(\"Black\",\"Honda\",2025) #Class Initialization/ Obj Creation"
   ]
  },
  {
   "cell_type": "code",
   "execution_count": 25,
   "id": "022b76fa-f123-4126-9eed-a6a0c981330f",
   "metadata": {},
   "outputs": [
    {
     "name": "stdout",
     "output_type": "stream",
     "text": [
      "<class '__main__.cars'>\n"
     ]
    }
   ],
   "source": [
    "print(type(civic))"
   ]
  },
  {
   "cell_type": "code",
   "execution_count": 26,
   "id": "6bbe527d-a2b9-4f2b-abcd-b551e1289a2c",
   "metadata": {},
   "outputs": [
    {
     "name": "stdout",
     "output_type": "stream",
     "text": [
      "Car can start:\n"
     ]
    }
   ],
   "source": [
    "civic.start()"
   ]
  },
  {
   "cell_type": "code",
   "execution_count": 40,
   "id": "924ef8ad-728d-4c72-bbb4-8dd14c6acbda",
   "metadata": {},
   "outputs": [],
   "source": [
    "class human():\n",
    "    def __init__(self,color,age,weight):\n",
    "        self.color = color\n",
    "        self.age = age\n",
    "        self.weight = weight\n",
    "\n",
    "    def speak(self):\n",
    "        print(\"Human Can Speak\")\n",
    "        \"\"\"\n",
    "        Start Object Belongs to Class Car\n",
    "        arg: no argument\n",
    "        return: no return\n",
    "        \n",
    "        \"\"\"\n",
    "\n",
    "    def watch(self):\n",
    "        print(\"Human Can watch\")\n",
    "        \"\"\"\n",
    "        Start Object Belongs to Class Car\n",
    "        arg:\n",
    "            no argument\n",
    "        return:\n",
    "            no return\n",
    "        \"\"\""
   ]
  },
  {
   "cell_type": "code",
   "execution_count": 41,
   "id": "0d61af10-94f1-41b3-8549-7621cd52df0a",
   "metadata": {},
   "outputs": [],
   "source": [
    "Junaid = human(\"Fair\",25,65) #Class Initialization/ Obj Creation"
   ]
  },
  {
   "cell_type": "code",
   "execution_count": 42,
   "id": "f1681fa4-2373-4205-b19b-5dae20ad5a23",
   "metadata": {},
   "outputs": [
    {
     "name": "stdout",
     "output_type": "stream",
     "text": [
      "Human Can watch\n"
     ]
    }
   ],
   "source": [
    "Junaid.watch()"
   ]
  },
  {
   "cell_type": "code",
   "execution_count": 43,
   "id": "0163d1db-7a3f-4d87-80d7-4bc289fbf58c",
   "metadata": {},
   "outputs": [
    {
     "name": "stdout",
     "output_type": "stream",
     "text": [
      "<class '__main__.human'>\n"
     ]
    }
   ],
   "source": [
    "print(type(Junaid))"
   ]
  },
  {
   "cell_type": "code",
   "execution_count": 36,
   "id": "69564f11-634b-4c47-87f3-fe88a9b2386c",
   "metadata": {},
   "outputs": [
    {
     "name": "stdout",
     "output_type": "stream",
     "text": [
      "Human Can Speak\n"
     ]
    }
   ],
   "source": [
    "Junaid.speak()"
   ]
  },
  {
   "cell_type": "code",
   "execution_count": 51,
   "id": "fa9db8d1-2c6f-4013-a4bc-8a706e96d8ad",
   "metadata": {},
   "outputs": [],
   "source": [
    "class BankAccount():\n",
    "    def __init__(self,name,balance):\n",
    "        self.name = name\n",
    "        self.balance = balance\n",
    "\n",
    "    def deposit(self):\n",
    "        \"\"\"\n",
    "        print(\"Please Deposit Amount\")\n",
    "        \n",
    "        \n",
    "        This Object Belongs to Class Bank Account\n",
    "        args:\n",
    "            no argument\n",
    "        return: \n",
    "            no return\n",
    "        \"\"\"\n",
    "\n",
    "    def withdrawal(self):\n",
    "        print(\"Please Withdraw Amount\")\n",
    "        \n",
    "        \"\"\"\n",
    "        This Object Belongs to Class Bank Account\n",
    "        arg:\n",
    "            no argument\n",
    "        return:\n",
    "            no return\n",
    "        \"\"\""
   ]
  },
  {
   "cell_type": "code",
   "execution_count": 61,
   "id": "3e4f0a3e-8f8a-49e4-824a-02c664afd2f2",
   "metadata": {},
   "outputs": [],
   "source": [
    "#Task Create a class of BankAccount in which two attributes (name,balance) & two methods Deposit & Withdrawal"
   ]
  },
  {
   "cell_type": "code",
   "execution_count": 56,
   "id": "57d20343-2e39-4fa6-af0f-65ef3ea8df6e",
   "metadata": {},
   "outputs": [],
   "source": [
    "class BankAccount:\n",
    "    def __init__(self, name, balance):\n",
    "        \"\"\"\n",
    "        Initialize a BankAccount object.\n",
    "        \n",
    "        Args:\n",
    "            name (str): Name of the account holder\n",
    "            balance (float): Initial account balance\n",
    "        \"\"\"\n",
    "        self.name = name\n",
    "        self.balance = balance\n",
    "\n",
    "    def deposit(self):\n",
    "        \"\"\"\n",
    "        Deposit money into the account.\n",
    "\n",
    "        Args:\n",
    "            None\n",
    "        Returns:\n",
    "            None\n",
    "        \"\"\"\n",
    "        print(\"Please Deposit Amount\")\n",
    "\n",
    "    def withdrawal(self):\n",
    "        \"\"\"\n",
    "        Withdraw money from the account.\n",
    "\n",
    "        Args:\n",
    "            None\n",
    "        Returns:\n",
    "            None\n",
    "        \"\"\"\n",
    "        print(\"Please Withdraw Amount\")\n"
   ]
  },
  {
   "cell_type": "code",
   "execution_count": 57,
   "id": "d7794523-7556-4c6b-9c76-7dc5aa8534ef",
   "metadata": {},
   "outputs": [],
   "source": [
    "obj = BankAccount (\"Junaid\", 56600)"
   ]
  },
  {
   "cell_type": "code",
   "execution_count": 58,
   "id": "86976b6f-f3b2-4cbe-a633-72ecb1e6231e",
   "metadata": {},
   "outputs": [
    {
     "data": {
      "text/plain": [
       "'Junaid'"
      ]
     },
     "execution_count": 58,
     "metadata": {},
     "output_type": "execute_result"
    }
   ],
   "source": [
    "obj.name"
   ]
  },
  {
   "cell_type": "code",
   "execution_count": 59,
   "id": "0882796f-7b06-4aed-8960-26d25d08192f",
   "metadata": {},
   "outputs": [
    {
     "data": {
      "text/plain": [
       "56600"
      ]
     },
     "execution_count": 59,
     "metadata": {},
     "output_type": "execute_result"
    }
   ],
   "source": [
    "obj.balance"
   ]
  },
  {
   "cell_type": "code",
   "execution_count": 60,
   "id": "95b03660-b33f-42f3-b1fa-6ea208cb64d5",
   "metadata": {},
   "outputs": [
    {
     "name": "stdout",
     "output_type": "stream",
     "text": [
      "Please Deposit Amount\n"
     ]
    }
   ],
   "source": [
    "obj.deposit()"
   ]
  },
  {
   "cell_type": "code",
   "execution_count": null,
   "id": "8b2c9a37-3611-4fd0-97aa-52bf96d0da6f",
   "metadata": {},
   "outputs": [],
   "source": [
    "obj.deposit(`)"
   ]
  },
  {
   "cell_type": "code",
   "execution_count": 63,
   "id": "4a747485-42e4-4c61-9b98-bb5b6e904c5a",
   "metadata": {},
   "outputs": [],
   "source": [
    "#13-025"
   ]
  },
  {
   "cell_type": "code",
   "execution_count": 172,
   "id": "fa636dd1-be66-4e19-90a4-a651a0e547af",
   "metadata": {},
   "outputs": [],
   "source": [
    "class saylani():\n",
    "    helpline = \"0900786015\" #Static class variable\n",
    "    obj_count = 0  #Dynamic Class Variable\n",
    "    def __init__(self, campus, staff_count,courses):\n",
    "        self.campus = campus\n",
    "        self.staff_count= staff_count\n",
    "        self.courses = courses\n",
    "        saylani.obj_count += 1\n",
    "\n",
    "    \n",
    "    def detail(self,courses):\n",
    "        print(f\"{self.campus} have {self.staff_count} and {self.courses} courses\")\n",
    "        course = map(lambda x:x,courses)  #Lambda func courses dubara return krega aur steric se wo listm convert hojayega\n",
    "        print(*course)\n",
    "\n",
    "    @staticmethod\n",
    "    def facilities():\n",
    "        print(\"Medical Also\")"
   ]
  },
  {
   "cell_type": "code",
   "execution_count": 164,
   "id": "9a3efd27-b3e1-4f71-aea1-8be95d798ce9",
   "metadata": {},
   "outputs": [],
   "source": [
    "obj = saylani(\"Malir\", 34,5)"
   ]
  },
  {
   "cell_type": "code",
   "execution_count": 165,
   "id": "a1a3083f-b988-4778-a077-23e6ec358113",
   "metadata": {},
   "outputs": [
    {
     "name": "stdout",
     "output_type": "stream",
     "text": [
      "Malir have 34 and 5 courses\n",
      "ZI. DE Web\n"
     ]
    }
   ],
   "source": [
    "obj.detail([\"ZI.\",\"DE\",\"Web\"])"
   ]
  },
  {
   "cell_type": "code",
   "execution_count": 166,
   "id": "9b9f1b49-a7bf-4ebb-ab0a-231f18bcbfa7",
   "metadata": {},
   "outputs": [
    {
     "data": {
      "text/plain": [
       "1"
      ]
     },
     "execution_count": 166,
     "metadata": {},
     "output_type": "execute_result"
    }
   ],
   "source": [
    "obj.obj_count"
   ]
  },
  {
   "cell_type": "code",
   "execution_count": 167,
   "id": "3539da2f-58fc-4904-a0fe-5039243b408a",
   "metadata": {},
   "outputs": [],
   "source": [
    "bahadurbad = saylani(\"Bahadurabad\",67,7)"
   ]
  },
  {
   "cell_type": "code",
   "execution_count": 168,
   "id": "e3951154-ec6b-4d0c-9a1b-9b91980974d9",
   "metadata": {},
   "outputs": [
    {
     "data": {
      "text/plain": [
       "2"
      ]
     },
     "execution_count": 168,
     "metadata": {},
     "output_type": "execute_result"
    }
   ],
   "source": [
    "bahadurbad.obj_count"
   ]
  },
  {
   "cell_type": "code",
   "execution_count": 169,
   "id": "0a365a1f-fe1d-4614-b34c-36c34b552553",
   "metadata": {},
   "outputs": [
    {
     "data": {
      "text/plain": [
       "7"
      ]
     },
     "execution_count": 169,
     "metadata": {},
     "output_type": "execute_result"
    }
   ],
   "source": [
    "bahadurbad.courses"
   ]
  },
  {
   "cell_type": "code",
   "execution_count": 170,
   "id": "942fee40-7881-4d9a-8a58-68b1942d5433",
   "metadata": {},
   "outputs": [],
   "source": [
    "#Static MEthods"
   ]
  },
  {
   "cell_type": "code",
   "execution_count": 171,
   "id": "af2f994e-1d0f-42c5-83da-b5862cef35fb",
   "metadata": {},
   "outputs": [
    {
     "name": "stdout",
     "output_type": "stream",
     "text": [
      "Medical Also\n"
     ]
    }
   ],
   "source": [
    "saylani.facilities()"
   ]
  },
  {
   "cell_type": "code",
   "execution_count": 221,
   "id": "68dd8e2e-521a-4b71-bc0a-885635ec226d",
   "metadata": {},
   "outputs": [],
   "source": [
    "class Cars:\n",
    "    manufacturer = \"Suzuki Motors\"  # public, global class variable\n",
    "    mileage = 0\n",
    "\n",
    "    def __init__(self, color, model, make_year):  # Constructor\n",
    "        self.color = color\n",
    "        self.model = model\n",
    "        self.make_year = make_year\n",
    "\n",
    "    def details(self):\n",
    "        print(f\"Color: {self.color}, Model: {self.model}, Make Year: {self.make_year}\")\n",
    "\n",
    "    def price(self):\n",
    "        print(f\"Price of this model: {self.model} is based on Make Year: {self.make_year}\")\n",
    "\n",
    "    @staticmethod\n",
    "    def company_info():   # Static Method\n",
    "        print(\"This class is about cars. All cars usually have 4 wheels.\")\n",
    "\n",
    "    @staticmethod\n",
    "    def calculate_mileage(num):   # Static Method\n",
    "        Cars.mileage += num\n",
    "        print(f\"Car Mileage: {Cars.mileage}\")\n"
   ]
  },
  {
   "cell_type": "code",
   "execution_count": 222,
   "id": "aacb9244-7afa-4d51-90dc-71c1be03a69a",
   "metadata": {},
   "outputs": [],
   "source": [
    "corolla = cars (\"White\",2024,2014)"
   ]
  },
  {
   "cell_type": "code",
   "execution_count": 223,
   "id": "1fcab3b1-7294-4f89-9741-eb7adf5c3005",
   "metadata": {},
   "outputs": [
    {
     "data": {
      "text/plain": [
       "'White'"
      ]
     },
     "execution_count": 223,
     "metadata": {},
     "output_type": "execute_result"
    }
   ],
   "source": [
    "corolla.color"
   ]
  },
  {
   "cell_type": "code",
   "execution_count": 224,
   "id": "4f88f8c9-2a0a-42a6-97d3-5d1ecdfb82e7",
   "metadata": {},
   "outputs": [
    {
     "name": "stdout",
     "output_type": "stream",
     "text": [
      "Color:White, Model:2024,Make Year: 2014\n"
     ]
    }
   ],
   "source": [
    "corolla.details()"
   ]
  },
  {
   "cell_type": "code",
   "execution_count": 225,
   "id": "80e2adc0-9442-45b0-a620-108581ce570f",
   "metadata": {},
   "outputs": [
    {
     "name": "stdout",
     "output_type": "stream",
     "text": [
      "Price of this model: 2024 is based on Make Year: 2014\n"
     ]
    }
   ],
   "source": [
    "corolla.price()"
   ]
  },
  {
   "cell_type": "code",
   "execution_count": 226,
   "id": "59995e3f-71d7-4768-940f-8d4c1a2ad21c",
   "metadata": {},
   "outputs": [
    {
     "data": {
      "text/plain": [
       "'Suzuki Motors'"
      ]
     },
     "execution_count": 226,
     "metadata": {},
     "output_type": "execute_result"
    }
   ],
   "source": [
    "corolla.manufacturer"
   ]
  },
  {
   "cell_type": "code",
   "execution_count": 227,
   "id": "592c5c25-4c9e-4ba4-b6d3-edcf48efcd05",
   "metadata": {},
   "outputs": [
    {
     "name": "stdout",
     "output_type": "stream",
     "text": [
      "This class is about cars. All cars usually have 4 wheels.\n"
     ]
    }
   ],
   "source": [
    "corolla.company_info()"
   ]
  },
  {
   "cell_type": "code",
   "execution_count": 229,
   "id": "be3068c0-48bd-4ea5-9e54-9471236b2872",
   "metadata": {},
   "outputs": [
    {
     "name": "stdout",
     "output_type": "stream",
     "text": [
      "Car Mileage: 45\n",
      "Car Mileage: 75\n"
     ]
    }
   ],
   "source": [
    "Cars.calculate_mileage(45)   # ✅ Output: Car Mileage: 45\n",
    "Cars.calculate_mileage(30)   # ✅ Output: Car Mileage: 75"
   ]
  },
  {
   "cell_type": "code",
   "execution_count": 230,
   "id": "c1e9859c-e2ba-4845-954c-2e3c7b7a5652",
   "metadata": {},
   "outputs": [
    {
     "name": "stdout",
     "output_type": "stream",
     "text": [
      "Car Mileage: 531\n"
     ]
    }
   ],
   "source": [
    "Cars.calculate_mileage(456)  \n"
   ]
  },
  {
   "cell_type": "code",
   "execution_count": null,
   "id": "b10fd724-a06c-4743-8d32-159b9f2a6d96",
   "metadata": {},
   "outputs": [],
   "source": []
  },
  {
   "cell_type": "code",
   "execution_count": null,
   "id": "afe4c58d-ec1b-40e3-8c9f-c77239fba36d",
   "metadata": {},
   "outputs": [],
   "source": []
  }
 ],
 "metadata": {
  "kernelspec": {
   "display_name": "Python 3 (ipykernel)",
   "language": "python",
   "name": "python3"
  },
  "language_info": {
   "codemirror_mode": {
    "name": "ipython",
    "version": 3
   },
   "file_extension": ".py",
   "mimetype": "text/x-python",
   "name": "python",
   "nbconvert_exporter": "python",
   "pygments_lexer": "ipython3",
   "version": "3.13.5"
  }
 },
 "nbformat": 4,
 "nbformat_minor": 5
}
