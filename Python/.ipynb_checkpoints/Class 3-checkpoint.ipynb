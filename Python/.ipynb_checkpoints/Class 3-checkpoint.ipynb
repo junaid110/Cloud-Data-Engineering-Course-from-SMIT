{
 "cells": [
  {
   "cell_type": "markdown",
   "id": "5fe6a478-d835-4d65-abe3-54a938af6d33",
   "metadata": {},
   "source": [
    "##  Shortcuts for Jupyter Notebook"
   ]
  },
  {
   "cell_type": "raw",
   "id": "f7d9f8b3-315b-46f1-ab53-7fa7a3b5429f",
   "metadata": {},
   "source": [
    "ESC + M = Markdown (convert cell into mark down)\n",
    "ESC + R = Raw      (convert cell into raw)\n",
    "ESC + Y = Code      (convert cell into code)\n",
    "ESC +A (to create cell above the present cell)\n",
    "ESC +DD (to delete the cell on which you are present)\n",
    "Shift + Enter (to run the cell and go to next cell)\n",
    "CTRL + Enter (to run the cell and stay in same cell)\n",
    "CTR+ Shift+ H(to get all jupyter noteboook shortcuts"
   ]
  },
  {
   "cell_type": "markdown",
   "id": "8d670ee4-40f7-4639-81c0-bbd38dc16489",
   "metadata": {},
   "source": [
    "# Variables"
   ]
  },
  {
   "cell_type": "code",
   "execution_count": 16,
   "id": "86848d67-3b3c-4911-afd1-014a6feb5abd",
   "metadata": {},
   "outputs": [
    {
     "name": "stdout",
     "output_type": "stream",
     "text": [
      "Junaid Abbas\n",
      "29\n",
      "58.6\n",
      "True\n"
     ]
    }
   ],
   "source": [
    "name = \"Junaid Abbas\" ## String##\n",
    "age = 29              ## Integer##\n",
    "weight= 58.6          ## Float##\n",
    "present= True         ##Bool##\n",
    "\n",
    "print(name)\n",
    "\n",
    "print(age)\n",
    "\n",
    "print(weight)\n",
    "print(present)\n",
    "\n"
   ]
  },
  {
   "cell_type": "code",
   "execution_count": 19,
   "id": "86549140-725b-4220-8eb2-8c37344a7cd0",
   "metadata": {},
   "outputs": [
    {
     "name": "stdout",
     "output_type": "stream",
     "text": [
      "<class 'str'>\n",
      "<class 'int'>\n",
      "<class 'float'>\n",
      "<class 'bool'>\n"
     ]
    },
    {
     "data": {
      "text/plain": [
       "2506579997232"
      ]
     },
     "execution_count": 19,
     "metadata": {},
     "output_type": "execute_result"
    }
   ],
   "source": [
    "#additoinal stuff\n",
    "# 1. Type() to give you the type of variables\n",
    "#2.  id() to give you the address of variables\n",
    "print(type(name))\n",
    "print(type(age))\n",
    "print(type(weight))\n",
    "print(type(present))\n",
    "id(name)"
   ]
  },
  {
   "cell_type": "markdown",
   "id": "762d9757-db40-4490-8bf7-03307bfc8f56",
   "metadata": {},
   "source": [
    "# Operators"
   ]
  },
  {
   "cell_type": "code",
   "execution_count": 22,
   "id": "8f71a110-bdb2-432a-b419-55911d288b08",
   "metadata": {},
   "outputs": [
    {
     "data": {
      "text/plain": [
       "379"
      ]
     },
     "execution_count": 22,
     "metadata": {},
     "output_type": "execute_result"
    }
   ],
   "source": [
    "34+345"
   ]
  },
  {
   "cell_type": "code",
   "execution_count": 23,
   "id": "2aceef99-78b3-489c-8d5d-4778dddcfd0e",
   "metadata": {},
   "outputs": [
    {
     "data": {
      "text/plain": [
       "2"
      ]
     },
     "execution_count": 23,
     "metadata": {},
     "output_type": "execute_result"
    }
   ],
   "source": [
    "\n",
    "5//2"
   ]
  },
  {
   "cell_type": "code",
   "execution_count": 24,
   "id": "2c93d459-926d-4d12-95b1-67fc43f947fc",
   "metadata": {},
   "outputs": [
    {
     "data": {
      "text/plain": [
       "8"
      ]
     },
     "execution_count": 24,
     "metadata": {},
     "output_type": "execute_result"
    }
   ],
   "source": [
    "2**3 #Power 2*2*2"
   ]
  },
  {
   "cell_type": "markdown",
   "id": "7c292ae1-cf37-45d2-9ee6-da346255a101",
   "metadata": {},
   "source": [
    "# Expressions"
   ]
  },
  {
   "cell_type": "markdown",
   "id": "af6cce44-01f0-4370-9533-b1d619de0389",
   "metadata": {},
   "source": [
    "#### -->  PEMDAS\n",
    "Paranthesis,\n",
    "Exponential, \n",
    "Multiplicatio, \n",
    "Division, \n",
    "Addition, \n",
    "Subtraction"
   ]
  },
  {
   "cell_type": "raw",
   "id": "371c9382-50de-4283-a5d4-152169fbac9f",
   "metadata": {},
   "source": [
    "= (2-3)-(4-3)-4/5\n",
    "= -1-1-0.8\n",
    "= -2.8"
   ]
  },
  {
   "cell_type": "raw",
   "id": "9c257912-6c4d-45dd-951f-bca81acadcc9",
   "metadata": {},
   "source": [
    "= (((4+5)**2)*4)/5+(3-2)\n",
    "= ((9**2)*4)/5+1 Solve nested P\n",
    "= (81*4)/5+1\n",
    "= 325/5+1\n",
    "= 64.8+1\n",
    "= 65.8 "
   ]
  },
  {
   "cell_type": "markdown",
   "id": "fb2921a2-c5aa-42c0-81a1-3dfdf9bcf828",
   "metadata": {},
   "source": [
    "# Advance Operators"
   ]
  },
  {
   "cell_type": "raw",
   "id": "cbd2e748-b01f-4d5c-b551-2623db125ea2",
   "metadata": {},
   "source": [
    "= +=\n",
    "= -=\n",
    "= /=\n",
    "= *=\n",
    "= >\n",
    "= <\n",
    "= >=\n",
    "= <=\n",
    "= != #not equal to\n",
    "= (initializing Operator)"
   ]
  },
  {
   "cell_type": "markdown",
   "id": "9a9898ba-46bd-446f-a0a6-ac71f6d41d4c",
   "metadata": {},
   "source": [
    "## Concatenating Text Strings"
   ]
  },
  {
   "cell_type": "code",
   "execution_count": 33,
   "id": "b5311f95-4dcc-41a7-b052-b671190d8e79",
   "metadata": {},
   "outputs": [
    {
     "name": "stdout",
     "output_type": "stream",
     "text": [
      " Junaid Hassan\n"
     ]
    }
   ],
   "source": [
    "f_name= \"Junaid\"\n",
    "l_name= \"Hassan\"\n",
    "\n",
    "full_name= f_name + \" \"+ l_name #using operator\n",
    "print(full_name)"
   ]
  },
  {
   "cell_type": "code",
   "execution_count": 34,
   "id": "036fcb7f-9a90-4efc-9485-313ddc3d97dd",
   "metadata": {},
   "outputs": [
    {
     "name": "stdout",
     "output_type": "stream",
     "text": [
      " Junaid Hassan\n"
     ]
    }
   ],
   "source": [
    "full_name = f\" {f_name} {l_name}\"\n",
    "print(full_name)            #using fstring"
   ]
  },
  {
   "cell_type": "code",
   "execution_count": 5,
   "id": "6341b4f2-53a0-4051-b1cd-595e07da955a",
   "metadata": {},
   "outputs": [
    {
     "name": "stdout",
     "output_type": "stream",
     "text": [
      "Junaid Hassan\n"
     ]
    }
   ],
   "source": [
    "full_name = \"{0} {1}\".format(f_name,l_name) #using.format\n",
    "print(full_name) "
   ]
  },
  {
   "cell_type": "markdown",
   "id": "d9e4c16f-ff34-4409-a7d4-9eb6e7a34368",
   "metadata": {},
   "source": [
    "## Q: create a string using all formatting methods that print your first name and last name with some extra added sentence that describe you"
   ]
  },
  {
   "cell_type": "code",
   "execution_count": 26,
   "id": "4b61a3a2-9c9e-46a8-b221-0680c4650ce9",
   "metadata": {},
   "outputs": [
    {
     "ename": "NameError",
     "evalue": "name 'm_name' is not defined",
     "output_type": "error",
     "traceback": [
      "\u001b[1;31m---------------------------------------------------------------------------\u001b[0m",
      "\u001b[1;31mNameError\u001b[0m                                 Traceback (most recent call last)",
      "Cell \u001b[1;32mIn[26], line 3\u001b[0m\n\u001b[0;32m      1\u001b[0m f_name\u001b[38;5;241m=\u001b[39m \u001b[38;5;124m\"\u001b[39m\u001b[38;5;124mJunaid\u001b[39m\u001b[38;5;124m\"\u001b[39m  \u001b[38;5;66;03m#using \u001b[39;00m\n\u001b[0;32m      2\u001b[0m l_name\u001b[38;5;241m=\u001b[39m \u001b[38;5;124m\"\u001b[39m\u001b[38;5;124mHassan\u001b[39m\u001b[38;5;124m\"\u001b[39m\n\u001b[1;32m----> 3\u001b[0m m_name\u001b[38;5;241m-\u001b[39m \u001b[38;5;124m\"\u001b[39m\u001b[38;5;124mAbbas\u001b[39m\u001b[38;5;124m\"\u001b[39m\n\u001b[0;32m      4\u001b[0m \u001b[38;5;124m\"\u001b[39m\u001b[38;5;124m\"\u001b[39m\n\u001b[0;32m      5\u001b[0m full_name \u001b[38;5;241m=\u001b[39m \u001b[38;5;124m\"\u001b[39m\u001b[38;5;124mMy Name is \u001b[39m\u001b[38;5;124m\"\u001b[39m \u001b[38;5;241m+\u001b[39m f_name \u001b[38;5;241m+\u001b[39m \u001b[38;5;124m\"\u001b[39m\u001b[38;5;124m \u001b[39m\u001b[38;5;124m\"\u001b[39m\u001b[38;5;241m+\u001b[39m m_name\u001b[38;5;241m+\u001b[39m\u001b[38;5;124m\"\u001b[39m\u001b[38;5;124m \u001b[39m\u001b[38;5;124m\"\u001b[39m \u001b[38;5;241m+\u001b[39m  l_name \u001b[38;5;241m+\u001b[39m \u001b[38;5;124m\"\u001b[39m\u001b[38;5;124m & I am learning Cloud Data Engineering from SMIT\u001b[39m\u001b[38;5;124m\"\u001b[39m\n",
      "\u001b[1;31mNameError\u001b[0m: name 'm_name' is not defined"
     ]
    }
   ],
   "source": [
    "f_name= \"Junaid\"  #using \n",
    "l_name= \"Hassan\"\n",
    "m_name- \"Abbas\"\n",
    "\"\"\n",
    "full_name = \"My Name is \" + f_name + \" \"+ m_name+\" \" +  l_name + \" & I am learning Cloud Data Engineering from SMIT\"\n",
    "\n",
    "print(full_name)"
   ]
  },
  {
   "cell_type": "code",
   "execution_count": 11,
   "id": "2157e842-7ba1-43fc-8c48-3d2f94e0a991",
   "metadata": {},
   "outputs": [
    {
     "name": "stdout",
     "output_type": "stream",
     "text": [
      " My name is  Junaid Hassan I am learning Cloud Data Engineering from SMIT\n"
     ]
    }
   ],
   "source": [
    "f_name= \"Junaid\"\n",
    "l_name= \"Hassan\"\n",
    "full_name = \" My name is \"f\" {f_name} {l_name}\" \" \" \"I am learning Cloud Data Engineering from SMIT\"\n",
    "print(full_name)"
   ]
  },
  {
   "cell_type": "code",
   "execution_count": 14,
   "id": "41de259e-7eba-471e-8f1d-cf3a05b078c7",
   "metadata": {},
   "outputs": [
    {
     "name": "stdout",
     "output_type": "stream",
     "text": [
      "My name is Junaid Hassan and i am learning Cloud Data Engineering from SMIT\n"
     ]
    }
   ],
   "source": [
    "full_name = \"My name is \"\"{0} {1}\" \" and i am learning Cloud Data Engineering from SMIT\".format(f_name,l_name) #using.format\n",
    "\n",
    "\n",
    "print(full_name) "
   ]
  }
 ],
 "metadata": {
  "kernelspec": {
   "display_name": "Python 3 (ipykernel)",
   "language": "python",
   "name": "python3"
  },
  "language_info": {
   "codemirror_mode": {
    "name": "ipython",
    "version": 3
   },
   "file_extension": ".py",
   "mimetype": "text/x-python",
   "name": "python",
   "nbconvert_exporter": "python",
   "pygments_lexer": "ipython3",
   "version": "3.13.5"
  }
 },
 "nbformat": 4,
 "nbformat_minor": 5
}
