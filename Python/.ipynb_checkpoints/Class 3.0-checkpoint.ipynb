{
 "cells": [
  {
   "cell_type": "markdown",
   "id": "5140b2c5-7b20-4417-a594-4e738600c5a4",
   "metadata": {},
   "source": [
    "# user input"
   ]
  },
  {
   "cell_type": "code",
   "execution_count": 4,
   "id": "17763973-7509-4a14-b60f-19cb3edaf802",
   "metadata": {},
   "outputs": [
    {
     "name": "stdin",
     "output_type": "stream",
     "text": [
      "Enter your first name: Junaid\n",
      "Enter your first name: abba\n",
      "Enter your first name: zaidi\n"
     ]
    }
   ],
   "source": [
    "f_name= input(\"Enter your first name:\") # by default input() returns string type\n",
    "m_name= input(\"Enter your middle name:\") # by default input() returns string type\n",
    "l_name= input(\"Enter your last name:\") # by default input() returns string type"
   ]
  },
  {
   "cell_type": "code",
   "execution_count": 3,
   "id": "c35d240c-e906-4053-99f0-9aa294f5d966",
   "metadata": {},
   "outputs": [
    {
     "name": "stdin",
     "output_type": "stream",
     "text": [
      "Enter yout weight: 45.7\n"
     ]
    }
   ],
   "source": [
    "weight= float(input(\"Enter yout weight:\"))"
   ]
  },
  {
   "cell_type": "code",
   "execution_count": 7,
   "id": "df09f70e-4095-40ba-9288-43c334f1dea6",
   "metadata": {},
   "outputs": [
    {
     "name": "stdout",
     "output_type": "stream",
     "text": [
      "Hi my name is Junaid abba zaidi\n"
     ]
    }
   ],
   "source": [
    "\n",
    "print(\"Hi my name is \" + f_name + \" \" + m_name + \" \" + l_name)\n"
   ]
  },
  {
   "cell_type": "markdown",
   "id": "81ea22a2-7999-4213-9e17-6d1372b3274b",
   "metadata": {},
   "source": [
    "# Conditional Statement"
   ]
  },
  {
   "cell_type": "raw",
   "id": "add52f3a-9be1-48ae-89c0-573fb0249f7e",
   "metadata": {},
   "source": [
    "=if elif else"
   ]
  },
  {
   "cell_type": "raw",
   "id": "5b7ef581-7c3d-4679-8ca4-d9f164d5fbca",
   "metadata": {},
   "source": [
    "if <Condition>:      #SYNTAX\n",
    "    <body>\n",
    "else:\n",
    "    <body>`"
   ]
  },
  {
   "cell_type": "code",
   "execution_count": 12,
   "id": "2e5f5168-df2f-4068-8d22-5b3ef1a56652",
   "metadata": {},
   "outputs": [],
   "source": [
    "eid= True"
   ]
  },
  {
   "cell_type": "code",
   "execution_count": 19,
   "id": "092c21e5-6473-40b3-97b1-9263802b7b14",
   "metadata": {},
   "outputs": [
    {
     "name": "stdout",
     "output_type": "stream",
     "text": [
      "Tomorrow is Holiday.\n"
     ]
    }
   ],
   "source": [
    "if eid:\n",
    "    print('Tomorrow is Holiday.')\n",
    "else:\n",
    "    print(\"Tomorrow is working day\")"
   ]
  },
  {
   "cell_type": "markdown",
   "id": "c68af093-75c6-4210-b042-e489b2b791ad",
   "metadata": {},
   "source": [
    "## TASK: Make a program that tell if you are eligible for certi or not based on pass/fail"
   ]
  },
  {
   "cell_type": "code",
   "execution_count": 21,
   "id": "7ada1e20-a93d-4a93-b46d-4f3b89016ebd",
   "metadata": {},
   "outputs": [],
   "source": [
    "Pass = True\n",
    "Fail = False"
   ]
  },
  {
   "cell_type": "code",
   "execution_count": 27,
   "id": "1dc25ed6-9783-4f88-92e7-540ca5dfdec3",
   "metadata": {},
   "outputs": [
    {
     "name": "stdout",
     "output_type": "stream",
     "text": [
      "You are not eligible for certification\n"
     ]
    }
   ],
   "source": [
    "if Fail:\n",
    "   print(\"You are eligible for certification\")\n",
    "else:\n",
    "   print(\"You are not eligible for certification\")"
   ]
  },
  {
   "cell_type": "markdown",
   "id": "52f8c32f-3cc4-447b-8b25-064e4e2ec5ec",
   "metadata": {},
   "source": [
    "## Elif"
   ]
  },
  {
   "cell_type": "code",
   "execution_count": 33,
   "id": "ffd5ff12-d33c-4f9a-9bdc-19c77e718c2c",
   "metadata": {},
   "outputs": [
    {
     "name": "stdin",
     "output_type": "stream",
     "text": [
      "Enter your marks: 40\n"
     ]
    },
    {
     "name": "stdout",
     "output_type": "stream",
     "text": [
      "Your grade is C\n"
     ]
    }
   ],
   "source": [
    "marks = float(input(\"Enter your marks:\"))\n",
    "if marks >=90:\n",
    "    print(\"Your grade is A+\")\n",
    "elif marks >=80:\n",
    "    print(\"Your grade is A\")\n",
    "elif marks >=70:\n",
    "    print(\"Your grade is B\")\n",
    "else:\n",
    "    print(\"Your grade is C\")"
   ]
  },
  {
   "cell_type": "markdown",
   "id": "4e4dcde9-98bf-4328-b437-f179e00f7653",
   "metadata": {},
   "source": [
    "### Nested If else"
   ]
  },
  {
   "cell_type": "code",
   "execution_count": 39,
   "id": "e0507faa-d93e-49d1-9221-3f5a04443c1a",
   "metadata": {},
   "outputs": [
    {
     "name": "stdout",
     "output_type": "stream",
     "text": [
      "Shop is open have to check for rice now\n"
     ]
    },
    {
     "name": "stdin",
     "output_type": "stream",
     "text": [
      "check for rice True\n"
     ]
    },
    {
     "name": "stdout",
     "output_type": "stream",
     "text": [
      "Buy 1kg\n"
     ]
    }
   ],
   "source": [
    "shop_open = True\n",
    "\n",
    "\n",
    "if shop_open:\n",
    "    print(\"Shop is open have to check for rice now\")\n",
    "    basmati_rice = input(\"check for rice\")\n",
    "    if basmati_rice==\"True\":\n",
    "        print(\"Buy 1kg\")\n",
    "    else:\n",
    "        print(\"Buy Nothing\")\n",
    "else:\n",
    "    print(\"Shop is closed\")"
   ]
  },
  {
   "cell_type": "code",
   "execution_count": 50,
   "id": "4f7efbd0-bc95-405e-98e9-ebec28ee2d24",
   "metadata": {},
   "outputs": [
    {
     "name": "stdin",
     "output_type": "stream",
     "text": [
      "Enter your age please: 19\n"
     ]
    },
    {
     "name": "stdout",
     "output_type": "stream",
     "text": [
      "You are Eligible for Voting\n"
     ]
    }
   ],
   "source": [
    "age= int(input(\"Enter your age please:\"))\n",
    "if age >= 18:\n",
    "    print(\"You are Eligible for Voting\")\n",
    "else:\n",
    "    print(\" You are not eligible\")"
   ]
  },
  {
   "cell_type": "code",
   "execution_count": 73,
   "id": "1294993a-4db6-496a-ae88-f8306cbbbb32",
   "metadata": {},
   "outputs": [
    {
     "name": "stdin",
     "output_type": "stream",
     "text": [
      "Enter Number: 34\n"
     ]
    },
    {
     "name": "stdout",
     "output_type": "stream",
     "text": [
      "34 is even\n"
     ]
    }
   ],
   "source": [
    "num =  int(input(\"Enter Number:\"))\n",
    "    \n",
    "if num % 2 == 0:\n",
    "    print(f\"{num} is even\")\n",
    "else:\n",
    "    print(f\"{num} is odd\")\n"
   ]
  },
  {
   "cell_type": "code",
   "execution_count": 72,
   "id": "987b4166-069d-4d6b-ba98-d5e5673fbd81",
   "metadata": {},
   "outputs": [
    {
     "name": "stdin",
     "output_type": "stream",
     "text": [
      "Enter Number: 4\n"
     ]
    },
    {
     "name": "stdout",
     "output_type": "stream",
     "text": [
      "Bye\n"
     ]
    }
   ],
   "source": [
    "num1 =  int(input(\"Enter Number:\"))\n",
    "\n",
    "if num1 % 5==0:\n",
    "    print(\"Hello\")\n",
    "else:\n",
    "    print(\"Bye\")"
   ]
  },
  {
   "cell_type": "markdown",
   "id": "25c91b79-1fde-411f-9c55-2e8d63039363",
   "metadata": {},
   "source": [
    "# OPerator"
   ]
  },
  {
   "cell_type": "raw",
   "id": "8a976a7a-dcde-49f9-bc33-f24ec1973d59",
   "metadata": {},
   "source": [
    "in AND both conditions should be true\n",
    "in OR atleast one condition should be true"
   ]
  },
  {
   "cell_type": "code",
   "execution_count": 80,
   "id": "b012f51a-a15a-41c3-a047-328337322ece",
   "metadata": {},
   "outputs": [
    {
     "name": "stdin",
     "output_type": "stream",
     "text": [
      "Enter Your Marks Please: 56\n"
     ]
    },
    {
     "name": "stdout",
     "output_type": "stream",
     "text": [
      " Your marks is 56.0 and your grade is C\n"
     ]
    }
   ],
   "source": [
    "##### marks =float(input(\"Enter Your Marks Please:\"))\n",
    "\n",
    "if marks >=0 and marks <25:\n",
    "    print(f\" Your marks is {marks} and your grade is F\")\n",
    "elif marks >= 25 and marks <45:\n",
    "     print(f\" Your marks is {marks} and your grade is E\") \n",
    "elif marks >= 45 and marks <50:\n",
    "     print(f\" Your marks is {marks} and your grade is D\") \n",
    "elif marks >= 50 and marks <60:\n",
    "     print(f\" Your marks is {marks} and your grade is C\")  \n",
    "elif marks >= 60 and marks <80:\n",
    "     print(f\" Your marks is {marks} and your grade is B\")\n",
    "elif marks >=80 and marks <100:\n",
    "     print(f\" Your marks is {marks} and your grade is A\")\n",
    "else:\n",
    "    print(\"Invalid Syntax\")\n",
    "\n"
   ]
  },
  {
   "cell_type": "markdown",
   "id": "451b49ac-18ca-4545-a34e-b6a171455f87",
   "metadata": {},
   "source": [
    "# Method of any type"
   ]
  },
  {
   "cell_type": "code",
   "execution_count": 83,
   "id": "aa954d19-6d4b-4c1a-b5c4-918fd8c08f68",
   "metadata": {},
   "outputs": [
    {
     "data": {
      "text/plain": [
       "'Junaid'"
      ]
     },
     "execution_count": 83,
     "metadata": {},
     "output_type": "execute_result"
    }
   ],
   "source": [
    "str = \"Junaid Abbas\"\n",
    "str [0:6]  # Note slicing always happen from first to before the last limit\n",
    "# slicing of string\n",
    "# positive Slicing"
   ]
  },
  {
   "cell_type": "markdown",
   "id": "2c2f87f9-eee5-4a00-8cc8-3a03ae558465",
   "metadata": {},
   "source": [
    "### negative Slicing"
   ]
  },
  {
   "cell_type": "code",
   "execution_count": 84,
   "id": "8b97bc8b-ac8f-42c5-97f6-eac77ea87987",
   "metadata": {},
   "outputs": [],
   "source": [
    "str2= \"This is saylani CDE batch-3 Class\""
   ]
  },
  {
   "cell_type": "code",
   "execution_count": 88,
   "id": "fa6d4008-fe15-4396-8d3c-0c2765d62794",
   "metadata": {},
   "outputs": [
    {
     "data": {
      "text/plain": [
       "'CDE batch-3'"
      ]
     },
     "execution_count": 88,
     "metadata": {},
     "output_type": "execute_result"
    }
   ],
   "source": [
    "str2[-17:-6]"
   ]
  },
  {
   "cell_type": "markdown",
   "id": "53d0016b-ac8f-4873-9850-13b9b1755102",
   "metadata": {},
   "source": [
    "### Methods of String"
   ]
  },
  {
   "cell_type": "code",
   "execution_count": 92,
   "id": "a5e21da3-046b-4da2-9cf4-45e136c640f0",
   "metadata": {},
   "outputs": [
    {
     "data": {
      "text/plain": [
       "'Junaid'"
      ]
     },
     "execution_count": 92,
     "metadata": {},
     "output_type": "execute_result"
    }
   ],
   "source": [
    "\"{0}\".format(\"Junaid\")"
   ]
  },
  {
   "cell_type": "code",
   "execution_count": 106,
   "id": "d53ea294-654c-49ab-b5c1-7ceb91772f35",
   "metadata": {},
   "outputs": [
    {
     "data": {
      "text/plain": [
       "'QASIM'"
      ]
     },
     "execution_count": 106,
     "metadata": {},
     "output_type": "execute_result"
    }
   ],
   "source": [
    "\"Qasim\".upper()"
   ]
  },
  {
   "cell_type": "code",
   "execution_count": 102,
   "id": "40a51a93-4b44-463b-969e-a9a92bc188ef",
   "metadata": {},
   "outputs": [
    {
     "name": "stdout",
     "output_type": "stream",
     "text": [
      "Hello, Python!\n"
     ]
    }
   ],
   "source": [
    "text = \"Hello, World!\"\n",
    "new_text = text.replace(\"World\", \"Python\") \n",
    "print(new_text)"
   ]
  },
  {
   "cell_type": "code",
   "execution_count": 105,
   "id": "31662f9a-6a19-45fb-9792-633ab1733283",
   "metadata": {},
   "outputs": [
    {
     "data": {
      "text/plain": [
       "'Qasim'"
      ]
     },
     "execution_count": 105,
     "metadata": {},
     "output_type": "execute_result"
    }
   ],
   "source": [
    "\"Qasim\".capitalize()"
   ]
  }
 ],
 "metadata": {
  "kernelspec": {
   "display_name": "Python 3 (ipykernel)",
   "language": "python",
   "name": "python3"
  },
  "language_info": {
   "codemirror_mode": {
    "name": "ipython",
    "version": 3
   },
   "file_extension": ".py",
   "mimetype": "text/x-python",
   "name": "python",
   "nbconvert_exporter": "python",
   "pygments_lexer": "ipython3",
   "version": "3.13.5"
  }
 },
 "nbformat": 4,
 "nbformat_minor": 5
}
