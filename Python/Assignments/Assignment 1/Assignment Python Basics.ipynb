{
 "cells": [
  {
   "cell_type": "markdown",
   "id": "8946cd13-f631-421c-8586-38da906e3cde",
   "metadata": {},
   "source": [
    "- Print Your Name with your Father name and Date of birth using suitable escape sequence charactor"
   ]
  },
  {
   "cell_type": "code",
   "execution_count": 11,
   "id": "4d0195ae-6b70-47c4-8448-1f9e5a730af0",
   "metadata": {},
   "outputs": [],
   "source": [
    "name = \"Junaid\"\n",
    "fname =\"Abbas\"\n",
    "DOB= 1995\n"
   ]
  },
  {
   "cell_type": "code",
   "execution_count": 12,
   "id": "f4067c3a-8918-421a-a171-9835f9ec8cf9",
   "metadata": {},
   "outputs": [
    {
     "name": "stdout",
     "output_type": "stream",
     "text": [
      "Name: Junaid\n",
      "Father's Name: Abbas\n",
      "Date of Birth: 1995\n"
     ]
    }
   ],
   "source": [
    "print(f\"Name: {name}\\nFather's Name: {fname}\\nDate of Birth: {DOB}\") #using Fstring method"
   ]
  },
  {
   "cell_type": "markdown",
   "id": "64cea066-aa3c-42ed-9c5b-46ed0e986f8f",
   "metadata": {},
   "source": [
    "- Write your small bio using variables and print it using print function"
   ]
  },
  {
   "cell_type": "code",
   "execution_count": 22,
   "id": "772bf0ef-b514-46ef-842c-f34a303f52b2",
   "metadata": {},
   "outputs": [
    {
     "name": "stdout",
     "output_type": "stream",
     "text": [
      "Hi My Name is Junaid My Father Name is Abbas I have a Degree of MSCS And i am a Cloud Data Engineer\n"
     ]
    }
   ],
   "source": [
    "name = \"Junaid\"\n",
    "f_name = \"Abbas\"\n",
    "Profession = \"Cloud Data Engineer\"\n",
    "Education = \"MSCS\"\n",
    "\n",
    "print(f\"Hi My Name is {name} My Father Name is {f_name} I have a Degree of {Education} And i am a {Profession}\")\n"
   ]
  },
  {
   "cell_type": "markdown",
   "id": "098574d7-8fee-4d76-a56b-3e012b15e498",
   "metadata": {},
   "source": [
    "- Write a program in which use all the operators we can use in Python\n"
   ]
  },
  {
   "cell_type": "code",
   "execution_count": 27,
   "id": "1d3fd001-3945-43af-8833-b593c15b71d8",
   "metadata": {},
   "outputs": [
    {
     "name": "stdout",
     "output_type": "stream",
     "text": [
      "Arithmetic Operators:\n",
      "Addition: 15\n",
      "Subtraction: 5\n",
      "Multiplication: 50\n",
      "Division: 2.0\n",
      "Modulus: 0\n",
      "\n",
      "Comparison Operators:\n",
      "Equal to: False\n",
      "Not equal to: True\n",
      "Greater than: False\n",
      "Less than: True\n",
      "Greater than or equal to: False\n",
      "Less than or equal to: True\n",
      " Floor Operator is: 0\n",
      "\n",
      "Logical Operators:\n",
      "AND: False\n",
      "OR: True\n",
      "NOT: False\n",
      "\n",
      "Assignment Operators:\n",
      "+=: 15\n",
      "-=: 12\n",
      "*=: 24\n",
      "/=: 6.0\n",
      "%=: 0.0\n",
      "**=: 0.0\n"
     ]
    }
   ],
   "source": [
    "# Arithmetic operators\n",
    "# Make Two variables & apply all operators\n",
    "a = 10\n",
    "b = 5\n",
    "print(f\"Arithmetic Operators:\")\n",
    "print(f\"Addition: {a + b}\")\n",
    "print(f\"Subtraction: {a - b}\")\n",
    "print(f\"Multiplication: {a * b}\")\n",
    "print(f\"Division: {a / b}\")\n",
    "print(f\"Modulus: {a % b}\")\n",
    "\n",
    "# Comparison operators\n",
    "x = 10\n",
    "y = 12\n",
    "print(f\"\\nComparison Operators:\")\n",
    "print(f\"Equal to: {x == y}\")\n",
    "print(f\"Not equal to: {x != y}\")\n",
    "print(f\"Greater than: {x > y}\")\n",
    "print(f\"Less than: {x < y}\")\n",
    "print(f\"Greater than or equal to: {x >= y}\")\n",
    "print(f\"Less than or equal to: {x <= y}\")\n",
    "print (f\" Floor Operator is: {x//y}\")\n",
    "\n",
    "# Logical operators\n",
    "p = True\n",
    "q = False\n",
    "print(f\"\\nLogical Operators:\")\n",
    "print(f\"AND: {p and q}\")\n",
    "print(f\"OR: {p or q}\")\n",
    "print(f\"NOT: {not p}\")\n",
    "\n",
    "# Assignment operators\n",
    "c = 10\n",
    "print(f\"\\nAssignment Operators:\")\n",
    "c += 5  # 5 adds in 10 (Add Right Value into Left)\n",
    "print(f\"+=: {c}\")\n",
    "c -= 3  # c = c - 3 # (Subtract the right value from Left)\n",
    "print(f\"-=: {c}\") \n",
    "c *= 2  # c = c * 2 (Multiply left from right)\n",
    "print(f\"*=: {c}\")\n",
    "c /= 4  # c = c / 4 (Divide left from right)\n",
    "print(f\"/=: {c}\")\n",
    "c %= 2  # c = c % 2 (MOdulus left to right)\n",
    "print(f\"%=: {c}\")\n",
    "c **= 3 # c = c ** 3 (value of a is raised to the power of b)\n",
    "print(f\"**=: {c}\")"
   ]
  },
  {
   "cell_type": "markdown",
   "id": "adf13e95-fd36-4d6d-b570-8aad460ce75f",
   "metadata": {},
   "source": [
    "- Completes the following steps of small task:\n",
    "Mention Marks of English , Islamiat and Maths out of 100 in 3 different variables\n",
    "Mention Variable of Total Marks and assign 300 to it\n",
    "Calculate Percentage"
   ]
  },
  {
   "cell_type": "code",
   "execution_count": 31,
   "id": "8cb1e576-20f7-4ca6-9807-19a9f110ba7d",
   "metadata": {},
   "outputs": [
    {
     "name": "stdout",
     "output_type": "stream",
     "text": [
      "72.33333333333334\n"
     ]
    }
   ],
   "source": [
    "eng_marks= 45\n",
    "isl_marks= 96\n",
    "maths_marks = 76\n",
    "Total_Marks= 300\n",
    "obtained_marks= eng_marks + isl_marks + maths_marks\n",
    "\n",
    "#Formula: (Total Obtained Marks / Total Maximum Marks) × 100 \n",
    "percentage= obtained_marks/ Total_Marks * 100\n",
    "print(percentage) \n"
   ]
  },
  {
   "cell_type": "code",
   "execution_count": null,
   "id": "6b2e948e-e843-4114-bc70-b4deebb54a41",
   "metadata": {},
   "outputs": [],
   "source": []
  }
 ],
 "metadata": {
  "kernelspec": {
   "display_name": "Python 3 (ipykernel)",
   "language": "python",
   "name": "python3"
  },
  "language_info": {
   "codemirror_mode": {
    "name": "ipython",
    "version": 3
   },
   "file_extension": ".py",
   "mimetype": "text/x-python",
   "name": "python",
   "nbconvert_exporter": "python",
   "pygments_lexer": "ipython3",
   "version": "3.13.5"
  }
 },
 "nbformat": 4,
 "nbformat_minor": 5
}
