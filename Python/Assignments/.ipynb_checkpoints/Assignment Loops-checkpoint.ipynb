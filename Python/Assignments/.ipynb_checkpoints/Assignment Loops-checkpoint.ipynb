{
 "cells": [
  {
   "cell_type": "markdown",
   "id": "c3d939cd-6f14-4d66-b493-9c198f636bb9",
   "metadata": {},
   "source": [
    "- Write a Python program to print the numbers from 1 to 10 using a for loop. "
   ]
  },
  {
   "cell_type": "code",
   "execution_count": 10,
   "id": "58cab9bb-7ddb-4666-9918-eb0614907108",
   "metadata": {},
   "outputs": [
    {
     "name": "stdout",
     "output_type": "stream",
     "text": [
      "1\n",
      "2\n",
      "3\n",
      "4\n",
      "5\n",
      "6\n",
      "7\n",
      "8\n",
      "9\n",
      "10\n"
     ]
    }
   ],
   "source": [
    "for item in range(1,11):\n",
    "    print(item)"
   ]
  },
  {
   "cell_type": "markdown",
   "id": "602b3910-c1f7-40ae-8da3-9cece7f04c54",
   "metadata": {},
   "source": [
    "-  Write a Python program to print the numbers from 20 to 1 using a while loop"
   ]
  },
  {
   "cell_type": "code",
   "execution_count": null,
   "id": "da33e944-e7ff-4d95-8984-ada7fc8acffe",
   "metadata": {},
   "outputs": [],
   "source": [
    "i = 20\n",
    "\n",
    "while i >= 1:\n",
    "    print(i)\n",
    "    i -= 1"
   ]
  },
  {
   "cell_type": "markdown",
   "id": "3fea4468-a89d-4bad-99c9-f80a3f2e7c9d",
   "metadata": {},
   "source": [
    "- Write a program to print even numbers from 1 to 10"
   ]
  },
  {
   "cell_type": "code",
   "execution_count": null,
   "id": "b858520a-f98a-4461-8e2f-e0817b1ef79f",
   "metadata": {},
   "outputs": [],
   "source": [
    "for i in range(1, 11):   # 1 se 10 tak numbers aayenge\n",
    "    if i % 2 == 0:       # check karo even hai ya nahi\n",
    "        print(i)"
   ]
  },
  {
   "cell_type": "markdown",
   "id": "82de1567-a10f-4e42-aa03-3e40fbee0bbb",
   "metadata": {},
   "source": [
    "- Write a program that prompts the user to enter a number n and prints all the\n",
    "numbers from 1 to n."
   ]
  },
  {
   "cell_type": "code",
   "execution_count": 3,
   "id": "173b7334-d5ef-446d-8a23-d69ba568a008",
   "metadata": {},
   "outputs": [
    {
     "name": "stdin",
     "output_type": "stream",
     "text": [
      "Enter a Number: 10\n"
     ]
    },
    {
     "name": "stdout",
     "output_type": "stream",
     "text": [
      "1\n",
      "2\n",
      "3\n",
      "4\n",
      "5\n",
      "6\n",
      "7\n",
      "8\n",
      "9\n",
      "10\n"
     ]
    }
   ],
   "source": [
    "n = int(input(\"Enter a Number:\"))\n",
    "for i in range(1, n+1):   \n",
    "    print(i)\n"
   ]
  },
  {
   "cell_type": "markdown",
   "id": "c0f9e134-ad84-41c4-bbbf-676dc49f2b13",
   "metadata": {},
   "source": [
    "- Write a program that prompts the user to enter a number n, and then prints all the\n",
    "odd numbers between 1 and n. "
   ]
  },
  {
   "cell_type": "code",
   "execution_count": 4,
   "id": "203fbeab-5881-4833-9ed1-31a9af1bb52d",
   "metadata": {},
   "outputs": [
    {
     "name": "stdin",
     "output_type": "stream",
     "text": [
      "Enter a Number: 10\n"
     ]
    },
    {
     "name": "stdout",
     "output_type": "stream",
     "text": [
      "1\n",
      "3\n",
      "5\n",
      "7\n",
      "9\n"
     ]
    }
   ],
   "source": [
    "n = int(input(\"Enter a Number:\"))\n",
    "for i in range(n):   \n",
    "    if i % 2 :       \n",
    "        print(i)"
   ]
  },
  {
   "cell_type": "markdown",
   "id": "40639093-b1fe-4f7b-9c30-4ccd6ff102e0",
   "metadata": {},
   "source": [
    "- Write a program that prints 'Happy Birthday!' five times on screen."
   ]
  },
  {
   "cell_type": "code",
   "execution_count": 5,
   "id": "5bd197bb-1111-4f2b-a17b-5ee5762564f9",
   "metadata": {},
   "outputs": [
    {
     "name": "stdin",
     "output_type": "stream",
     "text": [
      "How many times you want to wish 'Happy Birthday':  5\n"
     ]
    },
    {
     "name": "stdout",
     "output_type": "stream",
     "text": [
      "0 happy birthday\n",
      "1 happy birthday\n",
      "2 happy birthday\n",
      "3 happy birthday\n",
      "4 happy birthday\n"
     ]
    }
   ],
   "source": [
    "times = int(input(\"How many times you want to wish 'Happy Birthday': \"))\n",
    "for temp in range(times): #dynamic\n",
    "    print(temp, 'happy birthday')"
   ]
  },
  {
   "cell_type": "markdown",
   "id": "c699bb1a-a78f-4f29-b427-4fbe4e522530",
   "metadata": {},
   "source": [
    "- Write a program that takes a number n as input from the user and generates the first\n",
    "n terms of the series formed by squaring the natural numbers.\n",
    "\n",
    "- Sample output\n",
    "- Enter a number: 6\n",
    "- The first 6 terms of the series are:\n",
    "- 1 4 9 16 25 36 \n"
   ]
  },
  {
   "cell_type": "code",
   "execution_count": 10,
   "id": "d712e840-4aa9-4730-928c-a6a0fa21a0f1",
   "metadata": {},
   "outputs": [
    {
     "name": "stdin",
     "output_type": "stream",
     "text": [
      "Enter a number:  6\n"
     ]
    },
    {
     "name": "stdout",
     "output_type": "stream",
     "text": [
      "The first 6 terms of the series are:\n",
      "1 4 9 16 25 36 "
     ]
    }
   ],
   "source": [
    "n = int(input(\"Enter a number: \"))\n",
    "\n",
    "print(f\"The first {n} terms of the series are:\")\n",
    "\n",
    "for i in range(1, n+1):   # 1 se n tak loop chalega\n",
    "    print(i*i, end=\" \")   # har number ka square print karo\n"
   ]
  },
  {
   "cell_type": "markdown",
   "id": "a3d11416-8137-4eee-b8e7-0ba3c0566d1f",
   "metadata": {},
   "source": [
    "- Write a program that prompts the user to input a number and prints its multiplication\n",
    "table"
   ]
  },
  {
   "cell_type": "code",
   "execution_count": 12,
   "id": "732627f0-ce96-4c4d-83bb-7c76e92b7965",
   "metadata": {},
   "outputs": [
    {
     "name": "stdin",
     "output_type": "stream",
     "text": [
      "Enter the number for table:  5\n",
      "How many time you want to print table 10\n"
     ]
    },
    {
     "name": "stdout",
     "output_type": "stream",
     "text": [
      "5 * 1 = 5\n",
      "5 * 2 = 10\n",
      "5 * 3 = 15\n",
      "5 * 4 = 20\n",
      "5 * 5 = 25\n",
      "5 * 6 = 30\n",
      "5 * 7 = 35\n",
      "5 * 8 = 40\n",
      "5 * 9 = 45\n",
      "5 * 10 = 50\n"
     ]
    }
   ],
   "source": [
    "table = int(input(\"Enter the number for table: \"))\n",
    "times = int(input(\"How many time you want to print table\"))\n",
    "for temp in range(times):\n",
    "    print(f\"{table} * {temp+1} = {table * (temp+1)}\")"
   ]
  },
  {
   "cell_type": "markdown",
   "id": "0ccb6007-8c85-4ef8-82b3-3a91f21a02aa",
   "metadata": {},
   "source": [
    "- Write a Python program to print the first 8 terms of an arithmetic progression starting\n",
    "with 3 and having a common difference of 4.\n",
    "The program should output the following sequence:\n",
    "3 7 11 15 19 23 27 31"
   ]
  },
  {
   "cell_type": "code",
   "execution_count": 17,
   "id": "17109fe8-c780-4cf0-a623-fb43139c5c3c",
   "metadata": {},
   "outputs": [
    {
     "name": "stdout",
     "output_type": "stream",
     "text": [
      "3\n",
      "7\n",
      "11\n",
      "15\n",
      "19\n",
      "23\n",
      "27\n",
      "31\n"
     ]
    }
   ],
   "source": [
    "term = 3\n",
    "for i in range(8):\n",
    "    print(term)        \n",
    "    term = term + 4    "
   ]
  },
  {
   "cell_type": "markdown",
   "id": "b79c22ab-2302-447f-ad75-74ae788f595a",
   "metadata": {},
   "source": [
    "- Write a Python program to print the first 6 terms of a geometric sequence starting\n",
    "with 2 and having a common ratio of 3.\n",
    "The program should output the following sequence:\n",
    "2 6 18 54 162 486`"
   ]
  },
  {
   "cell_type": "code",
   "execution_count": 18,
   "id": "4174ccd7-e5f3-494a-885f-460503bb5f20",
   "metadata": {},
   "outputs": [
    {
     "name": "stdout",
     "output_type": "stream",
     "text": [
      "2\n",
      "6\n",
      "18\n",
      "54\n",
      "162\n",
      "486\n"
     ]
    }
   ],
   "source": [
    "term = 2\n",
    "for i in range(6):\n",
    "    print(term)\n",
    "    term = term * 3  "
   ]
  },
  {
   "cell_type": "markdown",
   "id": "06571cda-5d70-4992-9418-cedcf83c1621",
   "metadata": {},
   "source": [
    "- . Write a program that asks the user for a positive integer value. The program should\n",
    "calculate the sum of all the integers from 1 up to the number entered. For example, if\n",
    "the user enters 20, the loop will find the sum of 1, 2, 3, 4, ... 20"
   ]
  },
  {
   "cell_type": "code",
   "execution_count": 26,
   "id": "f0fc5e31-3903-4b50-a094-29f977746544",
   "metadata": {},
   "outputs": [
    {
     "name": "stdin",
     "output_type": "stream",
     "text": [
      "Enter a positive integer:  50\n"
     ]
    },
    {
     "name": "stdout",
     "output_type": "stream",
     "text": [
      "The sum of numbers from 1 to 50 is: 1275\n"
     ]
    }
   ],
   "source": [
    "n = int(input(\"Enter a positive integer: \"))\n",
    "sum = 0\n",
    "for i in range(1, n+1):   # 1 se n tak loop chalega\n",
    "    sum += i              # har number ko sum me add karo\n",
    "\n",
    "print(\"The sum of numbers from 1 to\", n, \"is:\", sum)\n"
   ]
  },
  {
   "cell_type": "markdown",
   "id": "7b14c76f-3c23-4257-b289-082df9cdd7f3",
   "metadata": {},
   "source": [
    "- write a program that takes a positive integer N as input and calculates the sum of\n",
    "the reciprocals of all numbers from 1 up to N. The program should display the final sum.\n",
    "Output of the program should be like:\n",
    "Enter a positive integer: 5\n",
    "The sum of reciprocals from 1 to 5 is: 2.28 "
   ]
  },
  {
   "cell_type": "code",
   "execution_count": 37,
   "id": "1b4b891a-74f0-40fb-aff3-b08daf55a44f",
   "metadata": {},
   "outputs": [
    {
     "name": "stdin",
     "output_type": "stream",
     "text": [
      "Enter a positive integer:  5\n"
     ]
    },
    {
     "name": "stdout",
     "output_type": "stream",
     "text": [
      "The sum of reciprocals from 1 to 5 is: 2.28\n"
     ]
    }
   ],
   "source": [
    "\n",
    "n = int(input(\"Enter a positive integer: \"))\n",
    "sum = 0\n",
    "\n",
    "for i in range(1, n+1):   # 1 se n tak loop chalega\n",
    "    sum += 1/i            # har number ka reciprocal add karo\n",
    "\n",
    "print(\"The sum of reciprocals from 1 to\", n, \"is:\", round(sum, 2))\n",
    "\n"
   ]
  },
  {
   "cell_type": "markdown",
   "id": "3d3e1b42-e1f7-408f-844f-37fca4818dd8",
   "metadata": {},
   "source": [
    "- Write a program that prompts the user to enter a number and repeats this process 5\n",
    "times. The program should accumulate the numbers entered and then display the final\n",
    "running total.\n",
    "Sample Output:\n",
    "Enter a number: 10\n",
    "Enter a number: 15\n",
    "Enter a number: 35\n",
    "Enter a number: 40\n",
    "Enter a number: 50\n",
    "The final running total is: 150"
   ]
  },
  {
   "cell_type": "code",
   "execution_count": 45,
   "id": "146524aa-57e6-467c-b04b-4ba631dfacaf",
   "metadata": {},
   "outputs": [
    {
     "name": "stdin",
     "output_type": "stream",
     "text": [
      "Enter a number:  5\n",
      "Enter a number:  5\n",
      "Enter a number:  5\n",
      "Enter a number:  5\n",
      "Enter a number:  5\n"
     ]
    },
    {
     "name": "stdout",
     "output_type": "stream",
     "text": [
      "The final running total is: 25\n"
     ]
    }
   ],
   "source": [
    "total = 0\n",
    "\n",
    "for i in range(5):                  # loop 5 times chalega\n",
    "    num = int(input(\"Enter a number: \"))  # user se number input lo\n",
    "    total += num                     # total me add karo\n",
    "\n",
    "print(\"The final running total is:\", total)"
   ]
  },
  {
   "cell_type": "markdown",
   "id": "3e887afa-9be0-4355-8d55-5978689da606",
   "metadata": {},
   "source": [
    "- Write a program that prompts the user to enter a positive integer and calculates its\n",
    "factorial. The factorial of a positive integer 'n' is denoted as 'n!' and is calculated by\n",
    "multiplying all the integers from 1 to 'n' together. For example, the factorial of 5\n",
    "(denoted as 5!) is calculated as 1 x 2 x 3 x 4 x 5.\n",
    "- The program should display the factorial value if the input is a positive number, or\n",
    "display a message stating that the factorial does not exist for negative numbers.\n",
    "Additionally, for an input of zero, the program should output that the factorial of 0 is 1"
   ]
  },
  {
   "cell_type": "code",
   "execution_count": 50,
   "id": "5b268709-d905-429a-9166-e98cdca10982",
   "metadata": {},
   "outputs": [
    {
     "name": "stdin",
     "output_type": "stream",
     "text": [
      "Enter a positive integer:  5\n"
     ]
    },
    {
     "name": "stdout",
     "output_type": "stream",
     "text": [
      "Factorial of 5 is: 120\n"
     ]
    }
   ],
   "source": [
    "n = int(input(\"Enter a positive integer: \"))\n",
    "\n",
    "if n < 0:\n",
    "    print(\"Factorial does not exist for negative numbers\")\n",
    "elif n == 0:\n",
    "    print(\"Factorial of 0 is 1\")\n",
    "else:\n",
    "    fact = 1\n",
    "    for i in range(1, n+1):   # 1 se n tak multiply karo\n",
    "        fact *= i\n",
    "    print(\"Factorial of\", n, \"is:\", fact)\n"
   ]
  },
  {
   "cell_type": "markdown",
   "id": "f41fcb6c-d4ba-4240-8b77-fd69f12efc80",
   "metadata": {},
   "source": [
    "-  Write a Python program that prompts the user to enter a base number and an\n",
    "exponent, and then calculates the power of the base to the exponent. The program\n",
    "should not use the exponentiation operator (**) or the math.pow() function. The\n",
    "program should handle both positive and negative exponents. "
   ]
  },
  {
   "cell_type": "code",
   "execution_count": 51,
   "id": "c9b27717-45f2-4ab1-acbb-9a59105ea598",
   "metadata": {},
   "outputs": [
    {
     "name": "stdin",
     "output_type": "stream",
     "text": [
      "Enter the base number:  5\n",
      "Enter the exponent:  5\n"
     ]
    },
    {
     "name": "stdout",
     "output_type": "stream",
     "text": [
      "5.0 raised to the power 5 is: 3125.0\n"
     ]
    }
   ],
   "source": [
    "base = float(input(\"Enter the base number: \"))\n",
    "exp = int(input(\"Enter the exponent: \"))\n",
    "\n",
    "\n",
    "if exp == 0:\n",
    "    result = 1\n",
    "elif exp > 0:\n",
    "    result = 1\n",
    "    for i in range(exp):\n",
    "        result *= base\n",
    "else:\n",
    "    result = 1\n",
    "    for i in range(-exp):  \n",
    "        result *= base\n",
    "    result = 1 / result    \n",
    "\n",
    "print(f\"{base} raised to the power {exp} is: {result}\")\n"
   ]
  }
 ],
 "metadata": {
  "kernelspec": {
   "display_name": "Python 3 (ipykernel)",
   "language": "python",
   "name": "python3"
  },
  "language_info": {
   "codemirror_mode": {
    "name": "ipython",
    "version": 3
   },
   "file_extension": ".py",
   "mimetype": "text/x-python",
   "name": "python",
   "nbconvert_exporter": "python",
   "pygments_lexer": "ipython3",
   "version": "3.13.5"
  }
 },
 "nbformat": 4,
 "nbformat_minor": 5
}
