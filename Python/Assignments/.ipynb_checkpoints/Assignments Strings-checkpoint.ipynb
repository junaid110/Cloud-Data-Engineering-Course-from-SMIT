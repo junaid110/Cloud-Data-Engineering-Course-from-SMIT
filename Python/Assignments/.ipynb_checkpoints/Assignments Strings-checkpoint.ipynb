{
 "cells": [
  {
   "cell_type": "markdown",
   "id": "538db480-d093-46f3-a17a-bc764a6b2a27",
   "metadata": {},
   "source": [
    "- Write a program accepts a string from user. Your program should count and display number of\n",
    "vowels in that string"
   ]
  },
  {
   "cell_type": "code",
   "execution_count": 14,
   "id": "aa03bba6-17fa-410d-9b43-8ac95cea950b",
   "metadata": {},
   "outputs": [
    {
     "name": "stdin",
     "output_type": "stream",
     "text": [
      "Enter a string:  AEIOU\n"
     ]
    },
    {
     "name": "stdout",
     "output_type": "stream",
     "text": [
      "Number of Vowels in this string is: 5\n"
     ]
    }
   ],
   "source": [
    "text = input(\"Enter a string: \").lower()\n",
    "text.count(\"aeiou\")\n",
    "print(f\"Number of Vowels in this string is: {count}\")\n",
    "\n",
    "#Using Count Method\n",
    "#Returns the number of times a specified value occurs in a string"
   ]
  },
  {
   "cell_type": "markdown",
   "id": "e3aa696c-70f1-4e4f-a8c4-31cbd992da6c",
   "metadata": {},
   "source": [
    "2. Write a program that reads a string from keyboard and display:\n",
    "* The number of uppercase letters in the string\n",
    "* The number of lowercase letters in the string\n",
    "* The number of digits in the string\n",
    "* The number of whitespace characters in the string "
   ]
  },
  {
   "cell_type": "code",
   "execution_count": 36,
   "id": "a09d10cf-340d-4d2e-9bc4-7212f2839e1a",
   "metadata": {},
   "outputs": [
    {
     "name": "stdin",
     "output_type": "stream",
     "text": [
      "Enter a string:  Syed Muhammad Junaid 1150\n"
     ]
    },
    {
     "name": "stdout",
     "output_type": "stream",
     "text": [
      "Uppercase letters: 3\n",
      "Lowercase letters: 15\n",
      "Digits: 4\n",
      "Whitespace characters: 3\n"
     ]
    }
   ],
   "source": [
    "text = input(\"Enter a string: \")\n",
    "\n",
    "uppercase_count = sum(map(str.isupper, text))\n",
    "lowercase_count = sum(map(str.islower, text))\n",
    "digit_count = sum(map(str.isdigit, text))\n",
    "whitespace_count = text.count(\" \")\n",
    "\n",
    "\n",
    "print(\"Uppercase letters:\", uppercase_count)\n",
    "print(\"Lowercase letters:\", lowercase_count)\n",
    "print(\"Digits:\", digit_count)\n",
    "print(\"Whitespace characters:\", whitespace_count)\n",
    "\n"
   ]
  },
  {
   "cell_type": "markdown",
   "id": "3b833855-21fe-4a74-926c-bc55655e40f7",
   "metadata": {},
   "source": [
    "- Write a Python program that accepts a string from user. Your program should create and display a\n",
    "new string where the first and last characters have been exchanged."
   ]
  },
  {
   "cell_type": "code",
   "execution_count": 41,
   "id": "2e46d4f7-1f8f-4519-81ec-625a7f4cd2ea",
   "metadata": {},
   "outputs": [
    {
     "name": "stdin",
     "output_type": "stream",
     "text": [
      "Enter a String Hello\n"
     ]
    },
    {
     "name": "stdout",
     "output_type": "stream",
     "text": [
      "oellH\n"
     ]
    }
   ],
   "source": [
    "my_str = input(\"Enter a String\")\n",
    "new_str = f\"{my_str[-1]}{my_str[1:-1]}{my_str[0]}\" #using F-String & Slicing (-1 Last Character, 1:-1 Middle)\n",
    "print(new_str)                                     #0 is first character.\n"
   ]
  },
  {
   "cell_type": "markdown",
   "id": "de6516f0-9eae-4431-b9f3-cf592491640c",
   "metadata": {},
   "source": [
    "- Write a Python program that accepts a string from user. Your program should create a new string in\n",
    "reverse of first string and display it"
   ]
  },
  {
   "cell_type": "code",
   "execution_count": 46,
   "id": "97a04b91-4132-4018-9ab6-807e5c9c2cee",
   "metadata": {},
   "outputs": [
    {
     "name": "stdin",
     "output_type": "stream",
     "text": [
      "Enter a String EXAM\n"
     ]
    },
    {
     "name": "stdout",
     "output_type": "stream",
     "text": [
      "MAXE\n"
     ]
    }
   ],
   "source": [
    "my_str = input(\"Enter a String\")\n",
    "new_str= f\"{my_str[::-1]}\"  #[::-1] is a slicing operation used to reverse a sequence\n",
    "print(new_str)                              #(such as a string, list, or tuple)."
   ]
  },
  {
   "cell_type": "markdown",
   "id": "efbe63b2-5073-4df5-af1f-26abb1733cba",
   "metadata": {},
   "source": [
    "-  Write a Python program that accepts a string from user. Your program should create a new string by\n",
    "shifting one position to left.\n",
    "For example if the user enters the string 'examination 2021' then new string would be 'xamination\n",
    "2021e' \n"
   ]
  },
  {
   "cell_type": "code",
   "execution_count": 49,
   "id": "d54995bb-69d5-4334-aaa5-e14323a17661",
   "metadata": {},
   "outputs": [
    {
     "name": "stdin",
     "output_type": "stream",
     "text": [
      "Enter a String examination 2021\n"
     ]
    },
    {
     "name": "stdout",
     "output_type": "stream",
     "text": [
      "xamination 2021e\n"
     ]
    }
   ],
   "source": [
    "my_str = input(\"Enter a String\")\n",
    "new_str = f\"{my_str[1:]+ my_str[0]}\"  #1: index 1 to end: xamination 2021, [0] first index: e \n",
    "print(new_str) "
   ]
  },
  {
   "cell_type": "markdown",
   "id": "13920fe9-c637-4574-a5c9-f6504b913bf6",
   "metadata": {},
   "source": [
    " - Write a program that asks the user to input his name and print its initials. Assuming that the user\n",
    "always types first name, middle name and last name and does not include any unnecessary spaces.\n",
    "For example, if the user enters Ajay Kumar Garg the program should display A. K. G.\n",
    "Note:Don't use split() method"
   ]
  },
  {
   "cell_type": "code",
   "execution_count": 57,
   "id": "694b4820-dd23-4e96-9393-8283f8122fae",
   "metadata": {},
   "outputs": [
    {
     "name": "stdin",
     "output_type": "stream",
     "text": [
      "Enter your First Name: Muhammad\n",
      "Enter your Middle Name: Junaid\n",
      "Enter your Last Name: Abbas\n"
     ]
    },
    {
     "name": "stdout",
     "output_type": "stream",
     "text": [
      "M J A\n"
     ]
    }
   ],
   "source": [
    "f_name = input(\"Enter your First Name:\")\n",
    "m_name = input(\"Enter your Middle Name:\")\n",
    "l_name = input(\"Enter your Last Name:\")\n",
    "\n",
    "full_name= f\"{f_name[0]+' '+ m_name[0]+ ' '+ l_name[0]}\"\n",
    "print(full_name)\n"
   ]
  },
  {
   "cell_type": "markdown",
   "id": "015c20ca-0a44-4e4c-a539-aa8200463e09",
   "metadata": {},
   "source": [
    "- A palindrome is a string that reads the same backward as forward. For example, the words dad,\n",
    "madam and radar are all palindromes. Write a programs that determines whether the string is a\n",
    "palindrome.\n",
    "Note: do not use reverse() method "
   ]
  },
  {
   "cell_type": "code",
   "execution_count": 60,
   "id": "5964bb52-55c5-4ba3-841a-bbe80b3a5668",
   "metadata": {},
   "outputs": [
    {
     "name": "stdin",
     "output_type": "stream",
     "text": [
      "Enter a String Madam\n"
     ]
    },
    {
     "name": "stdout",
     "output_type": "stream",
     "text": [
      "This is not Palindrome\n"
     ]
    }
   ],
   "source": [
    "my_str = input(\"Enter a String\")\n",
    "new_str= f\"{my_str[::-1]}\"  #[::-1]for reverse slicing\n",
    "\n",
    "if my_str == new_str:\n",
    "    print(\"This is Palindrome\")\n",
    "else:\n",
    "    print(\"This is not Palindrome\")\n",
    "    "
   ]
  },
  {
   "cell_type": "markdown",
   "id": "a76b9940-18d6-450a-a7c5-5c1daf7eb682",
   "metadata": {},
   "source": [
    "- Write a program that display following output:\n",
    "SHIFT\n",
    "HIFTS\n",
    "IFTSH\n",
    "FTSHI\n",
    "TSHIF\n",
    "SHIFT"
   ]
  },
  {
   "cell_type": "code",
   "execution_count": 91,
   "id": "1566bf9c-5959-4523-b556-33d33c04571c",
   "metadata": {},
   "outputs": [
    {
     "name": "stdout",
     "output_type": "stream",
     "text": [
      "SHIFT \n",
      "HIFTS \n",
      "IFTSH \n",
      "FTSHI \n",
      "TSHIF \n",
      "SHIFT\n"
     ]
    }
   ],
   "source": [
    "my_str = \"SHIFT\"  #0,1,2,3,4  +  -5,-4,-3,-2,-1\n",
    "                  # S,H,I,F,T     S,H,I,F,T \n",
    "new_str = f\"{my_str[0:]} \\n{my_str[1:]+my_str[0]} \\n{my_str[2:]+my_str[0:2]} \\n{my_str[3:]+my_str[0:3]} \\n{my_str[4:]+my_str[0:4]} \\n{my_str}\"\n",
    "\n",
    "print(new_str)"
   ]
  },
  {
   "cell_type": "markdown",
   "id": "b5fa18c6-f209-4910-99d5-c003dffce5fb",
   "metadata": {},
   "source": [
    "- Write a program in python that accepts a string to setup a passwords. Your entered password must\n",
    "meet the following requirements:\n",
    "The password must be at least eight characters long.\n",
    "It must contain at least one uppercase letter.\n",
    "It must contain at least one lowercase letter.\n",
    "It must contain at least one numeric digit.\n",
    "Your program should should perform this validation. "
   ]
  },
  {
   "cell_type": "code",
   "execution_count": 98,
   "id": "4d64c863-4be4-400b-bb5a-7a44a0249f24",
   "metadata": {},
   "outputs": [
    {
     "name": "stdin",
     "output_type": "stream",
     "text": [
      "Enter your password:  JunaidAbbas12\n"
     ]
    },
    {
     "name": "stdout",
     "output_type": "stream",
     "text": [
      " Password is valid!\n"
     ]
    }
   ],
   "source": [
    "password = input(\"Enter your password: \")\n",
    "\n",
    "if len(password) >= 8 and any(ch.isupper() for ch in password) \\\n",
    "   and any(ch.islower() for ch in password) and any(ch.isdigit() for ch in password):\n",
    "    print(\" Password is valid!\")\n",
    "else:\n",
    "    print(\" Password is invalid.\")"
   ]
  },
  {
   "cell_type": "code",
   "execution_count": null,
   "id": "36bfb9b3-94a7-46ab-bb89-b2b868eb1b03",
   "metadata": {},
   "outputs": [],
   "source": []
  }
 ],
 "metadata": {
  "kernelspec": {
   "display_name": "Python 3 (ipykernel)",
   "language": "python",
   "name": "python3"
  },
  "language_info": {
   "codemirror_mode": {
    "name": "ipython",
    "version": 3
   },
   "file_extension": ".py",
   "mimetype": "text/x-python",
   "name": "python",
   "nbconvert_exporter": "python",
   "pygments_lexer": "ipython3",
   "version": "3.13.5"
  }
 },
 "nbformat": 4,
 "nbformat_minor": 5
}
