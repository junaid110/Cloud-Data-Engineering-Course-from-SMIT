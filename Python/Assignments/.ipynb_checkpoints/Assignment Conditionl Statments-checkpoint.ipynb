{
 "cells": [
  {
   "cell_type": "markdown",
   "metadata": {
    "id": "Z17yMghq1U6x"
   },
   "source": [
    "\n",
    "\n",
    "# >**Python Assignments (Conditional Statements)**\n",
    "\n",
    "\n",
    "\n",
    "\n",
    "\n"
   ]
  },
  {
   "cell_type": "markdown",
   "metadata": {
    "id": "qyGcWylGwU2P"
   },
   "source": [
    "Write a program to display \"Hello\" if a number entered by user is a multiple of five , otherwise print \"Bye\".\n"
   ]
  },
  {
   "cell_type": "code",
   "execution_count": null,
   "metadata": {
    "colab": {
     "base_uri": "https://localhost:8080/"
    },
    "id": "drHrycMpwbZt",
    "outputId": "8e6a84b5-4fa3-4f6c-d6fe-a3d0fe4ffa87"
   },
   "outputs": [
    {
     "name": "stdout",
     "output_type": "stream",
     "text": [
      "Enter a number: 73\n",
      "Bye\n"
     ]
    }
   ],
   "source": [
    "num = int(input(\"Enter a number: \"))\n",
    "if num % 5 == 0:\n",
    "    print(\"Hello\")\n",
    "else:\n",
    "    print(\"Bye\")"
   ]
  },
  {
   "cell_type": "markdown",
   "metadata": {
    "id": "r_sspyzexJfF"
   },
   "source": [
    "Write a program to display the last digit of a number.\n",
    "\n"
   ]
  },
  {
   "cell_type": "code",
   "execution_count": null,
   "metadata": {
    "id": "xbCbIZBLxLqy"
   },
   "outputs": [],
   "source": [
    "num = int(input(\"Enter a number: \"))\n",
    "last_digit = num % 10   #When any integer is divided by 10, the remainder is always its last digit.\n",
    "print(\"The last digit of\", num, \"is\", last_digit)"
   ]
  },
  {
   "cell_type": "markdown",
   "metadata": {
    "id": "Uw5kppR9ziO-"
   },
   "source": [
    "Take values of length and breadth of a rectangle from user and print if it is square or rectangle."
   ]
  },
  {
   "cell_type": "code",
   "execution_count": null,
   "metadata": {
    "colab": {
     "base_uri": "https://localhost:8080/"
    },
    "id": "9nf5nAL20JRl",
    "outputId": "30f85e10-6909-40a6-f2fc-b6b39c63a0cb"
   },
   "outputs": [
    {
     "name": "stdout",
     "output_type": "stream",
     "text": [
      "Enter a number: 4\n",
      "Enter a number: 4\n",
      "It is a square\n"
     ]
    }
   ],
   "source": [
    "length = int(input(\"Enter a number: \"))\n",
    "breadth = int(input(\"Enter a number: \"))\n",
    "if length == breadth:\n",
    "    print(\"It is a square\")\n",
    "else:\n",
    "    print(\"It is a rectangle\")"
   ]
  },
  {
   "cell_type": "markdown",
   "metadata": {
    "id": "L92xuTl_t8sG"
   },
   "source": [
    "Take two int values from user and print greatest among them"
   ]
  },
  {
   "cell_type": "code",
   "execution_count": null,
   "metadata": {
    "colab": {
     "base_uri": "https://localhost:8080/"
    },
    "id": "0CTsCnbuuAk8",
    "outputId": "2e775aed-f672-4ea9-f4eb-d289653710c3"
   },
   "outputs": [
    {
     "name": "stdout",
     "output_type": "stream",
     "text": [
      "Enter a number: 4\n",
      "Enter a number: 6\n",
      "Number 2 is Greater\n"
     ]
    }
   ],
   "source": [
    "num1 = int(input(\"Enter a number: \"))\n",
    "num2 = int(input(\"Enter a number: \"))\n",
    "if num1 > num2:\n",
    "    print(\"Number 1 is Greater\")\n",
    "elif num1 == num2:\n",
    "    print(\"Both numbers are same\")\n",
    "else:\n",
    "    print(\"Number 2 is Greater\")"
   ]
  },
  {
   "cell_type": "markdown",
   "metadata": {
    "id": "JNogsxTmvM5C"
   },
   "source": [
    "A shop will give discount of 10% if the cost of purchased quantity is more than 1000. Ask user for quantity Suppose, one unit will cost 100. Judge and print total cost for user."
   ]
  },
  {
   "cell_type": "code",
   "execution_count": null,
   "metadata": {
    "colab": {
     "base_uri": "https://localhost:8080/"
    },
    "id": "jb7qs39MvdMC",
    "outputId": "0788d11f-80d1-419a-d9e6-42689b562469"
   },
   "outputs": [
    {
     "name": "stdout",
     "output_type": "stream",
     "text": [
      "Enter a Quantity: 10000\n",
      "Total Cost is:  900000.0\n"
     ]
    }
   ],
   "source": [
    "quantity = int(input(\"Enter a Quantity: \"))\n",
    "total_cost = quantity * 100\n",
    "if total_cost > 1000:\n",
    "    discount = total_cost * 0.1\n",
    "    total_cost = total_cost - discount\n",
    "    print(\"Total Cost is: \", total_cost)"
   ]
  },
  {
   "cell_type": "markdown",
   "metadata": {
    "id": "cpKrhO821Ft4"
   },
   "source": [
    "A school has following rules for grading system:\n",
    "a. Below 25 - F\n",
    "\n",
    "b. 25 to 45 - E\n",
    "\n",
    "c. 45 to 50 - D\n",
    "\n",
    "d. 50 to 60 - C\n",
    "\n",
    "e. 60 to 80 - B\n",
    "\n",
    "f. Above 80 - A\n",
    "\n",
    "Ask user to enter marks and print the corresponding grade."
   ]
  },
  {
   "cell_type": "code",
   "execution_count": null,
   "metadata": {
    "colab": {
     "base_uri": "https://localhost:8080/"
    },
    "id": "n_0r5lOgy8xW",
    "outputId": "d5db4510-57a6-4cee-a461-682d3c57ab55"
   },
   "outputs": [
    {
     "name": "stdout",
     "output_type": "stream",
     "text": [
      "Enter Your Marks Please:45\n",
      " Your marks is 45.0 and your grade is D\n"
     ]
    }
   ],
   "source": [
    "marks =float(input(\"Enter Your Marks Please:\"))\n",
    "\n",
    "if marks >=0 and marks <25:\n",
    "    print(f\" Your marks is {marks} and your grade is F\")\n",
    "elif marks >= 25 and marks <45:\n",
    "     print(f\" Your marks is {marks} and your grade is E\")\n",
    "elif marks >= 45 and marks <50:\n",
    "     print(f\" Your marks is {marks} and your grade is D\")\n",
    "elif marks >= 50 and marks <60:\n",
    "     print(f\" Your marks is {marks} and your grade is C\")\n",
    "elif marks >= 60 and marks <80:\n",
    "     print(f\" Your marks is {marks} and your grade is B\")\n",
    "elif marks >=80 and marks <100:\n",
    "     print(f\" Your marks is {marks} and your grade is A\")\n",
    "else:\n",
    "    print(\"Invalid Syntax\")"
   ]
  },
  {
   "cell_type": "markdown",
   "metadata": {
    "id": "kyRWPST11QkH"
   },
   "source": [
    "A student will not be allowed to sit in exam if his/her attendence is less than 75%.\n",
    "\n",
    "Take following input from user\n",
    "\n",
    "Number of classes held\n",
    "\n",
    "Number of classes attended.\n",
    "\n",
    "And print\n",
    "\n",
    "percentage of class attended\n",
    "\n",
    "Is student is allowed to sit in exam or not."
   ]
  },
  {
   "cell_type": "code",
   "execution_count": null,
   "metadata": {
    "id": "id77H0Bo2IvC"
   },
   "outputs": [],
   "source": [
    "classes_held = int(input(\"Enter the number of classes held: \"))\n",
    "classes_attended = int(input(\"Enter the number of classes attended: \"))\n",
    "perc_of_class = (classes_attended/classes_held) * 100\n",
    "print(f\" Percentage of Class attended is {perc_of_class:.2f}%\")\n",
    "if perc_of_class >= 75:\n",
    "    print(\"You are allowed to sit in the exam.\")\n",
    "else:\n",
    "  print(\"You are not allowed to sit in the exam due to low attendance.\")"
   ]
  },
  {
   "cell_type": "markdown",
   "metadata": {
    "id": "7p6OiF-n4VYq"
   },
   "source": [
    "Modify the above question to allow student to sit if he/she has medical cause. Ask user if he/she has medical cause or not ( 'Y' or 'N' ) and print accordingly."
   ]
  },
  {
   "cell_type": "code",
   "execution_count": null,
   "metadata": {
    "colab": {
     "base_uri": "https://localhost:8080/"
    },
    "id": "Mtnn56eA4gya",
    "outputId": "613e0252-0048-419f-e560-4ecf5de862b2"
   },
   "outputs": [
    {
     "name": "stdout",
     "output_type": "stream",
     "text": [
      "Enter the number of classes held: 6\n",
      "Enter the number of classes attended: 2\n",
      " Percentage of Class attended is 33.33%\n",
      "You are not allowed to sit in the exam due to low attendance.\n",
      "Do you have a medical cause? (Y/N): y\n"
     ]
    }
   ],
   "source": [
    "classes_held = int(input(\"Enter the number of classes held: \"))\n",
    "classes_attended = int(input(\"Enter the number of classes attended: \"))\n",
    "perc_of_class = (classes_attended/classes_held) * 100\n",
    "print(f\" Percentage of Class attended is {perc_of_class:.2f}%\")\n",
    "if perc_of_class >= 75:\n",
    "    print(\"You are allowed to sit in the exam.\")\n",
    "else:\n",
    "  print(\"You are not allowed to sit in the exam due to low attendance.\")\n",
    "  medical_cause = input(\"Do you have a medical cause? (Y/N): \")\n",
    "  if medical_cause == \"Y\":\n",
    "    print(\"You are allowed to sit in the exam.\")"
   ]
  },
  {
   "cell_type": "markdown",
   "metadata": {
    "id": "-YJczOMU6DWn"
   },
   "source": [
    "Write a program to check if a year is leap year or not.\n",
    "If a year is divisible by 4 then it is leap year but if the year is century year like 2000, 1900, 2100 then it must be divisible by 400."
   ]
  },
  {
   "cell_type": "code",
   "execution_count": null,
   "metadata": {
    "colab": {
     "base_uri": "https://localhost:8080/"
    },
    "id": "hSTG2Mso6CKH",
    "outputId": "4d647981-d53d-4b26-d0a6-dfe24e02993c"
   },
   "outputs": [
    {
     "name": "stdout",
     "output_type": "stream",
     "text": [
      "Enter a year: 2011\n",
      "2011 is not a leap year.\n"
     ]
    }
   ],
   "source": [
    "year =int(input(\"Enter a year: \"))\n",
    "if (year % 4 == 0 and year % 100 != 0) or (year % 400 == 0):\n",
    "    print(f\"{year} is a leap year.\")\n",
    "else:\n",
    "    print(f\"{year} is not a leap year.\")\n"
   ]
  },
  {
   "cell_type": "markdown",
   "metadata": {
    "id": "WxRqbExR9b6j"
   },
   "source": [
    "Ask user to enter age, gender ( M or F ), marital status ( Y or N ) and then using following rules print their place of service.\n",
    "if employee is female, then she will work only in urban areas.\n",
    "\n",
    "if employee is a male and age is in between 20 to 40 then he may work in anywhere\n",
    "\n",
    "if employee is male and age is in between 40 t0 60 then he will work in urban areas only.\n",
    "\n",
    "And any other input of age should print \"ERROR\""
   ]
  },
  {
   "cell_type": "code",
   "execution_count": null,
   "metadata": {
    "colab": {
     "base_uri": "https://localhost:8080/"
    },
    "id": "G8ozQYDz9dmh",
    "outputId": "d039600f-13b8-4b89-c4a1-e0295f438f6e"
   },
   "outputs": [
    {
     "name": "stdout",
     "output_type": "stream",
     "text": [
      "Enter your age:55\n",
      "Enter your gender (M or F):M\n",
      "Enter your marital status (Y or N):Y\n",
      "He Will Work in Urban Areas Only\n"
     ]
    }
   ],
   "source": [
    "age = int(input(\"Enter your age:\"))\n",
    "gender = input(\"Enter your gender (M or F):\").upper()\n",
    "marital_status = input(\"Enter your marital status (Y or N):\").upper()\n",
    "if gender == \"F\":\n",
    "    print(\"You will work only in urban areas.\")\n",
    "elif gender == \"M\" and age >= 20 and age <= 40:\n",
    "    print(\"You May Work Anywhere\")\n",
    "elif gender ==\"M\" and 40 < age <= 60:\n",
    "    print(\"He Will Work in Urban Areas Only\")\n",
    "else:\n",
    "    print(\" ERROR\")"
   ]
  },
  {
   "cell_type": "markdown",
   "metadata": {
    "id": "lW0jQ2Wi9eMR"
   },
   "source": [
    "Write a program to calculate the electricity bill (accept number of unit from user) according to the following criteria : Unit Price\n",
    "uptp 100 units no charge Next 200 units Rs 5 per unit After 200 units Rs 10 per unit (For example if input unit is 350 than total bill amount is Rs.3500 (For example if input unit is 97 than total bill amount is Rs.0 (For example if input unit is 150 than total bill amount is Rs.750"
   ]
  },
  {
   "cell_type": "code",
   "execution_count": null,
   "metadata": {
    "colab": {
     "base_uri": "https://localhost:8080/"
    },
    "id": "b26v0pwN9gBZ",
    "outputId": "374608e7-afc4-4bb3-dc95-45e8abb24d9d"
   },
   "outputs": [
    {
     "name": "stdout",
     "output_type": "stream",
     "text": [
      "Enter the number of units consumed: 350\n",
      "This is your Bill Amount: 3500 \n"
     ]
    }
   ],
   "source": [
    "unit = int(input(\"Enter the number of units consumed: \"))\n",
    "if unit <= 100:\n",
    "    bill_amount = 0\n",
    "    print(f\"This is your Bill Amount: {bill_amount} \")\n",
    "elif unit <= 300:\n",
    "    bill_amount = unit * 5\n",
    "    print(f\"This is your Bill Amount: {bill_amount} \")\n",
    "else:\n",
    "    bill_amount = unit * 10\n",
    "    print(f\"This is your Bill Amount: {bill_amount} \")"
   ]
  },
  {
   "cell_type": "markdown",
   "metadata": {
    "id": "-1yE9l1c9gkp"
   },
   "source": [
    "- Take input of age of 3 people by user and determine oldest and youngest among them."
   ]
  },
  {
   "cell_type": "code",
   "execution_count": 17,
   "metadata": {
    "id": "NsGnpy7X9hpK"
   },
   "outputs": [
    {
     "name": "stdin",
     "output_type": "stream",
     "text": [
      "Enter age of first person:  45\n",
      "Enter age of second person:  65\n",
      "Enter age of third person:  45\n"
     ]
    },
    {
     "name": "stdout",
     "output_type": "stream",
     "text": [
      "The oldest age is: 65\n",
      "The youngest age is: 45\n"
     ]
    }
   ],
   "source": [
    "age1 = int(input(\"Enter age of first person: \"))\n",
    "age2 = int(input(\"Enter age of second person: \"))\n",
    "age3 = int(input(\"Enter age of third person: \"))\n",
    "\n",
    "# Determine oldest\n",
    "if age1 >= age2 and age1 >= age3:   # First Person ki age >= hogi age2 & 3 se tw oldest age1 hogi\n",
    "    oldest = age1\n",
    "elif age2 >= age1 and age2 >= age3: # Agar Second Person ki age >= hogi age 1 & 3 se tw oldest age2 hogi\n",
    "    oldest = age2\n",
    "else:                               # Otherwise age3 oldest hoga (Real World Example of persons)\n",
    "    oldest = age3\n",
    "\n",
    "# Determine youngest\n",
    "if age1 <= age2 and age1 <= age3:   # agar age1 ki age <= age 2 & 3 se kam hogi tw youngest age1 hogi\n",
    "    youngest = age1\n",
    "elif age2 <= age1 and age2 <= age3: # agar 2 ki age <= age 1 & 3 se kam hogi tw youngest age2 hogi\n",
    "    youngest = age2\n",
    "else:                               # otherwise age3 Youngest hoga\n",
    "    youngest = age3\n",
    "\n",
    "print(f\"The oldest age is: {oldest}\")\n",
    "print(f\"The youngest age is: {youngest}\")\n"
   ]
  },
  {
   "cell_type": "code",
   "execution_count": null,
   "metadata": {},
   "outputs": [],
   "source": []
  }
 ],
 "metadata": {
  "colab": {
   "provenance": []
  },
  "kernelspec": {
   "display_name": "Python 3 (ipykernel)",
   "language": "python",
   "name": "python3"
  },
  "language_info": {
   "codemirror_mode": {
    "name": "ipython",
    "version": 3
   },
   "file_extension": ".py",
   "mimetype": "text/x-python",
   "name": "python",
   "nbconvert_exporter": "python",
   "pygments_lexer": "ipython3",
   "version": "3.13.5"
  }
 },
 "nbformat": 4,
 "nbformat_minor": 4
}
