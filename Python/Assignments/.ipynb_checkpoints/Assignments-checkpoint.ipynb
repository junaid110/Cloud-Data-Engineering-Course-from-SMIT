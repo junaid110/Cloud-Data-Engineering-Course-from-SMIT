{
 "cells": [
  {
   "cell_type": "markdown",
   "id": "47ca961c-5273-434e-86c5-5e96bd267ed8",
   "metadata": {},
   "source": [
    "### Python Basics (Conditional Statements)"
   ]
  },
  {
   "cell_type": "markdown",
   "id": "6af635d7-8e6e-4e27-aae8-fcf845e82036",
   "metadata": {},
   "source": [
    "- A company decided to give bonus of 5% to employee if his/her year of service is more than 5 years. Ask user for their salary and year of service and print the net bonus amount.\n"
   ]
  },
  {
   "cell_type": "code",
   "execution_count": 7,
   "id": "f35420bf-62de-49ac-9ce9-ac3aed17f068",
   "metadata": {},
   "outputs": [
    {
     "name": "stdin",
     "output_type": "stream",
     "text": [
      "Enter Your Salary Please: 69999\n",
      "Enter Your Service Year Please: 6\n"
     ]
    },
    {
     "name": "stdout",
     "output_type": "stream",
     "text": [
      "Bonus Amount 3499.9500000000003\n"
     ]
    }
   ],
   "source": [
    "emp_salary = int(input(\"Enter Your Salary Please:\"))\n",
    "year= int(input(\"Enter Your Service Year Please:\"))\n",
    "\n",
    "if year > 5:\n",
    "    bonus = emp_salary * 0.05\n",
    "    print(\"Bonus Amount\",bonus)\n",
    "else:\n",
    "     print(\"Your are not eligible for bonus\")\n"
   ]
  },
  {
   "cell_type": "markdown",
   "id": "538c1d7f-a829-435e-8919-555eafc885b1",
   "metadata": {},
   "source": [
    "- Write a program to check whether a person is eligible for voting or not. (accept age from user) if age is greater than 17 eligible otherwise not eligible"
   ]
  },
  {
   "cell_type": "code",
   "execution_count": 9,
   "id": "9b8eb3e6-d07b-4d1c-9c36-6c9b99961b9a",
   "metadata": {},
   "outputs": [
    {
     "name": "stdin",
     "output_type": "stream",
     "text": [
      "Enter Your Age Please: 76\n"
     ]
    },
    {
     "name": "stdout",
     "output_type": "stream",
     "text": [
      "You are eligible for voting\n"
     ]
    }
   ],
   "source": [
    "age = int(input(\"Enter Your Age Please:\"))\n",
    "\n",
    "if age > 18:\n",
    "    print(\"You are eligible for voting\")\n",
    "else:\n",
    "    print(\"You are not eligible for voting\")"
   ]
  },
  {
   "cell_type": "markdown",
   "id": "daa74e0d-971d-466c-be2f-5f498d526004",
   "metadata": {},
   "source": [
    "- Write a program to check whether a number entered by user is even or odd.\n"
   ]
  },
  {
   "cell_type": "code",
   "execution_count": 15,
   "id": "c6c64150-1dec-4712-a42a-02eca08dceec",
   "metadata": {},
   "outputs": [
    {
     "name": "stdin",
     "output_type": "stream",
     "text": [
      "Enter Number: 6\n"
     ]
    },
    {
     "name": "stdout",
     "output_type": "stream",
     "text": [
      "6 is even\n"
     ]
    }
   ],
   "source": [
    "num =  int(input(\"Enter Number:\"))\n",
    "    \n",
    "if num % 2 == 0:\n",
    "    print(f\"{num} is even\")\n",
    "else:\n",
    "    print(f\"{num} is odd\")\n"
   ]
  },
  {
   "cell_type": "markdown",
   "id": "751ac55e-75eb-4f82-8e5e-e4e13fdc4d51",
   "metadata": {},
   "source": [
    "- Write a program to check whether a number is divisible by 7 or not. Show Answer\n"
   ]
  },
  {
   "cell_type": "code",
   "execution_count": 17,
   "id": "8d0c5b3c-2bd0-4992-bf42-27c4ead03169",
   "metadata": {},
   "outputs": [
    {
     "name": "stdin",
     "output_type": "stream",
     "text": [
      "Enter Number: 7\n"
     ]
    },
    {
     "name": "stdout",
     "output_type": "stream",
     "text": [
      "7 is odd\n"
     ]
    }
   ],
   "source": [
    "number =  int(input(\"Enter Number:\"))\n",
    "    \n",
    "if number % 7 == 0:\n",
    "    print(f\"{number} is divisible by 7.\")\n",
    "else:\n",
    "    print(f\"{number} is not divisible by 7.\")\n"
   ]
  }
 ],
 "metadata": {
  "kernelspec": {
   "display_name": "Python 3 (ipykernel)",
   "language": "python",
   "name": "python3"
  },
  "language_info": {
   "codemirror_mode": {
    "name": "ipython",
    "version": 3
   },
   "file_extension": ".py",
   "mimetype": "text/x-python",
   "name": "python",
   "nbconvert_exporter": "python",
   "pygments_lexer": "ipython3",
   "version": "3.13.5"
  }
 },
 "nbformat": 4,
 "nbformat_minor": 5
}
