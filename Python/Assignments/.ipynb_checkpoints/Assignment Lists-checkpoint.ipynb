{
 "cells": [
  {
   "cell_type": "markdown",
   "id": "d88f6aba-9ba0-4922-b22b-bbe7c77902ee",
   "metadata": {},
   "source": [
    "- Write a program that accepts a list from user and print the alternate element of list"
   ]
  },
  {
   "cell_type": "code",
   "execution_count": 1,
   "id": "5b68ff90-9f11-44b7-b9c1-e0325d9bc44b",
   "metadata": {},
   "outputs": [
    {
     "name": "stdin",
     "output_type": "stream",
     "text": [
      "Enter list elements:  banana apple mango peach\n"
     ]
    },
    {
     "name": "stdout",
     "output_type": "stream",
     "text": [
      "Alternate elements of list are:\n",
      "['banana', 'mango']\n"
     ]
    }
   ],
   "source": [
    "user_input = input(\"Enter list elements: \")\n",
    "\n",
    "# String ko list me convert karna (split use karke)\n",
    "my_list = user_input.split()\n",
    "\n",
    "# Alternate elements print karna (0 se start karke har dusra element)\n",
    "print(\"Alternate elements of list are:\")\n",
    "print(my_list[::2])\n"
   ]
  },
  {
   "cell_type": "markdown",
   "id": "19ec2b8c-6384-4bc7-a24d-8d200ccf0756",
   "metadata": {},
   "source": [
    "- Write a program that accepts a list from user. Your program should reverse the content of list and\n",
    "display it. Do not use reverse() method. "
   ]
  },
  {
   "cell_type": "code",
   "execution_count": 15,
   "id": "af6a6d36-910c-4830-b17a-d718aede9c66",
   "metadata": {},
   "outputs": [
    {
     "name": "stdin",
     "output_type": "stream",
     "text": [
      "Enter list elements :  banana mango apple peach orange\n"
     ]
    },
    {
     "name": "stdout",
     "output_type": "stream",
     "text": [
      "Alternate elements of list are:\n",
      "['orange', 'peach', 'apple', 'mango', 'banana']\n"
     ]
    }
   ],
   "source": [
    "user_input = input(\"Enter list elements : \")\n",
    "my_list = user_input.split()\n",
    "print(\"Alternate elements of list are:\")\n",
    "print(my_list[::-1])  #reverse the list without reverse method"
   ]
  },
  {
   "cell_type": "markdown",
   "id": "ebca6bdf-284f-45c5-b011-524a09c0b068",
   "metadata": {},
   "source": [
    "- Find and display the largest number of a list without using built-in function max(). Your program\n",
    "should ask the user to input values in list from keyboard."
   ]
  },
  {
   "cell_type": "code",
   "execution_count": null,
   "id": "83c5b4cc-0fcf-4762-906f-ad321d24e066",
   "metadata": {},
   "outputs": [],
   "source": [
    "# Ask user for list input\n",
    "numbers = input(\"Enter numbers separated by space: \").split()\n",
    "\n",
    "# Convert string input to integers\n",
    "numbers = [int(num) for num in numbers]\n",
    "\n",
    "# Assume first number is largest\n",
    "largest = numbers[0]\n",
    "for num in numbers:\n",
    "    if num > largest:\n",
    "        largest = num\n",
    "\n",
    "print(\"The largest number is:\", largest)\n"
   ]
  },
  {
   "cell_type": "markdown",
   "id": "3eb6a621-1941-489a-bf4d-fc692f6760ff",
   "metadata": {},
   "source": [
    "- Write a program that rotates the element of a list so that the element at the first index moves to the\n",
    "second index, the element in the second index moves to the third index, etc., and the element in the last\n",
    "index moves to the first index. "
   ]
  },
  {
   "cell_type": "code",
   "execution_count": 12,
   "id": "1be040ca-936d-48b4-b330-b22595c617ef",
   "metadata": {},
   "outputs": [
    {
     "name": "stdout",
     "output_type": "stream",
     "text": [
      "['Peach', 'Banana', 'Apple', 'Orange', 'Peach']\n"
     ]
    }
   ],
   "source": [
    "my_list = [\"Banana\",\"Apple\",\"Orange\",\"Peach\"]\n",
    "new_str = f\"{my_list[3:]+my_list[0:]}\"  #1: index 1 to end: xamination 2021, [0] first index: e \n",
    "print(new_str) "
   ]
  },
  {
   "cell_type": "markdown",
   "id": "002913fe-897f-4315-b22d-0eee238c3436",
   "metadata": {},
   "source": [
    "- Write a program that input a string and ask user to delete a given word from a string."
   ]
  },
  {
   "cell_type": "code",
   "execution_count": 19,
   "id": "b305393e-79f0-45c5-978a-09f7f0eb5486",
   "metadata": {},
   "outputs": [
    {
     "name": "stdin",
     "output_type": "stream",
     "text": [
      "Enter a string: love play cricket\n",
      "Enter a Word you want to delete: love\n"
     ]
    },
    {
     "name": "stdout",
     "output_type": "stream",
     "text": [
      " play cricket\n"
     ]
    }
   ],
   "source": [
    "user_input = input(\"Enter a string:\")\n",
    "word = input(\"Enter a Word you want to delete:\")\n",
    "new_text = user_input.replace(word,\"\") #primary method for replacing substrings within a string is the built-in replace() method\n",
    "print(new_text)"
   ]
  },
  {
   "cell_type": "markdown",
   "id": "3ab928f4-ac9a-44b4-959b-f146d8882000",
   "metadata": {},
   "source": [
    "- Write a program that reads a string from the user containing a date in the form mm/dd/yyyy. It\n",
    "should print the date in the form March 12, 2021."
   ]
  },
  {
   "cell_type": "code",
   "execution_count": 20,
   "id": "8e78a6ea-1dde-45a8-9b85-3a80baa1b753",
   "metadata": {},
   "outputs": [
    {
     "name": "stdin",
     "output_type": "stream",
     "text": [
      "Enter date in mm/dd/yyyy format:  11/01/1995\n"
     ]
    },
    {
     "name": "stdout",
     "output_type": "stream",
     "text": [
      "November 01, 1995\n"
     ]
    }
   ],
   "source": [
    "date = input(\"Enter date in mm/dd/yyyy format: \")\n",
    "\n",
    "parts = date.split(\"/\")   # Example: [\"03\", \"12\", \"2021\"]\n",
    "months = [\"January\", \"February\", \"March\", \"April\", \"May\", \"June\",\n",
    "          \"July\", \"August\", \"September\", \"October\", \"November\", \"December\"]\n",
    "\n",
    "month_num = int(parts[0])      # \"03\" -> 3\n",
    "day = parts[1]                 # \"12\"\n",
    "year = parts[2]                # \"2021\"\n",
    "\n",
    "# Get month name from list\n",
    "month_name = months[month_num - 1]\n",
    "\n",
    "# Final output\n",
    "print(f\"{month_name} {day}, {year}\")\n"
   ]
  },
  {
   "cell_type": "markdown",
   "id": "d41be5b2-d6b0-4465-9875-ae33b34a5a79",
   "metadata": {},
   "source": [
    "-  Write a program with a function that accepts a string from keyboard and create a new string after\n",
    "converting character of each word capitalized. For instance, if the sentence is \"stop and smell the roses.\"\n",
    "the output should be \"Stop And Smell The Roses\""
   ]
  },
  {
   "cell_type": "code",
   "execution_count": 42,
   "id": "d5363590-0dbe-4484-bf14-47eab25f7061",
   "metadata": {},
   "outputs": [
    {
     "name": "stdin",
     "output_type": "stream",
     "text": [
      "Enter a string: stop and smell the roses\n"
     ]
    },
    {
     "name": "stdout",
     "output_type": "stream",
     "text": [
      "Stop And Smell The Roses\n"
     ]
    }
   ],
   "source": [
    "user_input = input(\"Enter a string:\")\n",
    "new_str= user_input.title()  #built-in string method used to convert a string into \"title case.\n",
    "print(new_str)               # This means that the first letter of each word in the string is capitalized"
   ]
  },
  {
   "cell_type": "markdown",
   "id": "96a0e610-481e-4a9b-bbda-eb4548293d9d",
   "metadata": {},
   "source": [
    "- Find the sum of each row of matrix of size m x n. For example for the following matrix output will be\n",
    "like this :\n",
    "Sum of row 1 = 32\n",
    "Sum of row 2 = 31\n",
    "Sum of row 3 = 63"
   ]
  },
  {
   "cell_type": "code",
   "execution_count": 43,
   "id": "390538a2-7a1d-49a7-852f-de8360f69056",
   "metadata": {},
   "outputs": [
    {
     "name": "stdout",
     "output_type": "stream",
     "text": [
      "Sum of row 1 = 32\n",
      "Sum of row 2 = 31\n",
      "Sum of row 3 = 63\n"
     ]
    }
   ],
   "source": [
    "matrix = [\n",
    "    [2, 11, 7, 12],\n",
    "    [5, 2, 9, 15],\n",
    "    [8, 3, 10, 42]\n",
    "]\n",
    "\n",
    "for i in range(len(matrix)):      # jitni rows hain utni dafa loop chalega\n",
    "    row_sum = sum(matrix[i])      # current row ka sum\n",
    "    print(f\"Sum of row {i+1} = {row_sum}\")\n"
   ]
  },
  {
   "cell_type": "markdown",
   "id": "65d373f4-9f43-4273-9e57-a3c1c38502c7",
   "metadata": {},
   "source": [
    "- Write a program to add two matrices of size n x m. \n"
   ]
  },
  {
   "cell_type": "code",
   "execution_count": 44,
   "id": "92940d67-e0e0-45d6-92dc-c566dad5f76d",
   "metadata": {},
   "outputs": [
    {
     "name": "stdout",
     "output_type": "stream",
     "text": [
      "Matrix A + Matrix B =\n",
      "[10, 10, 10]\n",
      "[10, 10, 10]\n",
      "[10, 10, 10]\n"
     ]
    }
   ],
   "source": [
    "A = [\n",
    "    [1, 2, 3],\n",
    "    [4, 5, 6],\n",
    "    [7, 8, 9]\n",
    "]\n",
    "\n",
    "B = [\n",
    "    [9, 8, 7],\n",
    "    [6, 5, 4],\n",
    "    [3, 2, 1]\n",
    "]\n",
    "result = []\n",
    "\n",
    "for i in range(len(A)):\n",
    "    row = []  # ek row banayenge\n",
    "    for j in range(len(A[0])):  \n",
    "        row.append(A[i][j] + B[i][j])  # dono matrix ke same elements ko add karna\n",
    "    result.append(row)  # row ko result me dalna\n",
    "\n",
    "# Print result\n",
    "print(\"Matrix A + Matrix B =\")\n",
    "for r in result:\n",
    "    print(r)\n"
   ]
  },
  {
   "cell_type": "markdown",
   "id": "374bc168-29bf-4a23-aff4-a8d03c46f901",
   "metadata": {},
   "source": [
    "- Write a program to multiply two matrices\n"
   ]
  },
  {
   "cell_type": "code",
   "execution_count": 47,
   "id": "df0273f7-498f-49a0-991b-fbef3ce8e5a1",
   "metadata": {},
   "outputs": [
    {
     "name": "stdout",
     "output_type": "stream",
     "text": [
      "Matrix A * Matrix B =\n",
      "[9, 16, 21]\n",
      "[24, 25, 24]\n",
      "[21, 16, 9]\n"
     ]
    }
   ],
   "source": [
    "\n",
    "A = [\n",
    "    [1, 2, 3],\n",
    "    [4, 5, 6],\n",
    "    [7, 8, 9]\n",
    "]\n",
    "B = [\n",
    "    [9, 8, 7],\n",
    "    [6, 5, 4],\n",
    "    [3, 2, 1]\n",
    "]\n",
    "\n",
    "result = []\n",
    "\n",
    "# Loop through rows\n",
    "for i in range(len(A)):\n",
    "    row = []  # ek row banayenge\n",
    "    for j in range(len(A[0])):  \n",
    "        row.append(A[i][j] * B[i][j])  # dono matrix ke same elements ko X karna\n",
    "    result.append(row)  # row ko result me dalna\n",
    "\n",
    "\n",
    "print(\"Matrix A * Matrix B =\")\n",
    "for r in result:\n",
    "    print(r)\n"
   ]
  }
 ],
 "metadata": {
  "kernelspec": {
   "display_name": "Python 3 (ipykernel)",
   "language": "python",
   "name": "python3"
  },
  "language_info": {
   "codemirror_mode": {
    "name": "ipython",
    "version": 3
   },
   "file_extension": ".py",
   "mimetype": "text/x-python",
   "name": "python",
   "nbconvert_exporter": "python",
   "pygments_lexer": "ipython3",
   "version": "3.13.5"
  }
 },
 "nbformat": 4,
 "nbformat_minor": 5
}
