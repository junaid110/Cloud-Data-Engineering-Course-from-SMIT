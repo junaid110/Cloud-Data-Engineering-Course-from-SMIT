{
 "cells": [
  {
   "cell_type": "markdown",
   "id": "e9b67338-370d-4734-b2e4-30c5bed04381",
   "metadata": {},
   "source": [
    "- Write a Python program to create a class representing a Circle. Include methods to calculate its area and perimeter"
   ]
  },
  {
   "cell_type": "code",
   "execution_count": 1,
   "id": "f164b8ed-179e-4b0c-b4f5-71655bee4cdf",
   "metadata": {},
   "outputs": [],
   "source": [
    "import math"
   ]
  },
  {
   "cell_type": "code",
   "execution_count": 2,
   "id": "a1745d8a-85d8-4e7c-92d8-09c0ce7b7b2f",
   "metadata": {},
   "outputs": [
    {
     "name": "stdout",
     "output_type": "stream",
     "text": [
      "Radius: 5\n",
      "Area: 78.53981633974483\n",
      "Perimeter: 31.41592653589793\n"
     ]
    }
   ],
   "source": [
    "import math\n",
    "\n",
    "class Circle:\n",
    "    def __init__(self, radius):\n",
    "        self.radius = radius\n",
    "\n",
    "    # Method to calculate area A= π * r2\n",
    "    def area(self):\n",
    "        return math.pi * (self.radius ** 2)\n",
    "\n",
    "    # Method to calculate perimeter :Perimeter=2×π×r\n",
    "    def perimeter(self):\n",
    "        return 2 * math.pi * self.radius\n",
    "\n",
    "\n",
    "c1 = Circle(5)   \n",
    "\n",
    "print(\"Radius:\", c1.radius)\n",
    "print(\"Area:\", c1.area())\n",
    "print(\"Perimeter:\", c1.perimeter())\n"
   ]
  },
  {
   "cell_type": "markdown",
   "id": "2d0ef438-02f8-41ce-8916-180fc6aec1be",
   "metadata": {},
   "source": [
    "- Write a Python program to create a person class. Include attributes like name, country and date of birth. Implement a method to determine the person's age."
   ]
  },
  {
   "cell_type": "code",
   "execution_count": 41,
   "id": "d319cd97-ecf7-48ac-989b-e9e37ad58e71",
   "metadata": {},
   "outputs": [],
   "source": [
    "class person():\n",
    "    def __init__(self,name,country,DOB):\n",
    "        self.name = name\n",
    "        self.country= country\n",
    "        self.DOB= DOB\n",
    "\n",
    "    def Calc_Age(self,DOB):\n",
    "        age= 2025-DOB\n",
    "        print(age)"
   ]
  },
  {
   "cell_type": "code",
   "execution_count": 42,
   "id": "49d8e2f1-20a4-4c9e-a477-031e4eddac44",
   "metadata": {},
   "outputs": [],
   "source": [
    "per_obj = person(\"Junaid\",\"Pakistan\",12-11-1995)"
   ]
  },
  {
   "cell_type": "code",
   "execution_count": 43,
   "id": "1ddde910-be66-4717-8cb4-28791a8b0b0a",
   "metadata": {},
   "outputs": [
    {
     "name": "stdout",
     "output_type": "stream",
     "text": [
      "3\n"
     ]
    }
   ],
   "source": [
    "per_obj.Calc_Age(2022)"
   ]
  },
  {
   "cell_type": "code",
   "execution_count": 40,
   "id": "a2db7a1e-adf0-4e12-921d-37190f043f96",
   "metadata": {},
   "outputs": [
    {
     "data": {
      "text/plain": [
       "'Pakistan'"
      ]
     },
     "execution_count": 40,
     "metadata": {},
     "output_type": "execute_result"
    }
   ],
   "source": [
    "per_obj.country"
   ]
  },
  {
   "cell_type": "code",
   "execution_count": 55,
   "id": "24e1adaf-8c3c-456e-b448-295e7aa43d92",
   "metadata": {},
   "outputs": [
    {
     "name": "stdout",
     "output_type": "stream",
     "text": [
      "Ali age is : 32 years\n"
     ]
    }
   ],
   "source": [
    "from datetime import date\n",
    "\n",
    "class Person:\n",
    "    def __init__(self, name, country, dob):\n",
    "        self.name = name\n",
    "        self.country = country\n",
    "        self.dob = dob   # dob will be a date object (yyyy, mm, dd)\n",
    "\n",
    "    def calc_age(self):\n",
    "        today = date.today()\n",
    "        age = today.year - self.dob.year\n",
    "\n",
    "        # Agar birthday abhi nahi aya iss saal, to ek saal kam karna hoga\n",
    "        if (today.month, today.day) < (self.dob.month, self.dob.day):\n",
    "            age -= 1\n",
    "\n",
    "        return age\n",
    "\n",
    "\n",
    "p1 = Person(\"Ali\", \"Pakistan\", date(1993, 7, 20))  # 20 July 1995\n",
    "print(f\"{p1.name} age is : {p1.calc_age()} years\")"
   ]
  },
  {
   "cell_type": "markdown",
   "id": "d35c353e-8e73-461e-9962-2cb33d441500",
   "metadata": {},
   "source": [
    "- Write a Python program to create a calculator class. Include methods for basic arithmetic operations."
   ]
  },
  {
   "cell_type": "code",
   "execution_count": 95,
   "id": "1a48733d-9a2c-4bd9-8bcb-19c1e7148c75",
   "metadata": {},
   "outputs": [],
   "source": [
    "class Calculator():\n",
    "    def __init__ (self):\n",
    "        pass\n",
    "\n",
    "    def add(self,a,b):\n",
    "        add = a+b\n",
    "        print(add)\n",
    "\n",
    "    def sub(self,a,b):\n",
    "        sub = a-b\n",
    "        print(sub)\n",
    "\n",
    "    def mul(self,a,b):\n",
    "        mul = a*b\n",
    "        print(mul)\n",
    "\n",
    "    def div(self,a,b):\n",
    "        div = a%b\n",
    "        result = 10 / 0\n",
    "        print(div)\n"
   ]
  },
  {
   "cell_type": "code",
   "execution_count": 96,
   "id": "d52ef2ac-92a8-40f0-8305-7e3e6fb3b077",
   "metadata": {},
   "outputs": [
    {
     "name": "stdout",
     "output_type": "stream",
     "text": [
      "9\n"
     ]
    }
   ],
   "source": [
    "calc_obj.add(3,6)"
   ]
  },
  {
   "cell_type": "code",
   "execution_count": 97,
   "id": "bd20457c-4d50-4ffc-aa91-0284f9501c82",
   "metadata": {},
   "outputs": [],
   "source": [
    "calc_obj.div(35,6)"
   ]
  },
  {
   "cell_type": "code",
   "execution_count": 98,
   "id": "8eeb9711-8926-4961-8e95-111d169e139c",
   "metadata": {},
   "outputs": [
    {
     "name": "stdout",
     "output_type": "stream",
     "text": [
      "92\n"
     ]
    }
   ],
   "source": [
    "calc_obj.sub(656,564)"
   ]
  },
  {
   "cell_type": "code",
   "execution_count": 100,
   "id": "e1922672-6c79-408a-813e-06d549512ef5",
   "metadata": {},
   "outputs": [
    {
     "name": "stdout",
     "output_type": "stream",
     "text": [
      "20\n"
     ]
    }
   ],
   "source": [
    "calc_obj.mul(5,4)"
   ]
  },
  {
   "cell_type": "code",
   "execution_count": null,
   "id": "1c5d64d9-1967-4a15-8b8d-30492a8d7fa0",
   "metadata": {},
   "outputs": [],
   "source": []
  },
  {
   "cell_type": "code",
   "execution_count": null,
   "id": "db631b4f-7933-41d1-bcff-51ec68d380b9",
   "metadata": {},
   "outputs": [],
   "source": []
  },
  {
   "cell_type": "code",
   "execution_count": null,
   "id": "6fa1ebb1-25b6-4ce4-aacc-fa57ca2f77c0",
   "metadata": {},
   "outputs": [],
   "source": []
  }
 ],
 "metadata": {
  "kernelspec": {
   "display_name": "Python 3 (ipykernel)",
   "language": "python",
   "name": "python3"
  },
  "language_info": {
   "codemirror_mode": {
    "name": "ipython",
    "version": 3
   },
   "file_extension": ".py",
   "mimetype": "text/x-python",
   "name": "python",
   "nbconvert_exporter": "python",
   "pygments_lexer": "ipython3",
   "version": "3.13.5"
  }
 },
 "nbformat": 4,
 "nbformat_minor": 5
}
