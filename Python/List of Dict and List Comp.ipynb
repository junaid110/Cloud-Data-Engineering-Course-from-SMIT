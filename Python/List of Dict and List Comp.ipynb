{
 "cells": [
  {
   "cell_type": "markdown",
   "id": "8a1d3503-86e6-47f4-95b4-d8489d3ac26d",
   "metadata": {},
   "source": [
    "-A list of dictionaries is very common in Python when we want to store multiple records of the same type of data."
   ]
  },
  {
   "cell_type": "code",
   "execution_count": 1,
   "id": "5bc6fc41-88d9-44c9-83a8-f3de30164f14",
   "metadata": {},
   "outputs": [
    {
     "name": "stdout",
     "output_type": "stream",
     "text": [
      "Ali\n",
      "B\n"
     ]
    }
   ],
   "source": [
    "students = [\n",
    "    {\"name\": \"Ali\", \"age\": 22, \"grade\": \"A\"},\n",
    "    {\"name\": \"Sara\", \"age\": 21, \"grade\": \"B\"},\n",
    "    {\"name\": \"Ahmed\", \"age\": 23, \"grade\": \"A+\"}\n",
    "]\n",
    "\n",
    "# Accessing\n",
    "print(students[0][\"name\"])   # Ali\n",
    "print(students[1][\"grade\"])  # B\n"
   ]
  },
  {
   "cell_type": "markdown",
   "id": "d9e623a8-46f7-4305-8b4b-71c4d908c2a2",
   "metadata": {},
   "source": [
    "- How to append a new dictionary to a list of dictionaries"
   ]
  },
  {
   "cell_type": "code",
   "execution_count": 2,
   "id": "d333eafa-c52e-4db9-a70c-b0866ee21e91",
   "metadata": {},
   "outputs": [
    {
     "name": "stdout",
     "output_type": "stream",
     "text": [
      "[{'name': 'Ali', 'age': 22, 'grade': 'A'}, {'name': 'Sara', 'age': 21, 'grade': 'B'}, {'name': 'Ahmed', 'age': 23, 'grade': 'A+'}]\n"
     ]
    }
   ],
   "source": [
    "# existing list of dictionaries\n",
    "students = [\n",
    "    {\"name\": \"Ali\", \"age\": 22, \"grade\": \"A\"},\n",
    "    {\"name\": \"Sara\", \"age\": 21, \"grade\": \"B\"}\n",
    "]\n",
    "\n",
    "# new dictionary\n",
    "new_student = {\"name\": \"Ahmed\", \"age\": 23, \"grade\": \"A+\"}\n",
    "\n",
    "# append the dictionary to the list\n",
    "students.append(new_student)\n",
    "\n",
    "print(students)\n"
   ]
  },
  {
   "cell_type": "markdown",
   "id": "90e474c1-de9d-45d9-9e49-718b4afd4169",
   "metadata": {},
   "source": [
    "- Dictionary of Lists"
   ]
  },
  {
   "cell_type": "code",
   "execution_count": 3,
   "id": "ed689606-b028-471f-9883-97495ea041e1",
   "metadata": {},
   "outputs": [
    {
     "name": "stdout",
     "output_type": "stream",
     "text": [
      "['Math', 'Physics', 'Computer Science']\n",
      "Chemistry\n"
     ]
    }
   ],
   "source": [
    "# dictionary of lists\n",
    "students_subjects = {\n",
    "    \"Ali\": [\"Math\", \"Physics\", \"Computer Science\"],\n",
    "    \"Sara\": [\"Biology\", \"Chemistry\"],\n",
    "    \"Ahmed\": [\"History\", \"English\", \"Economics\"]\n",
    "}\n",
    "\n",
    "# Accessing\n",
    "print(students_subjects[\"Ali\"])       # ['Math', 'Physics', 'Computer Science']\n",
    "print(students_subjects[\"Sara\"][1])   # Chemistry\n"
   ]
  },
  {
   "cell_type": "markdown",
   "id": "c4d121d8-d4b6-4292-8483-bd01a1646d27",
   "metadata": {},
   "source": [
    "-Dictionary of Dictionaries (Dict of Dict)"
   ]
  },
  {
   "cell_type": "code",
   "execution_count": 4,
   "id": "66740947-2088-43d0-bdb2-0d1d699a1cc6",
   "metadata": {},
   "outputs": [
    {
     "name": "stdout",
     "output_type": "stream",
     "text": [
      "22\n",
      "B\n"
     ]
    }
   ],
   "source": [
    "# dictionary of dictionaries\n",
    "students_info = {\n",
    "    \"Ali\": {\"age\": 22, \"grade\": \"A\"},\n",
    "    \"Sara\": {\"age\": 21, \"grade\": \"B\"},\n",
    "    \"Ahmed\": {\"age\": 23, \"grade\": \"A+\"}\n",
    "}\n",
    "\n",
    "# Accessing\n",
    "print(students_info[\"Ali\"][\"age\"])     # 22\n",
    "print(students_info[\"Sara\"][\"grade\"]) # B\n"
   ]
  },
  {
   "cell_type": "markdown",
   "id": "82baad5b-f6b5-4ed2-904c-67d255ad4811",
   "metadata": {},
   "source": [
    "## List Comprehension"
   ]
  },
  {
   "cell_type": "raw",
   "id": "c922f975-754e-485b-b7be-8f1f983855e5",
   "metadata": {},
   "source": [
    "- [expression for item in iterable if condition]\n",
    "-  Karna kia hai.. Kiske lye.. Kaha Karni hai"
   ]
  },
  {
   "cell_type": "code",
   "execution_count": 5,
   "id": "5dffbe65-7056-4908-ace4-a7816f156962",
   "metadata": {},
   "outputs": [
    {
     "name": "stdout",
     "output_type": "stream",
     "text": [
      "[1, 4, 9, 16, 25]\n"
     ]
    }
   ],
   "source": [
    "numbers = [1, 2, 3, 4, 5]\n",
    "squares = []\n",
    "\n",
    "for n in numbers:\n",
    "    squares.append(n**2)\n",
    "\n",
    "print(squares)   # [1, 4, 9, 16, 25]"
   ]
  },
  {
   "cell_type": "code",
   "execution_count": 6,
   "id": "b38e2a4b-3097-4861-b303-889a0f0b1a5a",
   "metadata": {},
   "outputs": [
    {
     "name": "stdout",
     "output_type": "stream",
     "text": [
      "[1, 4, 9, 16, 25]\n"
     ]
    }
   ],
   "source": [
    "#With List Comprehension\n",
    "numbers = [1, 2, 3, 4, 5]\n",
    "squares = [n**2 for n in numbers]\n",
    "\n",
    "print(squares)   # [1, 4, 9, 16, 25]\n"
   ]
  },
  {
   "cell_type": "code",
   "execution_count": 12,
   "id": "010b2764-803a-4506-8d31-93bf5fc29506",
   "metadata": {},
   "outputs": [
    {
     "name": "stdout",
     "output_type": "stream",
     "text": [
      "[1, 2, 3, 4, 5, 6, 7, 8, 9, 10, 11, 12, 13, 14, 15, 16, 17, 18, 19, 20, 21, 22, 23, 24, 25, 26, 27, 28, 29, 30, 31, 32, 33, 34, 35, 36, 37, 38, 39, 40, 41, 42, 43, 44, 45, 46, 47, 48, 49, 50, 51, 52, 53, 54, 55, 56, 57, 58, 59, 60, 61, 62, 63, 64, 65, 66, 67, 68, 69, 70, 71, 72, 73, 74, 75, 76, 77, 78, 79, 80, 81, 82, 83, 84, 85, 86, 87, 88, 89, 90, 91, 92, 93, 94, 95, 96, 97, 98, 99, 100]\n"
     ]
    }
   ],
   "source": [
    "number = []\n",
    "\n",
    "for i in range(1,101):\n",
    "     number.append(i)\n",
    "print(number)"
   ]
  },
  {
   "cell_type": "code",
   "execution_count": 13,
   "id": "534f7b80-12e5-4fa4-a0b3-3bf95730f345",
   "metadata": {},
   "outputs": [
    {
     "name": "stdout",
     "output_type": "stream",
     "text": [
      "[1, 2, 3, 4, 5, 6, 7, 8, 9, 10, 11, 12, 13, 14, 15, 16, 17, 18, 19, 20, 21, 22, 23, 24, 25, 26, 27, 28, 29, 30, 31, 32, 33, 34, 35, 36, 37, 38, 39, 40, 41, 42, 43, 44, 45, 46, 47, 48, 49, 50, 51, 52, 53, 54, 55, 56, 57, 58, 59, 60, 61, 62, 63, 64, 65, 66, 67, 68, 69, 70, 71, 72, 73, 74, 75, 76, 77, 78, 79, 80, 81, 82, 83, 84, 85, 86, 87, 88, 89, 90, 91, 92, 93, 94, 95, 96, 97, 98, 99, 100]\n"
     ]
    }
   ],
   "source": [
    "numbers = [i for i in range(1, 101)]\n",
    "print(numbers)\n"
   ]
  },
  {
   "cell_type": "code",
   "execution_count": 14,
   "id": "245a6e22-8940-4584-916c-9adbe4cdae5b",
   "metadata": {},
   "outputs": [
    {
     "name": "stdout",
     "output_type": "stream",
     "text": [
      "[1, 3, 5, 7, 9, 11, 13, 15, 17, 19]\n"
     ]
    }
   ],
   "source": [
    "#Question 1: 1 se 20 tak ke saare odd numbers ki list banao list comprehension ka use karke.\n",
    "numbers = [i for i in range(1,21,2)]\n",
    "print(numbers)"
   ]
  },
  {
   "cell_type": "code",
   "execution_count": 20,
   "id": "4beb6815-bf2f-471c-8b34-2f955d9fae96",
   "metadata": {},
   "outputs": [
    {
     "name": "stdout",
     "output_type": "stream",
     "text": [
      "[0, 8, 64, 216, 512]\n"
     ]
    }
   ],
   "source": [
    "#Question 2: Ek list banao jisme 1 se 10 tak ke numbers ke cubes ho, lekin sirf even numbers ke.\n",
    "\n",
    "numbers = [x**3 for x in range(10) if x %2==0]\n",
    "print(numbers)"
   ]
  },
  {
   "cell_type": "code",
   "execution_count": 23,
   "id": "5b85cbe6-2fec-419d-a4f4-a33aa85392cb",
   "metadata": {},
   "outputs": [
    {
     "data": {
      "text/plain": [
       "[25, 100, 225, 400, 625, 900, 1225, 1600, 2025, 2500]"
      ]
     },
     "execution_count": 23,
     "metadata": {},
     "output_type": "execute_result"
    }
   ],
   "source": [
    "#1 se 50 tak ke numbers ka ek list banao, lekin sirf un numbers ka square jinki value 5 se divisible ho.\n",
    "num =[x**2 for x in range(1,51) if x%5==0]\n",
    "num"
   ]
  },
  {
   "cell_type": "markdown",
   "id": "a9314c39-3032-4608-8357-71551b3bcea6",
   "metadata": {},
   "source": [
    "- sentence = \"Python list comprehension is powerful\"\n",
    "- List comprehension ka use karke ek list banao jisme har word ka first letter ho.\n"
   ]
  },
  {
   "cell_type": "code",
   "execution_count": 25,
   "id": "a72b5f66-2d88-433f-b1f9-e36534aae17a",
   "metadata": {},
   "outputs": [
    {
     "name": "stdout",
     "output_type": "stream",
     "text": [
      "['P', 'l', 'c', 'i', 'p']\n"
     ]
    }
   ],
   "source": [
    "sentence = \"Python list comprehension is powerful\"\n",
    "first_letters = [word[0] for word in sentence.split()]\n",
    "print(first_letters)\n"
   ]
  },
  {
   "cell_type": "code",
   "execution_count": 36,
   "id": "6f6d9f6a-8491-4880-a082-28aea46e1a5a",
   "metadata": {},
   "outputs": [
    {
     "name": "stdout",
     "output_type": "stream",
     "text": [
      "[[2, 1, 2], [2, 2, 4], [2, 3, 6], [2, 4, 8], [2, 5, 10], [2, 6, 12], [2, 7, 14], [2, 8, 16], [2, 9, 18], [2, 10, 20]]\n"
     ]
    }
   ],
   "source": [
    "#Ek nested list banao jisme multiplication table of 2 store ho 1 se 10 tak, list comprehension use karke.\n",
    "#[2, 4, 6, 8, 10, 12, 14, 16, 18, 20]\n",
    "numbers = [[2, i, 2*i] for i in range(1, 11)]\n",
    "print(numbers)"
   ]
  },
  {
   "cell_type": "code",
   "execution_count": 66,
   "id": "f4d76727-3d89-4297-91b4-c579760550c3",
   "metadata": {},
   "outputs": [
    {
     "data": {
      "text/plain": [
       "[15, 30]"
      ]
     },
     "execution_count": 66,
     "metadata": {},
     "output_type": "execute_result"
    }
   ],
   "source": [
    "#Ek list comprehension likho jo 1 se 30 tak ke saare numbers dikhaye jo 3 aur 5 dono se divisible ho.Expected Output: [15, 30]\n",
    "num = [i for i in range(1, 31) if i % 3 == 0 and i % 5 == 0]\n",
    "num"
   ]
  },
  {
   "cell_type": "code",
   "execution_count": 75,
   "id": "f7a0a250-bff6-496b-90c2-6c725d03b57c",
   "metadata": {},
   "outputs": [
    {
     "data": {
      "text/plain": [
       "[14, 5, 6]"
      ]
     },
     "execution_count": 75,
     "metadata": {},
     "output_type": "execute_result"
    }
   ],
   "source": [
    "#text = \"List comprehensions are super useful\"\n",
    "#List comprehension ka use karke ek list banao jisme sirf un words ki length ho jo 4 se zyada characters ke hain.\n",
    "#Expected Output: [5, 13, 5, 6]\n",
    "\n",
    "text = \"List comprehensions are super useful\"\n",
    "words = [len(i) for i in text.split() if len(i) > 4]\n",
    "words\n"
   ]
  },
  {
   "cell_type": "code",
   "execution_count": null,
   "id": "68738c43-827c-4404-abb4-84be28f17e8c",
   "metadata": {},
   "outputs": [],
   "source": []
  }
 ],
 "metadata": {
  "kernelspec": {
   "display_name": "Python 3 (ipykernel)",
   "language": "python",
   "name": "python3"
  },
  "language_info": {
   "codemirror_mode": {
    "name": "ipython",
    "version": 3
   },
   "file_extension": ".py",
   "mimetype": "text/x-python",
   "name": "python",
   "nbconvert_exporter": "python",
   "pygments_lexer": "ipython3",
   "version": "3.13.5"
  }
 },
 "nbformat": 4,
 "nbformat_minor": 5
}
