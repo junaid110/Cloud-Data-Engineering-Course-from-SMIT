{
 "cells": [
  {
   "cell_type": "markdown",
   "id": "e6ad1334-5fe6-4411-9fa6-14c76f4991b7",
   "metadata": {},
   "source": [
    "## OOP \n",
    "- Inheritance\n",
    "- Abstraction\n",
    "- Polymorphism\n",
    "- Encapsulation"
   ]
  },
  {
   "cell_type": "code",
   "execution_count": 9,
   "id": "f4a0badf-d43b-47f2-89d9-2c24612263ac",
   "metadata": {},
   "outputs": [],
   "source": [
    "class Parents():\n",
    "    def __init__(self,eye_color,hair_color): #constructor\n",
    "        self.eye_color = eye_color  #attributes\n",
    "        self.hair_color = hair_color\n",
    "        \n",
    "\n",
    "    def can_paint(self):  #method\n",
    "        print(f\"Have ability to draw paint arts\")\n"
   ]
  },
  {
   "cell_type": "code",
   "execution_count": 10,
   "id": "08e3d771-cd71-48b7-8801-710f7c950a0b",
   "metadata": {},
   "outputs": [],
   "source": [
    "par_obj = Parents(\"Brown\", \"Brown\")"
   ]
  },
  {
   "cell_type": "code",
   "execution_count": 11,
   "id": "d60b374c-5038-4d23-aa55-009feaeab48b",
   "metadata": {},
   "outputs": [
    {
     "name": "stdout",
     "output_type": "stream",
     "text": [
      "Brown\n",
      "Brown\n",
      "Have ability to draw paint arts\n"
     ]
    }
   ],
   "source": [
    "print(par_obj.eye_color)\n",
    "print(par_obj.hair_color)\n",
    "par_obj.can_paint()"
   ]
  },
  {
   "cell_type": "code",
   "execution_count": 12,
   "id": "536a7413-0cd5-4d65-b898-31a9ce4d7659",
   "metadata": {},
   "outputs": [],
   "source": [
    "class Child(Parents):\n",
    "    pass"
   ]
  },
  {
   "cell_type": "code",
   "execution_count": 15,
   "id": "f2ed167a-8e59-4478-aa9d-aacaa328b199",
   "metadata": {},
   "outputs": [
    {
     "name": "stdout",
     "output_type": "stream",
     "text": [
      "Brown\n",
      "Black\n",
      "Have ability to draw paint arts\n"
     ]
    }
   ],
   "source": [
    "chil_obj = Child(\"Brown\", \"Black\")\n",
    "print(chil_obj.eye_color)\n",
    "print(chil_obj.hair_color)\n",
    "chil_obj.can_paint()"
   ]
  },
  {
   "cell_type": "code",
   "execution_count": 23,
   "id": "bbf98a15-0b23-49aa-a696-f1fe25983cab",
   "metadata": {},
   "outputs": [],
   "source": [
    "class Child(Parents):\n",
    "    \n",
    "    def __init__ (self,eye_color,hair_color,skin_color):\n",
    "        super().__init__(eye_color,hair_color)\n",
    "        self.skin_color = skin_color\n",
    "        \n",
    "    def can_drive(self):\n",
    "        print(f\"Child Can Drive Well\")"
   ]
  },
  {
   "cell_type": "code",
   "execution_count": 24,
   "id": "ab5db464-7731-42a7-a393-e471b340f775",
   "metadata": {},
   "outputs": [
    {
     "name": "stdout",
     "output_type": "stream",
     "text": [
      "Brown\n",
      "Black\n",
      "White\n",
      "Have ability to draw paint arts\n"
     ]
    }
   ],
   "source": [
    "chil_obj = Child(\"Brown\", \"Black\",\"White\")\n",
    "print(chil_obj.eye_color)\n",
    "print(chil_obj.hair_color)\n",
    "print(chil_obj.skin_color)\n",
    "\n",
    "chil_obj.can_paint()"
   ]
  },
  {
   "cell_type": "markdown",
   "id": "65cacbab-02e5-4c3f-a25a-09a1a2796951",
   "metadata": {},
   "source": [
    "### Task: \n",
    "- Create a class with name \"Father\" Which have two attributes and one method.\n",
    "- Create a class with name \"Child\" that inherit characteristics of \"Father\"class\n",
    "but should have atleasst twoo more attribut and method other than father class"
   ]
  },
  {
   "cell_type": "code",
   "execution_count": 70,
   "id": "9ae3a3c9-5bbc-4495-9bf1-8e20c9886283",
   "metadata": {},
   "outputs": [],
   "source": [
    "class Father():\n",
    "    def __init__(self,name,height): #constructor\n",
    "        self.name = name  #attributes\n",
    "        self.height = height\n",
    "        \n",
    "\n",
    "    def can_swim(self):  #method\n",
    "        print(f\"father Have ability to swim\")"
   ]
  },
  {
   "cell_type": "code",
   "execution_count": 71,
   "id": "813a8515-3d56-4a3d-8ccb-54c36f219925",
   "metadata": {},
   "outputs": [],
   "source": [
    "father_obj = Father(\"Junaid\", 5.8)"
   ]
  },
  {
   "cell_type": "code",
   "execution_count": 72,
   "id": "147df221-d732-4fdb-a507-d73419f0d36c",
   "metadata": {},
   "outputs": [
    {
     "name": "stdout",
     "output_type": "stream",
     "text": [
      "Junaid\n",
      "5.8\n",
      "father Have ability to swim\n"
     ]
    }
   ],
   "source": [
    "print(father_obj.name)\n",
    "print(father_obj.height)\n",
    "father_obj.can_swim()"
   ]
  },
  {
   "cell_type": "code",
   "execution_count": 73,
   "id": "32637ab2-14b5-4485-bc3f-66409151ab91",
   "metadata": {},
   "outputs": [],
   "source": [
    "class Mother():\n",
    "    def __init__(self,M_name): #constructor\n",
    "        self.M_name = M_name  #attribute\n",
    "    def can_cook(self):  #method\n",
    "        print(f\"Mother Have ability to cook\")"
   ]
  },
  {
   "cell_type": "code",
   "execution_count": 74,
   "id": "351dcc04-170b-4021-9c65-a35806d48dcc",
   "metadata": {},
   "outputs": [
    {
     "name": "stdout",
     "output_type": "stream",
     "text": [
      "Jessica\n",
      "father Have ability to swim\n",
      "Mother Have ability to cook\n"
     ]
    }
   ],
   "source": [
    "mother_obj = Mother(\"Jessica\")\n",
    "print(mother_obj.M_name)\n",
    "father_obj.can_swim()\n",
    "mother_obj.can_cook()"
   ]
  },
  {
   "cell_type": "code",
   "execution_count": 104,
   "id": "7c3b08d9-7594-47b3-b67f-cc11fbe6ea35",
   "metadata": {},
   "outputs": [],
   "source": [
    "class Child(Father, Mother):\n",
    "    \n",
    "    def __init__ (self,name,height,M_name,child_name,weight):\n",
    "        #super().__init__(name,height  #for single class inheritance\n",
    "        Father.__init__(self, name, height)  #for multi class inheritance\n",
    "        Mother.__init__(self,M_name)\n",
    "        self.child_name = child_name\n",
    "        self.weight = weight\n",
    "        \n",
    "    def can_Walk(self):\n",
    "        print(f\"Child Can Walk Well\")"
   ]
  },
  {
   "cell_type": "code",
   "execution_count": 105,
   "id": "651c4063-542c-4b67-a39f-2102f4e80a19",
   "metadata": {},
   "outputs": [],
   "source": [
    "Child_obj = Child(\"John\", 5.9, \"Jessica\", \"Alex\", 20)"
   ]
  },
  {
   "cell_type": "code",
   "execution_count": 107,
   "id": "7947037a-24da-4496-9983-1ae8d7d9fcfd",
   "metadata": {},
   "outputs": [
    {
     "name": "stdout",
     "output_type": "stream",
     "text": [
      "John\n",
      "5.9\n",
      "Jessica\n",
      "Alex\n",
      "20\n",
      "Child Can Walk Well\n",
      "Father has ability to swim\n",
      "Mother has ability to cook\n"
     ]
    }
   ],
   "source": [
    "print(Child_obj.name)        # John (Father se)\n",
    "print(Child_obj.height)      # 5.9 (Father se)\n",
    "print(Child_obj.M_name)      # Jessica (Mother se)\n",
    "print(Child_obj.child_name)  # Alex (Child ka)\n",
    "print(Child_obj.weight)      # 20 (Child ka)\n",
    "\n",
    "Child_obj.can_Walk()   # Child ka method\n",
    "Child_obj.can_swim()   # Father ka method\n",
    "Child_obj.can_cook()   # Mother ka method"
   ]
  },
  {
   "cell_type": "markdown",
   "id": "a775f466-10cc-4bf6-8714-6b84f6894a6e",
   "metadata": {},
   "source": [
    "### Overriding"
   ]
  },
  {
   "cell_type": "code",
   "execution_count": 111,
   "id": "281251f3-2a93-4e7a-a9c2-0dda7986b75c",
   "metadata": {},
   "outputs": [],
   "source": [
    "class Animals():\n",
    "    \n",
    "    def eating(self):\n",
    "        print(\"Animals Can Eat\")\n",
    "\n",
    "class Birds(Animals):\n",
    "    \n",
    "    def eating(self):  #Overriding of methods\n",
    "        print(\"Birds Can Eat\")"
   ]
  },
  {
   "cell_type": "code",
   "execution_count": 112,
   "id": "5c153366-13a5-47f8-a129-05a13427254f",
   "metadata": {},
   "outputs": [
    {
     "name": "stdout",
     "output_type": "stream",
     "text": [
      "Animals Can Eat\n"
     ]
    }
   ],
   "source": [
    "ani_obj = Animals()\n",
    "ani_obj.eating()"
   ]
  },
  {
   "cell_type": "code",
   "execution_count": 113,
   "id": "97897d83-4766-4e8e-a994-a6e3c706ab61",
   "metadata": {},
   "outputs": [
    {
     "name": "stdout",
     "output_type": "stream",
     "text": [
      "Birds Can Eat\n"
     ]
    }
   ],
   "source": [
    "Bir_obj = Birds()\n",
    "Bir_obj.eating()"
   ]
  },
  {
   "cell_type": "markdown",
   "id": "a1f471f8-7114-4ca1-b80d-cd4c3f6436ad",
   "metadata": {},
   "source": [
    "### OverLoading"
   ]
  },
  {
   "cell_type": "code",
   "execution_count": 120,
   "id": "c1d98802-4b72-4257-a0c5-5f9c0d15c23d",
   "metadata": {},
   "outputs": [],
   "source": [
    "from typing import overload\n",
    "\n",
    "class Adder():\n",
    "\n",
    "    @overload\n",
    "    def add (self, x:int,y:int) -> int:\n",
    "        ...\n",
    "\n",
    "\n",
    "    @overload\n",
    "    def add (self, x:float,y:float) -> float:\n",
    "        ...\n",
    "\n",
    "    @overload\n",
    "    def add (self, x:str,y:str) -> str:\n",
    "        ...\n",
    "\n",
    "    def add (self,x,y):\n",
    "        if isinstance(x,int) and isinstance(y,int):\n",
    "            return x+y\n",
    "        elif isinstance(x,float) and isinstance(y,float):\n",
    "            return x+y\n",
    "        elif isinstance(x,str) and isinstance(y,str):\n",
    "            return x+y\n",
    "        else:\n",
    "            print(\"Error\")\n",
    "        "
   ]
  },
  {
   "cell_type": "code",
   "execution_count": 121,
   "id": "0f9d88c1-838e-4281-a925-8c1c05df2e46",
   "metadata": {},
   "outputs": [],
   "source": [
    "adder_obj = Adder()\n"
   ]
  },
  {
   "cell_type": "code",
   "execution_count": 123,
   "id": "1e664974-251c-49d6-a9ed-a19f79dc3b8d",
   "metadata": {},
   "outputs": [
    {
     "data": {
      "text/plain": [
       "102"
      ]
     },
     "execution_count": 123,
     "metadata": {},
     "output_type": "execute_result"
    }
   ],
   "source": [
    "adder_obj.add(35,67)"
   ]
  },
  {
   "cell_type": "code",
   "execution_count": 124,
   "id": "b2591514-e4b8-4ae6-b46a-9418c52b16b8",
   "metadata": {},
   "outputs": [
    {
     "data": {
      "text/plain": [
       "822.1"
      ]
     },
     "execution_count": 124,
     "metadata": {},
     "output_type": "execute_result"
    }
   ],
   "source": [
    "adder_obj.add(54.6,767.5)"
   ]
  },
  {
   "cell_type": "code",
   "execution_count": 125,
   "id": "5bed00e3-b11e-4f98-95e6-11daa73e6dc4",
   "metadata": {},
   "outputs": [
    {
     "data": {
      "text/plain": [
       "'JunaidAbbas'"
      ]
     },
     "execution_count": 125,
     "metadata": {},
     "output_type": "execute_result"
    }
   ],
   "source": [
    "adder_obj.add(\"Junaid\",\"Abbas\")"
   ]
  },
  {
   "cell_type": "markdown",
   "id": "9ff0dd10-b6f8-4e86-a55d-0cf4891f9cb0",
   "metadata": {},
   "source": [
    "## Types of Inheritance"
   ]
  },
  {
   "attachments": {
    "41998928-9584-421f-8e7e-f5069d34570e.png": {
     "image/png": "[encoded data removed]"
    }
   },
   "cell_type": "markdown",
   "id": "ece1efb5-63d9-4780-bc68-3647c18c02e9",
   "metadata": {},
   "source": [
    "![image.png](attachment:41998928-9584-421f-8e7e-f5069d34570e.png)"
   ]
  },
  {
   "cell_type": "markdown",
   "id": "7b978daa-d925-47d6-80b5-06d3e425e83d",
   "metadata": {},
   "source": [
    "## Abstraction\n",
    "-Abstraction in Python, a core principle of Object-Oriented Programming (OOP), focuses on hiding complex implementation details and exposing only the essential functionalities to the user. This simplifies interaction with objects and promotes modular, readable, and maintainable code."
   ]
  },
  {
   "cell_type": "code",
   "execution_count": 1,
   "id": "3cdfef02-ab20-4464-a215-9f21404aecad",
   "metadata": {},
   "outputs": [],
   "source": [
    "#abstract class\n",
    "class shapes():\n",
    "\n",
    "    #abstract method\n",
    "    def sides(self):\n",
    "        pass"
   ]
  },
  {
   "cell_type": "code",
   "execution_count": 7,
   "id": "be99d065-4465-4a1e-9eb9-5a045bfeab23",
   "metadata": {},
   "outputs": [],
   "source": [
    "class square(shapes):\n",
    "\n",
    "    #Functionality Here\n",
    "    def sides(self):\n",
    "        print(\"Sqyare has 4 sides\")\n"
   ]
  },
  {
   "cell_type": "code",
   "execution_count": 8,
   "id": "5b44e96b-a871-4952-b9f0-238d8bb79208",
   "metadata": {},
   "outputs": [
    {
     "name": "stdout",
     "output_type": "stream",
     "text": [
      "Sqyare has 4 sides\n"
     ]
    }
   ],
   "source": [
    "sq_obj = square()\n",
    "sq_obj.sides()"
   ]
  },
  {
   "cell_type": "code",
   "execution_count": 9,
   "id": "e0ad4d28-040b-4c58-969b-1fe19fcb537a",
   "metadata": {},
   "outputs": [],
   "source": [
    "class circle(shapes):\n",
    "\n",
    "     #Functionality Here\n",
    "    def sides(self):\n",
    "        print(\"Circle has no sides\")"
   ]
  },
  {
   "cell_type": "code",
   "execution_count": 10,
   "id": "b2699a7c-70af-4a52-a2df-4a57921df60f",
   "metadata": {},
   "outputs": [
    {
     "name": "stdout",
     "output_type": "stream",
     "text": [
      "Circle has no sides\n"
     ]
    }
   ],
   "source": [
    "cir_obj = circle()\n",
    "cir_obj.sides()"
   ]
  },
  {
   "cell_type": "markdown",
   "id": "095bbf52-8a6b-498f-a242-b9b475ab1b2b",
   "metadata": {},
   "source": [
    "## Polymorphism\n",
    "- The ability of different classes to respond to the same message (method call ) in different ways.\n",
    "- This allows for code to work with objects of various classes as if they were objects of a common superlclass."
   ]
  },
  {
   "cell_type": "code",
   "execution_count": 17,
   "id": "ec5dadea-552d-4b54-bc0f-2fc3c07051f3",
   "metadata": {},
   "outputs": [
    {
     "name": "stdout",
     "output_type": "stream",
     "text": [
      "Woof!\n",
      "Meow!\n"
     ]
    }
   ],
   "source": [
    "    class Animal:\n",
    "        def speak(self):\n",
    "            return \"Generic animal sound\"\n",
    "\n",
    "    class Dog(Animal):\n",
    "        def speak(self):\n",
    "            return \"Woof!\"\n",
    "\n",
    "    class Cat(Animal):\n",
    "        def speak(self):\n",
    "            return \"Meow!\"\n",
    "\n",
    "dog = Dog()\n",
    "cat = Cat()\n",
    "\n",
    "print(dog.speak())\n",
    "print(cat.speak())"
   ]
  },
  {
   "attachments": {
    "2dfcc578-6f4d-4443-80c1-0a3129038915.png": {
     "image/png": "[encoded data removed]"
    }
   },
   "cell_type": "markdown",
   "id": "e4968d10-5db9-4cc4-a8df-af358295599a",
   "metadata": {},
   "source": [
    "# Encapsulation\n",
    "![image.png](attachment:2dfcc578-6f4d-4443-80c1-0a3129038915.png)"
   ]
  },
  {
   "cell_type": "code",
   "execution_count": 19,
   "id": "0aee5311-5d6c-44f3-b5b9-50e2667d049d",
   "metadata": {},
   "outputs": [],
   "source": [
    "class saylani():\n",
    "    def __init__(self):\n",
    "        self.helpline = \"786\" #Public\n",
    "        self._batch = \"Python\" #Protected\n",
    "        self.__result = \"60\"#Private"
   ]
  },
  {
   "cell_type": "code",
   "execution_count": 20,
   "id": "5dd60f5b-7fc2-4be1-981c-910188f88927",
   "metadata": {},
   "outputs": [],
   "source": [
    "sa_obj = saylani()"
   ]
  },
  {
   "cell_type": "code",
   "execution_count": 23,
   "id": "0ea78cdf-828a-4d71-acab-1f1969b877bc",
   "metadata": {},
   "outputs": [
    {
     "data": {
      "text/plain": [
       "'Python'"
      ]
     },
     "execution_count": 23,
     "metadata": {},
     "output_type": "execute_result"
    }
   ],
   "source": [
    "sa_obj._batch"
   ]
  },
  {
   "cell_type": "code",
   "execution_count": 27,
   "id": "5d79d58f-82ad-4ad2-acd8-382266e7e7a2",
   "metadata": {},
   "outputs": [
    {
     "data": {
      "text/plain": [
       "'60'"
      ]
     },
     "execution_count": 27,
     "metadata": {},
     "output_type": "execute_result"
    }
   ],
   "source": [
    "sa_obj._saylani__result ## Accessing the name-mangled attribute using its mangled name (discouraged)\n"
   ]
  },
  {
   "cell_type": "code",
   "execution_count": 28,
   "id": "c9253837-56a9-4c07-8508-aeaba23d9fb2",
   "metadata": {},
   "outputs": [],
   "source": [
    "#Task 1: Create three public, protected and private method like we did for attributes"
   ]
  },
  {
   "cell_type": "code",
   "execution_count": 42,
   "id": "1f961f15-a9bc-46ad-9b06-a2d222d223dd",
   "metadata": {},
   "outputs": [
    {
     "ename": "IndentationError",
     "evalue": "expected an indented block after function definition on line 2 (2173727989.py, line 4)",
     "output_type": "error",
     "traceback": [
      "\u001b[1;36m  Cell \u001b[1;32mIn[42], line 4\u001b[1;36m\u001b[0m\n\u001b[1;33m    def public_method(self):\u001b[0m\n\u001b[1;37m    ^\u001b[0m\n\u001b[1;31mIndentationError\u001b[0m\u001b[1;31m:\u001b[0m expected an indented block after function definition on line 2\n"
     ]
    }
   ],
   "source": [
    "class MyClass:\n",
    "    def __init__(self):\n",
    "    # Public Method\n",
    "    def public_method(self):\n",
    "         print(\"This is a PUBLIC method.\")\n",
    "    \n",
    "    # Protected Method\n",
    "    def _protected_method(self):\n",
    "         print(\"This is a PROTECTED method.\")\n",
    "        \n",
    "    # Private Method\n",
    "    def __private_method(self):\n",
    "    print(\"This is a PRIVATE method.\")\n",
    "\n",
    "\n",
    "obj = MyClass()\n",
    "\n",
    "#Public method direct call ho sakta hai\n",
    "obj.public_method()\n",
    "\n",
    "# Protected method call karna possible hai\n",
    "obj._protected_method()\n",
    "\n",
    "#Name Mangling ka trick use karke private method call kar sakte ho\n",
    "obj._MyClass__private_method()"
   ]
  },
  {
   "cell_type": "markdown",
   "id": "0376a80f-d0b4-409d-bf29-0222a2012a15",
   "metadata": {},
   "source": [
    "### TASK2:\n",
    "-use encapsulation for class i:e., StudentLogin():\n",
    "-initialize two static but private attributes i:e., __user_name, __password\n",
    "-create one private methods i:e., name __dbconectivity() that will validate you username & password. if both are valid then should print \"valid user\" otherwise \"not valid\"\n",
    "-create one public methods i:e., update password & it should update your private password"
   ]
  },
  {
   "cell_type": "code",
   "execution_count": 61,
   "id": "0f62d12f-416b-4686-bcfa-252df1ae8de5",
   "metadata": {},
   "outputs": [
    {
     "name": "stdout",
     "output_type": "stream",
     "text": [
      " Valid User\n",
      " Not Valid\n",
      " Password Updated Successfully!\n",
      " Not Valid\n",
      " Valid User\n"
     ]
    }
   ],
   "source": [
    "class StudentLogin:\n",
    "    def __init__(self, username, password):\n",
    "        # Private attributes\n",
    "        self.__user_name = \"admin\"\n",
    "        self.__password = \"1234\"\n",
    "\n",
    "    # Private Method: Validate credentials\n",
    "    def __dbconnectivity(self, username, password):\n",
    "        if username == self.__user_name and password == self.__password:\n",
    "            print(\" Valid User\")\n",
    "        else:\n",
    "            print(\" Not Valid\")\n",
    "\n",
    "    # Public Method: Update password\n",
    "    def update_password(self, new_password):\n",
    "        self.__password = new_password\n",
    "        print(\" Password Updated Successfully!\")\n",
    "\n",
    "    # Public Method: Login (internally calls private dbconnectivity)\n",
    "    def login(self, username, password):\n",
    "        self.__dbconnectivity(username, password)\n",
    "\n",
    "\n",
    "# ---------- Usage ----------\n",
    "# 1) Create an object with default credentials\n",
    "student = StudentLogin(\"admin\", \"1234\")\n",
    "\n",
    "# 2) Check login with correct credentials\n",
    "student.login(\"admin\", \"1234\")   \n",
    "\n",
    "# 3) Try wrong password\n",
    "student.login(\"admin\", \"0000\")   \n",
    "\n",
    "# 4) Update the password\n",
    "student.update_password(\"abcd123\")\n",
    "\n",
    "# 5) Check again with old password\n",
    "student.login(\"admin\", \"1234\")   \n",
    "\n",
    "# 6) Check again with new password\n",
    "student.login(\"admin\", \"abcd123\")  \n"
   ]
  },
  {
   "cell_type": "code",
   "execution_count": null,
   "id": "5a5a5b0c-88df-46d1-b257-c1fb9da5d8c0",
   "metadata": {},
   "outputs": [],
   "source": []
  }
 ],
 "metadata": {
  "kernelspec": {
   "display_name": "Python 3 (ipykernel)",
   "language": "python",
   "name": "python3"
  },
  "language_info": {
   "codemirror_mode": {
    "name": "ipython",
    "version": 3
   },
   "file_extension": ".py",
   "mimetype": "text/x-python",
   "name": "python",
   "nbconvert_exporter": "python",
   "pygments_lexer": "ipython3",
   "version": "3.13.5"
  }
 },
 "nbformat": 4,
 "nbformat_minor": 5
}
