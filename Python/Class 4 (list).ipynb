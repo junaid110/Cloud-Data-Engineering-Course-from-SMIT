{
 "cells": [
  {
   "cell_type": "markdown",
   "id": "d0eff222-728c-4cef-9779-6fa7a6495f95",
   "metadata": {},
   "source": [
    "## List"
   ]
  },
  {
   "cell_type": "raw",
   "id": "4e4b85c6-3949-4940-a921-fcce106fdfc7",
   "metadata": {},
   "source": [
    "A Python list is a built-in, ordered, and mutable collection data type used to store multiple items in a single variable. Lists are defined by enclosing comma-separated items within square brackets []"
   ]
  },
  {
   "cell_type": "code",
   "execution_count": 3,
   "id": "fc9713e4-0116-48e1-99c1-879a41c9f7d2",
   "metadata": {},
   "outputs": [],
   "source": [
    "cities= [\"Karachi\",\"Lahore\",\"Islamabad\",\"Hyderabad\"]"
   ]
  },
  {
   "cell_type": "code",
   "execution_count": 6,
   "id": "4924cee6-208e-4cd6-801e-4130ed979091",
   "metadata": {},
   "outputs": [
    {
     "name": "stdout",
     "output_type": "stream",
     "text": [
      "<class 'list'> 1889260250752\n"
     ]
    }
   ],
   "source": [
    "print(type(cities),id(cities))"
   ]
  },
  {
   "cell_type": "code",
   "execution_count": 11,
   "id": "72173790-d1a2-4808-abb4-3e4a099a372b",
   "metadata": {},
   "outputs": [],
   "source": [
    "cities.append(\"Peshawar\")"
   ]
  },
  {
   "cell_type": "code",
   "execution_count": 8,
   "id": "d27a80de-e475-4701-b164-516e41eacc24",
   "metadata": {},
   "outputs": [
    {
     "data": {
      "text/plain": [
       "['Karachi', 'Lahore', 'Islamabad', 'Hyderabad', 'Peshawar']"
      ]
     },
     "execution_count": 8,
     "metadata": {},
     "output_type": "execute_result"
    }
   ],
   "source": [
    "cities"
   ]
  },
  {
   "cell_type": "code",
   "execution_count": 12,
   "id": "51fa21e0-8c2b-4f0f-a40b-89978a321b13",
   "metadata": {},
   "outputs": [
    {
     "data": {
      "text/plain": [
       "1"
      ]
     },
     "execution_count": 12,
     "metadata": {},
     "output_type": "execute_result"
    }
   ],
   "source": [
    "cities.count(\"Karachi\")"
   ]
  },
  {
   "cell_type": "code",
   "execution_count": 30,
   "id": "01f67de1-806b-4f2c-8b99-bbd96632c8a7",
   "metadata": {},
   "outputs": [],
   "source": [
    "cities.extend([\"Sukker\",])"
   ]
  },
  {
   "cell_type": "code",
   "execution_count": 32,
   "id": "f7c13a59-fa99-4a75-abb4-e222a3f6b94b",
   "metadata": {},
   "outputs": [],
   "source": [
    "cities.insert(1,\"Multan\")"
   ]
  },
  {
   "cell_type": "code",
   "execution_count": 34,
   "id": "c4c974ca-5a27-4c88-8632-5be729a96d0b",
   "metadata": {},
   "outputs": [
    {
     "data": {
      "text/plain": [
       "[' Faisalabad',\n",
       " 'Multan',\n",
       " ' Faisalabad',\n",
       " 'Sukker',\n",
       " 'a',\n",
       " 'b',\n",
       " 'a',\n",
       " 'm',\n",
       " 'a',\n",
       " 'l',\n",
       " 's',\n",
       " 'I',\n",
       " 'Peshawar',\n",
       " 'Peshawar',\n",
       " 'Peshawar',\n",
       " 'Peshawar',\n",
       " 'Hyderabad',\n",
       " 'Lahore',\n",
       " 'Multan',\n",
       " 'Karachi',\n",
       " 'Sukker']"
      ]
     },
     "execution_count": 34,
     "metadata": {},
     "output_type": "execute_result"
    }
   ],
   "source": [
    "cities"
   ]
  },
  {
   "cell_type": "code",
   "execution_count": 27,
   "id": "79316ed0-7797-43ff-ae07-d6aee072e378",
   "metadata": {},
   "outputs": [
    {
     "data": {
      "text/plain": [
       "'Sukker'"
      ]
     },
     "execution_count": 27,
     "metadata": {},
     "output_type": "execute_result"
    }
   ],
   "source": [
    "cities.pop(1) #Renove and  return item at index (Default last)"
   ]
  },
  {
   "cell_type": "code",
   "execution_count": 28,
   "id": "6686ff11-cf63-464c-9630-2560dd6f9de3",
   "metadata": {},
   "outputs": [],
   "source": [
    "cities.remove(\"Islamabad\") # Remove first occurence of value"
   ]
  },
  {
   "cell_type": "code",
   "execution_count": 29,
   "id": "bfb01ed9-98b3-46f9-b48d-a473a297266e",
   "metadata": {},
   "outputs": [
    {
     "data": {
      "text/plain": [
       "[' Faisalabad',\n",
       " ' Faisalabad',\n",
       " 'Sukker',\n",
       " 'a',\n",
       " 'b',\n",
       " 'a',\n",
       " 'm',\n",
       " 'a',\n",
       " 'l',\n",
       " 's',\n",
       " 'I',\n",
       " 'Peshawar',\n",
       " 'Peshawar',\n",
       " 'Peshawar',\n",
       " 'Peshawar',\n",
       " 'Hyderabad',\n",
       " 'Lahore',\n",
       " 'Multan',\n",
       " 'Karachi']"
      ]
     },
     "execution_count": 29,
     "metadata": {},
     "output_type": "execute_result"
    }
   ],
   "source": [
    "cities"
   ]
  },
  {
   "cell_type": "code",
   "execution_count": 36,
   "id": "65284bd1-3acd-4e1e-871d-e3c160f5c04e",
   "metadata": {},
   "outputs": [],
   "source": [
    "cities.reverse()"
   ]
  },
  {
   "cell_type": "code",
   "execution_count": 38,
   "id": "efa19b92-b62d-490e-b817-772a876ab41a",
   "metadata": {},
   "outputs": [
    {
     "data": {
      "text/plain": [
       "[' Faisalabad',\n",
       " 'Multan',\n",
       " ' Faisalabad',\n",
       " 'Sukker',\n",
       " 'a',\n",
       " 'b',\n",
       " 'a',\n",
       " 'm',\n",
       " 'a',\n",
       " 'l',\n",
       " 's',\n",
       " 'I',\n",
       " 'Peshawar',\n",
       " 'Peshawar',\n",
       " 'Peshawar',\n",
       " 'Peshawar',\n",
       " 'Hyderabad',\n",
       " 'Lahore',\n",
       " 'Multan',\n",
       " 'Karachi',\n",
       " 'Sukker']"
      ]
     },
     "execution_count": 38,
     "metadata": {},
     "output_type": "execute_result"
    }
   ],
   "source": [
    "cities"
   ]
  },
  {
   "cell_type": "code",
   "execution_count": null,
   "id": "d101ef5d-7772-4b24-a436-4dff5fe60cc7",
   "metadata": {},
   "outputs": [],
   "source": [
    "cities.sort()"
   ]
  },
  {
   "cell_type": "code",
   "execution_count": 39,
   "id": "688dba68-7103-43b5-bcdb-096460c205fc",
   "metadata": {},
   "outputs": [],
   "source": [
    "cities.clear() # remove all items from list"
   ]
  },
  {
   "cell_type": "code",
   "execution_count": 40,
   "id": "f1d1e056-98e2-4ea1-83db-78dd4bb15362",
   "metadata": {},
   "outputs": [
    {
     "data": {
      "text/plain": [
       "[]"
      ]
     },
     "execution_count": 40,
     "metadata": {},
     "output_type": "execute_result"
    }
   ],
   "source": [
    "cities"
   ]
  },
  {
   "cell_type": "markdown",
   "id": "fdb12181-9ff2-4250-b6dc-47fc5f13a929",
   "metadata": {},
   "source": [
    "## Shallow/ Deep Copy"
   ]
  },
  {
   "cell_type": "code",
   "execution_count": null,
   "id": "88e5d3e2-4e0b-4e00-9ec5-5506bdecdfd5",
   "metadata": {},
   "outputs": [],
   "source": [
    "# keep values at different addres as shown above\n",
    "# changinh values in one collectio does not effect other list"
   ]
  },
  {
   "cell_type": "code",
   "execution_count": 41,
   "id": "ff4f458a-1d64-426e-8681-ff7c22cb3b76",
   "metadata": {},
   "outputs": [],
   "source": [
    "cities= [\"Karachi\",\"Lahore\",\"Islamabad\",\"Hyderabad\"]"
   ]
  },
  {
   "cell_type": "code",
   "execution_count": 43,
   "id": "620b26be-e1fa-4c96-9176-93f4aed419be",
   "metadata": {},
   "outputs": [],
   "source": [
    "new_cities= cities.copy() # return a shallow copy of list "
   ]
  },
  {
   "cell_type": "code",
   "execution_count": 45,
   "id": "a82c0acb-10ce-49c2-bf61-99a560fef413",
   "metadata": {},
   "outputs": [
    {
     "name": "stdout",
     "output_type": "stream",
     "text": [
      "<class 'list'> 1889277570112\n"
     ]
    }
   ],
   "source": [
    "print(type(cities),id(new_cities))"
   ]
  },
  {
   "cell_type": "code",
   "execution_count": 46,
   "id": "ec366fc8-2a99-4a21-9e20-69dbecb374e9",
   "metadata": {},
   "outputs": [
    {
     "name": "stdout",
     "output_type": "stream",
     "text": [
      "<class 'list'> 1889277172864\n"
     ]
    }
   ],
   "source": [
    "print(type(cities),id(cities))"
   ]
  },
  {
   "cell_type": "code",
   "execution_count": 49,
   "id": "601b840f-9647-49cd-8ccc-b4807325f0e2",
   "metadata": {},
   "outputs": [],
   "source": [
    "new_cities.append(\" Larkana\")"
   ]
  },
  {
   "cell_type": "code",
   "execution_count": 50,
   "id": "aa5c2683-f009-4697-96df-387b43ec2bf1",
   "metadata": {},
   "outputs": [
    {
     "data": {
      "text/plain": [
       "['Karachi', 'Lahore', 'Islamabad', 'Hyderabad', ' Larkana', ' Larkana']"
      ]
     },
     "execution_count": 50,
     "metadata": {},
     "output_type": "execute_result"
    }
   ],
   "source": [
    "new_cities"
   ]
  },
  {
   "cell_type": "code",
   "execution_count": 51,
   "id": "43a12785-d165-4c3f-9485-80da55267eae",
   "metadata": {},
   "outputs": [
    {
     "data": {
      "text/plain": [
       "['Karachi', 'Lahore', 'Islamabad', 'Hyderabad']"
      ]
     },
     "execution_count": 51,
     "metadata": {},
     "output_type": "execute_result"
    }
   ],
   "source": [
    "cities"
   ]
  },
  {
   "cell_type": "code",
   "execution_count": 52,
   "id": "3f260242-a409-47b5-a4a5-ca5ad6e44671",
   "metadata": {},
   "outputs": [],
   "source": [
    "#Deep Copy Practice"
   ]
  },
  {
   "cell_type": "code",
   "execution_count": 56,
   "id": "6c3dc15a-0d03-4371-b3ce-eba4a2da27d9",
   "metadata": {},
   "outputs": [],
   "source": [
    "# Task\n",
    "#1. Implemented Deep Copy concept on LIST \n",
    "#2. Adding values at different indexwithout . insert()"
   ]
  },
  {
   "cell_type": "code",
   "execution_count": 60,
   "id": "e81a43d3-0f33-4e14-8bf1-75ba8af5c7c0",
   "metadata": {},
   "outputs": [],
   "source": [
    "cities_new = cities"
   ]
  },
  {
   "cell_type": "code",
   "execution_count": 61,
   "id": "4cf787d0-6790-4f23-a0da-81280f82b663",
   "metadata": {},
   "outputs": [
    {
     "data": {
      "text/plain": [
       "(['Karachi', 'Lahore', ['Islamabad', 'Hyderabad']],\n",
       " ['Karachi', 'Lahore', ['Islamabad', 'Hyderabad']])"
      ]
     },
     "execution_count": 61,
     "metadata": {},
     "output_type": "execute_result"
    }
   ],
   "source": [
    "cities_new, cities"
   ]
  },
  {
   "cell_type": "markdown",
   "id": "ec781155-1679-4a5d-a00b-340a9b9ddd33",
   "metadata": {},
   "source": [
    "## Slicing "
   ]
  },
  {
   "cell_type": "code",
   "execution_count": 62,
   "id": "b2a4156f-232c-466b-9716-4610009ddf5d",
   "metadata": {},
   "outputs": [
    {
     "data": {
      "text/plain": [
       "['Karachi', 'Lahore', ['Islamabad', 'Hyderabad']]"
      ]
     },
     "execution_count": 62,
     "metadata": {},
     "output_type": "execute_result"
    }
   ],
   "source": [
    "cities"
   ]
  },
  {
   "cell_type": "code",
   "execution_count": 67,
   "id": "cb4fb5ab-ffa5-427a-a93b-065b611ddce1",
   "metadata": {},
   "outputs": [
    {
     "data": {
      "text/plain": [
       "['Karachi', 'Lahore']"
      ]
     },
     "execution_count": 67,
     "metadata": {},
     "output_type": "execute_result"
    }
   ],
   "source": [
    "cities[:2] # nte first inclide and last not included"
   ]
  },
  {
   "cell_type": "code",
   "execution_count": 68,
   "id": "6e6cfac5-e321-4c0a-98fc-f93d8cdb4d8c",
   "metadata": {},
   "outputs": [
    {
     "data": {
      "text/plain": [
       "[['Islamabad', 'Hyderabad']]"
      ]
     },
     "execution_count": 68,
     "metadata": {},
     "output_type": "execute_result"
    }
   ],
   "source": [
    "cities[2:4]"
   ]
  },
  {
   "cell_type": "code",
   "execution_count": 69,
   "id": "7c409f3b-6ddb-4e88-aeff-632ecc23c43c",
   "metadata": {},
   "outputs": [
    {
     "data": {
      "text/plain": [
       "[['Islamabad', 'Hyderabad'], 'Lahore', 'Karachi']"
      ]
     },
     "execution_count": 69,
     "metadata": {},
     "output_type": "execute_result"
    }
   ],
   "source": [
    "cities[::-1] # reverse the list without method"
   ]
  },
  {
   "cell_type": "markdown",
   "id": "970d7596-b361-4395-967f-d24c51c59f91",
   "metadata": {},
   "source": [
    "# TASK\n",
    "### create a student list of names and apply all methods that we learn today"
   ]
  },
  {
   "cell_type": "code",
   "execution_count": 88,
   "id": "53ca9f6c-c5bf-4cd5-9e92-70d69aebe49c",
   "metadata": {},
   "outputs": [],
   "source": [
    "students = [\"Junaid\",\"Ali\",\"Bazil\",\"Bilal\",\"Abbas\",]"
   ]
  },
  {
   "cell_type": "code",
   "execution_count": 90,
   "id": "71efb796-9cfc-40b8-88ff-2cbbc359d045",
   "metadata": {},
   "outputs": [],
   "source": [
    "students.append(\" Samra\") #Append object to the end of the list."
   ]
  },
  {
   "cell_type": "code",
   "execution_count": 93,
   "id": "46a67d66-b4a0-4b57-87d8-87a4a696e943",
   "metadata": {},
   "outputs": [
    {
     "data": {
      "text/plain": [
       "['Junaid', 'Ali', 'Bazil', 'Bilal', 'Abbas', ' Samra']"
      ]
     },
     "execution_count": 93,
     "metadata": {},
     "output_type": "execute_result"
    }
   ],
   "source": [
    "students"
   ]
  },
  {
   "cell_type": "code",
   "execution_count": 96,
   "id": "22d8c2b1-3267-4011-8685-ee27944b3896",
   "metadata": {},
   "outputs": [
    {
     "data": {
      "text/plain": [
       "1"
      ]
     },
     "execution_count": 96,
     "metadata": {},
     "output_type": "execute_result"
    }
   ],
   "source": [
    "students.count(\"Bazil\") #method counts how many times a specified value appears in a list"
   ]
  },
  {
   "cell_type": "code",
   "execution_count": 98,
   "id": "d8aa6c17-659f-4a24-8cad-80704146f7f0",
   "metadata": {},
   "outputs": [],
   "source": [
    "students.extend([\"Danish\"]) #method adds all the items of an iterable "
   ]
  },
  {
   "cell_type": "code",
   "execution_count": 99,
   "id": "51503581-9c7b-442f-80d8-315267bd9e0a",
   "metadata": {},
   "outputs": [
    {
     "data": {
      "text/plain": [
       "['Junaid', 'Ali', 'Bazil', 'Bilal', 'Abbas', ' Samra', 'Danish']"
      ]
     },
     "execution_count": 99,
     "metadata": {},
     "output_type": "execute_result"
    }
   ],
   "source": [
    "students"
   ]
  },
  {
   "cell_type": "code",
   "execution_count": 100,
   "id": "c697aeda-a245-4a61-8cf8-f17f94ccd5c2",
   "metadata": {},
   "outputs": [],
   "source": [
    "students.insert(1,\"Honey\") #adds an element to a list at a specified index."
   ]
  },
  {
   "cell_type": "code",
   "execution_count": 101,
   "id": "25fab85d-04d1-42ee-b0e4-0de55a3ef6e9",
   "metadata": {},
   "outputs": [
    {
     "data": {
      "text/plain": [
       "['Junaid', 'Honey', 'Ali', 'Bazil', 'Bilal', 'Abbas', ' Samra', 'Danish']"
      ]
     },
     "execution_count": 101,
     "metadata": {},
     "output_type": "execute_result"
    }
   ],
   "source": [
    "students"
   ]
  },
  {
   "cell_type": "raw",
   "id": "82aa8a0c-2b2e-408c-936f-19bc1a1248f7",
   "metadata": {},
   "source": [
    "students.pop(1) #Renove and  return item at index (Default last)"
   ]
  },
  {
   "cell_type": "code",
   "execution_count": 114,
   "id": "09dcb11b-a616-401a-8281-0e400722a35e",
   "metadata": {},
   "outputs": [],
   "source": [
    "del students[4]"
   ]
  },
  {
   "cell_type": "code",
   "execution_count": 115,
   "id": "96e2373a-f4e4-4b67-a44e-8d39a5f38e3f",
   "metadata": {},
   "outputs": [
    {
     "data": {
      "text/plain": [
       "[' Samra', 'Abbas', 'Ali', 'Bilal', 'Junaid']"
      ]
     },
     "execution_count": 115,
     "metadata": {},
     "output_type": "execute_result"
    }
   ],
   "source": [
    "students"
   ]
  },
  {
   "cell_type": "code",
   "execution_count": 102,
   "id": "ba6ded68-5734-4cbf-8f99-2cb0072e7de1",
   "metadata": {},
   "outputs": [],
   "source": [
    "students.remove(\"Danish\") # Remove first occurence of value"
   ]
  },
  {
   "cell_type": "code",
   "execution_count": 103,
   "id": "5e3c19a4-c880-4d3b-b0fb-c23966c24bda",
   "metadata": {},
   "outputs": [
    {
     "data": {
      "text/plain": [
       "['Junaid', 'Honey', 'Ali', 'Bazil', 'Bilal', 'Abbas', ' Samra']"
      ]
     },
     "execution_count": 103,
     "metadata": {},
     "output_type": "execute_result"
    }
   ],
   "source": [
    "students"
   ]
  },
  {
   "cell_type": "code",
   "execution_count": 104,
   "id": "202a0419-e596-454b-9a18-b3475d2602a0",
   "metadata": {},
   "outputs": [],
   "source": [
    "students.reverse() #reverses the order of elements in a list in-place"
   ]
  },
  {
   "cell_type": "code",
   "execution_count": 107,
   "id": "14d440f0-91d0-494b-9406-f1a0748ea45a",
   "metadata": {},
   "outputs": [],
   "source": [
    "students.sort()"
   ]
  },
  {
   "cell_type": "code",
   "execution_count": 108,
   "id": "18656dbd-5ba1-4673-85f6-4f9ab2680257",
   "metadata": {},
   "outputs": [
    {
     "data": {
      "text/plain": [
       "[' Samra', 'Abbas', 'Ali', 'Bazil', 'Bilal', 'Honey', 'Junaid']"
      ]
     },
     "execution_count": 108,
     "metadata": {},
     "output_type": "execute_result"
    }
   ],
   "source": [
    "students"
   ]
  },
  {
   "cell_type": "raw",
   "id": "dac3b9bf-b1b2-46b5-93d5-ff7a54ca9682",
   "metadata": {},
   "source": [
    "students.clear() # remove all items from list"
   ]
  },
  {
   "cell_type": "raw",
   "id": "d6016d4a-5eae-49cf-a188-eb5740df1db6",
   "metadata": {},
   "source": [
    "students.copy # Return a shallow copy of list"
   ]
  },
  {
   "cell_type": "code",
   "execution_count": 109,
   "id": "c02fce89-02af-4bf5-a709-70d5243af8a0",
   "metadata": {},
   "outputs": [
    {
     "data": {
      "text/plain": [
       "'Ali'"
      ]
     },
     "execution_count": 109,
     "metadata": {},
     "output_type": "execute_result"
    }
   ],
   "source": [
    "students[2]"
   ]
  },
  {
   "cell_type": "code",
   "execution_count": 111,
   "id": "dc96f855-8bcc-4a98-878a-f2c43278a2de",
   "metadata": {},
   "outputs": [],
   "source": [
    "bio_data = ['Junaud', 234,5.6,True]"
   ]
  },
  {
   "cell_type": "markdown",
   "id": "62b6049c-6784-4fcb-a3ef-80071ae899fe",
   "metadata": {},
   "source": [
    "### Tuples == immutable"
   ]
  },
  {
   "cell_type": "raw",
   "id": "1c87b00a-01f2-4896-8bfb-5ca97380f30a",
   "metadata": {},
   "source": [
    "A tuple is an ordered, immutable collection of elements in Python. Tuples are defined with parentheses () or, in some cases, with no parentheses at all."
   ]
  },
  {
   "cell_type": "code",
   "execution_count": 117,
   "id": "fa19ae53-f6ce-4191-9eb4-08a522830e02",
   "metadata": {},
   "outputs": [],
   "source": [
    "bio_data = ['Junaud', 234,5.6,True]"
   ]
  },
  {
   "cell_type": "code",
   "execution_count": 119,
   "id": "21aba01c-9c36-4338-b3ae-46bf692d2b68",
   "metadata": {},
   "outputs": [],
   "source": [
    "bio_data.append('Junaud')"
   ]
  },
  {
   "cell_type": "code",
   "execution_count": 120,
   "id": "9e391bc2-7fe5-4468-a5cb-e009d41d4205",
   "metadata": {},
   "outputs": [
    {
     "data": {
      "text/plain": [
       "['Junaud', 234, 5.6, True, 'Junaud', 'Junaud']"
      ]
     },
     "execution_count": 120,
     "metadata": {},
     "output_type": "execute_result"
    }
   ],
   "source": [
    "bio_data"
   ]
  },
  {
   "cell_type": "code",
   "execution_count": 124,
   "id": "48c53d3d-2312-4fb0-94d9-28f0d4e81808",
   "metadata": {},
   "outputs": [],
   "source": [
    "data= tuple(bio_data)"
   ]
  },
  {
   "cell_type": "code",
   "execution_count": 125,
   "id": "983a9b04-dd45-4a5e-a998-fdc11930f9da",
   "metadata": {},
   "outputs": [
    {
     "data": {
      "text/plain": [
       "('Junaud', 234, 5.6, True, 'Junaud', 'Junaud')"
      ]
     },
     "execution_count": 125,
     "metadata": {},
     "output_type": "execute_result"
    }
   ],
   "source": [
    "data"
   ]
  },
  {
   "cell_type": "code",
   "execution_count": 130,
   "id": "5c8e303d-92a4-4a6d-af11-fbd39b58e31b",
   "metadata": {},
   "outputs": [
    {
     "data": {
      "text/plain": [
       "3"
      ]
     },
     "execution_count": 130,
     "metadata": {},
     "output_type": "execute_result"
    }
   ],
   "source": [
    "data.count(\"Junaud\") # name kitni dfa arha hai"
   ]
  },
  {
   "cell_type": "code",
   "execution_count": 132,
   "id": "9958b38d-bf2a-46f2-bd82-4a4982b8c1d2",
   "metadata": {},
   "outputs": [
    {
     "data": {
      "text/plain": [
       "2"
      ]
     },
     "execution_count": 132,
     "metadata": {},
     "output_type": "execute_result"
    }
   ],
   "source": [
    "data.index(5.6)"
   ]
  },
  {
   "cell_type": "markdown",
   "id": "92bfac01-1d47-47cd-9b23-89e4c5fbf7ab",
   "metadata": {},
   "source": [
    "## Sets"
   ]
  },
  {
   "cell_type": "raw",
   "id": "14b596aa-71c8-4245-9e7c-02519bbf79cc",
   "metadata": {},
   "source": [
    "A set is an unordered collection of unique, immutable elements in Python. Sets are defined with curly braces {} or by using the set() constructor."
   ]
  },
  {
   "cell_type": "code",
   "execution_count": 133,
   "id": "00b3a44d-f09d-4392-830e-68a10a2c6a3a",
   "metadata": {},
   "outputs": [],
   "source": [
    "name= ['Junaid','aiwithqasim','Junaid']"
   ]
  },
  {
   "cell_type": "code",
   "execution_count": 134,
   "id": "a9dc71d6-1066-48e9-9b1e-df6f69ba4c49",
   "metadata": {},
   "outputs": [],
   "source": [
    "name_set = set(name)"
   ]
  },
  {
   "cell_type": "code",
   "execution_count": 135,
   "id": "de72cf4c-b1e6-4327-b42b-0fa6595adb0d",
   "metadata": {},
   "outputs": [
    {
     "data": {
      "text/plain": [
       "{'Junaid', 'aiwithqasim'}"
      ]
     },
     "execution_count": 135,
     "metadata": {},
     "output_type": "execute_result"
    }
   ],
   "source": [
    "name_set"
   ]
  },
  {
   "cell_type": "code",
   "execution_count": 137,
   "id": "748e8e3b-40b4-4cb6-9cca-841a2b844935",
   "metadata": {},
   "outputs": [],
   "source": [
    "set_a = {'a','b'}\n",
    "set_b= {'c','d'}\n",
    "universal_set = {'a','b','c','d'}"
   ]
  },
  {
   "cell_type": "code",
   "execution_count": 138,
   "id": "2ba1c0cc-bea8-41e9-8b6c-6918838084a6",
   "metadata": {},
   "outputs": [
    {
     "data": {
      "text/plain": [
       "{'c', 'd'}"
      ]
     },
     "execution_count": 138,
     "metadata": {},
     "output_type": "execute_result"
    }
   ],
   "source": [
    "universal_set.intersection(set_b)"
   ]
  },
  {
   "cell_type": "code",
   "execution_count": 139,
   "id": "d0cdb966-deba-4f69-9163-64c9fbf9bdab",
   "metadata": {},
   "outputs": [],
   "source": [
    "universal_set.update('e') # NOTE does not support different data type"
   ]
  },
  {
   "cell_type": "code",
   "execution_count": 140,
   "id": "7935e00f-7e9e-474b-87d1-d22a1f4ea3a2",
   "metadata": {},
   "outputs": [
    {
     "data": {
      "text/plain": [
       "{'c', 'd', 'e'}"
      ]
     },
     "execution_count": 140,
     "metadata": {},
     "output_type": "execute_result"
    }
   ],
   "source": [
    "universal_set.difference(set_a) # subtract"
   ]
  },
  {
   "cell_type": "code",
   "execution_count": 141,
   "id": "1e05ecd5-10e6-4ca3-9308-bbf8c3b5a65a",
   "metadata": {},
   "outputs": [],
   "source": [
    "universal_set.discard('e') # Remove E"
   ]
  },
  {
   "cell_type": "code",
   "execution_count": 142,
   "id": "eb50f8aa-3c20-4f7d-a758-809896cbf018",
   "metadata": {},
   "outputs": [
    {
     "data": {
      "text/plain": [
       "{'a', 'b', 'c', 'd'}"
      ]
     },
     "execution_count": 142,
     "metadata": {},
     "output_type": "execute_result"
    }
   ],
   "source": [
    "universal_set"
   ]
  },
  {
   "cell_type": "code",
   "execution_count": 143,
   "id": "18e337f2-99db-47f5-b1de-c5b8d75bbb94",
   "metadata": {},
   "outputs": [
    {
     "data": {
      "text/plain": [
       "{'a', 'b', 'c', 'd'}"
      ]
     },
     "execution_count": 143,
     "metadata": {},
     "output_type": "execute_result"
    }
   ],
   "source": [
    "universal_set.union(set_a)"
   ]
  },
  {
   "cell_type": "markdown",
   "id": "e3787748-22c8-4934-ab13-2507839e5450",
   "metadata": {},
   "source": [
    "### Task:\n",
    "- Create a student 'Tuple' of names and apply all methods that we learn today\n",
    "- Create a student 'set' of names and apply all methods that we learn today\n"
   ]
  },
  {
   "cell_type": "code",
   "execution_count": 144,
   "id": "78e47a35-f7b8-46f9-9ed4-418060c24ba6",
   "metadata": {},
   "outputs": [],
   "source": [
    "students = [\"Junaid\",\"Ali\",\"Bazil\",\"Bilal\",\"Abbas\",]\n",
    "std_dt = tuple(students)"
   ]
  },
  {
   "cell_type": "code",
   "execution_count": 145,
   "id": "f2629201-6a29-45e7-9bb0-f5ebcc484cc8",
   "metadata": {},
   "outputs": [
    {
     "data": {
      "text/plain": [
       "('Junaid', 'Ali', 'Bazil', 'Bilal', 'Abbas')"
      ]
     },
     "execution_count": 145,
     "metadata": {},
     "output_type": "execute_result"
    }
   ],
   "source": [
    "std_dt"
   ]
  },
  {
   "cell_type": "code",
   "execution_count": 147,
   "id": "213cc727-1a9d-4010-884f-61794c80518b",
   "metadata": {},
   "outputs": [
    {
     "data": {
      "text/plain": [
       "1"
      ]
     },
     "execution_count": 147,
     "metadata": {},
     "output_type": "execute_result"
    }
   ],
   "source": [
    "std_dt.count(\"Ali\")"
   ]
  },
  {
   "cell_type": "code",
   "execution_count": 149,
   "id": "bb6d474a-e44c-45d8-aac8-d22221d672b4",
   "metadata": {},
   "outputs": [
    {
     "data": {
      "text/plain": [
       "0"
      ]
     },
     "execution_count": 149,
     "metadata": {},
     "output_type": "execute_result"
    }
   ],
   "source": [
    "std_dt.index(\"Junaid\")"
   ]
  },
  {
   "cell_type": "code",
   "execution_count": 154,
   "id": "f9879e14-125f-4855-ad7a-e62f14743ef5",
   "metadata": {},
   "outputs": [],
   "source": [
    "set_a = {1,2}\n",
    "set_b = {3,4}\n",
    "set_c = {1,2,3,4,5,6,7,8,9,10}"
   ]
  },
  {
   "cell_type": "code",
   "execution_count": 155,
   "id": "cd767538-a36f-4aa7-810a-310778cfd41e",
   "metadata": {},
   "outputs": [
    {
     "data": {
      "text/plain": [
       "{3, 4}"
      ]
     },
     "execution_count": 155,
     "metadata": {},
     "output_type": "execute_result"
    }
   ],
   "source": [
    "set_c.intersection(set_b)"
   ]
  },
  {
   "cell_type": "code",
   "execution_count": 159,
   "id": "5bb0c719-1ee2-4405-adf9-f8ead34e9088",
   "metadata": {},
   "outputs": [],
   "source": [
    "set_c.add(11) #Add an element to a set."
   ]
  },
  {
   "cell_type": "code",
   "execution_count": 160,
   "id": "343272d7-07f5-4aeb-8f99-0024e69f7f28",
   "metadata": {},
   "outputs": [
    {
     "data": {
      "text/plain": [
       "{1, 2, 3, 4, 5, 6, 7, 8, 9, 10, 11}"
      ]
     },
     "execution_count": 160,
     "metadata": {},
     "output_type": "execute_result"
    }
   ],
   "source": [
    "set_c"
   ]
  },
  {
   "cell_type": "code",
   "execution_count": 162,
   "id": "8b227119-e1c2-4ec7-832b-8f9eab601cdd",
   "metadata": {},
   "outputs": [],
   "source": [
    "set_c.intersection_update(set_b) #Update the set, keeping only elements found in it and all others."
   ]
  },
  {
   "cell_type": "code",
   "execution_count": 163,
   "id": "1b713786-bbb8-40f6-8756-7ed02128b609",
   "metadata": {},
   "outputs": [
    {
     "data": {
      "text/plain": [
       "{3, 4}"
      ]
     },
     "execution_count": 163,
     "metadata": {},
     "output_type": "execute_result"
    }
   ],
   "source": [
    "set_c"
   ]
  },
  {
   "cell_type": "code",
   "execution_count": 164,
   "id": "2f72022f-f479-44bb-b240-bf9fc94a6b41",
   "metadata": {},
   "outputs": [
    {
     "data": {
      "text/plain": [
       "True"
      ]
     },
     "execution_count": 164,
     "metadata": {},
     "output_type": "execute_result"
    }
   ],
   "source": [
    "set_c.issubset(set_b)  #Report whether another set contains this set."
   ]
  },
  {
   "cell_type": "code",
   "execution_count": 165,
   "id": "1a85e1e6-7571-46ae-98ee-dd99911a0b6b",
   "metadata": {},
   "outputs": [],
   "source": [
    "new_set=set_c.copy() # Return a shallow copy of set"
   ]
  },
  {
   "cell_type": "code",
   "execution_count": 166,
   "id": "a5a4e00e-0b38-4dfe-8084-bfbe139f3128",
   "metadata": {},
   "outputs": [
    {
     "data": {
      "text/plain": [
       "{3, 4}"
      ]
     },
     "execution_count": 166,
     "metadata": {},
     "output_type": "execute_result"
    }
   ],
   "source": [
    "new_set"
   ]
  },
  {
   "cell_type": "code",
   "execution_count": 167,
   "id": "3f0dbe58-8b32-4786-8a78-3cff1bfaf7db",
   "metadata": {},
   "outputs": [],
   "source": [
    "new_set= set_c"
   ]
  },
  {
   "cell_type": "code",
   "execution_count": 168,
   "id": "be61cebd-0810-437f-936d-3b12a01150b4",
   "metadata": {},
   "outputs": [
    {
     "data": {
      "text/plain": [
       "({3, 4}, {3, 4})"
      ]
     },
     "execution_count": 168,
     "metadata": {},
     "output_type": "execute_result"
    }
   ],
   "source": [
    "new_set, set_c"
   ]
  },
  {
   "cell_type": "code",
   "execution_count": 172,
   "id": "4b404592-7012-4df1-a2ae-22c6cc62abb4",
   "metadata": {},
   "outputs": [
    {
     "data": {
      "text/plain": [
       "True"
      ]
     },
     "execution_count": 172,
     "metadata": {},
     "output_type": "execute_result"
    }
   ],
   "source": [
    "new_set.issuperset(set_b) #Report whether this set contains another set"
   ]
  },
  {
   "cell_type": "code",
   "execution_count": 173,
   "id": "eaf61e0f-8f3e-41a7-8be1-44cef88507f3",
   "metadata": {},
   "outputs": [
    {
     "data": {
      "text/plain": [
       "{1, 2, 3, 4}"
      ]
     },
     "execution_count": 173,
     "metadata": {},
     "output_type": "execute_result"
    }
   ],
   "source": [
    "new_set.symmetric_difference(set_a) #elements unique to each set, excluding common ones"
   ]
  },
  {
   "cell_type": "code",
   "execution_count": 178,
   "id": "4864262e-77bf-4322-af8e-889a196f765d",
   "metadata": {},
   "outputs": [
    {
     "data": {
      "text/plain": [
       "{3, 4}"
      ]
     },
     "execution_count": 178,
     "metadata": {},
     "output_type": "execute_result"
    }
   ],
   "source": [
    "set_b"
   ]
  },
  {
   "cell_type": "code",
   "execution_count": 182,
   "id": "c48e5cc6-758c-4e08-94bd-329a1dc2c494",
   "metadata": {},
   "outputs": [
    {
     "data": {
      "text/plain": [
       "3"
      ]
     },
     "execution_count": 182,
     "metadata": {},
     "output_type": "execute_result"
    }
   ],
   "source": [
    "new_set.pop() #Remove and return an arbitrary set element."
   ]
  },
  {
   "cell_type": "markdown",
   "id": "208b5992-cfc6-4c4f-ab81-6ae53e43ab50",
   "metadata": {},
   "source": [
    "## Value by Reference"
   ]
  },
  {
   "cell_type": "code",
   "execution_count": 1,
   "id": "cb4cb610-f93a-444e-bab2-4dbb1b80836f",
   "metadata": {},
   "outputs": [
    {
     "data": {
      "text/plain": [
       "[23, 2, 3, 4]"
      ]
     },
     "execution_count": 1,
     "metadata": {},
     "output_type": "execute_result"
    }
   ],
   "source": [
    "a = [1,2,3,4]\n",
    "a[0] =23\n",
    "a"
   ]
  },
  {
   "cell_type": "markdown",
   "id": "0a66a4f2-98c0-4aa4-bbb7-c436a6c2ce52",
   "metadata": {},
   "source": [
    "### Shallow and Deep Copy"
   ]
  },
  {
   "cell_type": "code",
   "execution_count": null,
   "id": "9a1f8044-e78e-40a7-8e83-c6dc62172c1a",
   "metadata": {},
   "outputs": [],
   "source": [
    "z = [\"Karachi\",[\"Lahore\"], \"Quetta\"]\n",
    "e = z.[:]"
   ]
  }
 ],
 "metadata": {
  "kernelspec": {
   "display_name": "Python 3 (ipykernel)",
   "language": "python",
   "name": "python3"
  },
  "language_info": {
   "codemirror_mode": {
    "name": "ipython",
    "version": 3
   },
   "file_extension": ".py",
   "mimetype": "text/x-python",
   "name": "python",
   "nbconvert_exporter": "python",
   "pygments_lexer": "ipython3",
   "version": "3.13.5"
  }
 },
 "nbformat": 4,
 "nbformat_minor": 5
}
